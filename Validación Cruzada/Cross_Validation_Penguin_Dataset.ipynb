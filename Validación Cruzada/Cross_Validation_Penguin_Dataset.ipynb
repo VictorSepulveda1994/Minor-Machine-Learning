{
  "nbformat": 4,
  "nbformat_minor": 0,
  "metadata": {
    "colab": {
      "provenance": [],
      "authorship_tag": "ABX9TyMHiuAb6IBNb5I78eS+jgli",
      "include_colab_link": true
    },
    "kernelspec": {
      "name": "python3",
      "display_name": "Python 3"
    },
    "language_info": {
      "name": "python"
    }
  },
  "cells": [
    {
      "cell_type": "markdown",
      "metadata": {
        "id": "view-in-github",
        "colab_type": "text"
      },
      "source": [
        "<a href=\"https://colab.research.google.com/github/VictorSepulveda1994/Minor-Machine-Learning/blob/main/Validaci%C3%B3n%20Cruzada/Cross_Validation_Penguin_Dataset.ipynb\" target=\"_parent\"><img src=\"https://colab.research.google.com/assets/colab-badge.svg\" alt=\"Open In Colab\"/></a>"
      ]
    },
    {
      "cell_type": "code",
      "execution_count": null,
      "metadata": {
        "id": "JYjvmSZrCe03"
      },
      "outputs": [],
      "source": []
    }
  ]
}