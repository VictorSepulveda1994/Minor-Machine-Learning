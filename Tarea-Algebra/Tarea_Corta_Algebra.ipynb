{
  "nbformat": 4,
  "nbformat_minor": 0,
  "metadata": {
    "colab": {
      "name": "Tarea Corta: Algebra.ipynb",
      "provenance": [],
      "collapsed_sections": [],
      "toc_visible": true,
      "authorship_tag": "ABX9TyMLW7FPU07h9qOQSokj3G8o",
      "include_colab_link": true
    },
    "kernelspec": {
      "name": "python3",
      "display_name": "Python 3"
    },
    "language_info": {
      "name": "python"
    }
  },
  "cells": [
    {
      "cell_type": "markdown",
      "metadata": {
        "id": "view-in-github",
        "colab_type": "text"
      },
      "source": [
        "<a href=\"https://colab.research.google.com/github/VictorSepulveda1994/Minor-Machine-Learning/blob/main/Tarea-Algebra/Tarea_Corta_Algebra.ipynb\" target=\"_parent\"><img src=\"https://colab.research.google.com/assets/colab-badge.svg\" alt=\"Open In Colab\"/></a>"
      ]
    },
    {
      "cell_type": "markdown",
      "source": [
        "# Tarea Corta: Algebra\n",
        "> A continuación, se presenta un pequeño ejercicio de álgebra.\n",
        "\n",
        "\n"
      ],
      "metadata": {
        "id": "ur4B1g1usfGT"
      }
    },
    {
      "cell_type": "markdown",
      "source": [
        "## Considere el siguiente problema\n",
        "> Si 2 boletos de adulto y 1 boleto de niño cuestan \\$32, y si 1 boleto de adulto y 3 boletos de niño cuestan \\$36, ¿cuál es el precio de cada uno?"
      ],
      "metadata": {
        "id": "DcnAIEbXuIcr"
      }
    },
    {
      "cell_type": "markdown",
      "source": [
        "## A continuación\n",
        ">Se pide construir un Jupiter notebook que contenga la descripción en texto de la resolución del sistema de ecuaciones (1 punto) y el código python que realiza el gráfico respectivo (1 punto)."
      ],
      "metadata": {
        "id": "T_PeNFp6yMmt"
      }
    },
    {
      "cell_type": "markdown",
      "source": [
        "# Resolución del Problema\n",
        ">En esta sección se describirá la solución del problema planteado."
      ],
      "metadata": {
        "id": "D9pB3NEExVyx"
      }
    },
    {
      "cell_type": "markdown",
      "source": [
        "## Sistema de Ecuaciones\n",
        ">Sea $x$ el valor de un boleto para adulto e $y$ el valor de un boleto para niño, entonces, el sistema de ecuaciones que deriva del problema planteado, es el siguiente:\n",
        "\n",
        "1. $ 2x + y = \\$32 $\n",
        "2. $ x + 3y = \\$36 $"
      ],
      "metadata": {
        "id": "z5KCFq4qzhv-"
      }
    },
    {
      "cell_type": "markdown",
      "source": [
        "## Encontrando los valores de  $x$  e  $y$\n",
        "\n",
        "* Despejando $y$ en la ecuación $1$ y en la ecuación $2$, se obtiene:\n",
        "\n",
        " $ y_1 = \\$32 - 2x $ ( **ecuación 3** )\n",
        "\n",
        " $ y_2 = \\frac{\\$36 - x}{3}$ ( **ecuación 4** )\n",
        "\n",
        "* Igualando las ecuaciones $3$ y $4$ para obtener el valor de $x$, asumiendo que $y_1$ e $y_2$ son iguales en algún valor de $x$.\n",
        "\n",
        " $ y_1 = y_2  $\n",
        "\n",
        " $ \\$32 - 2x = \\frac{\\$36 - x}{3} $\n",
        "\n",
        " $ 3 · (\\$32 - 2x) = \\$36 - x $\n",
        "\n",
        " $ \\$96 - 6x = \\$36 - x $\n",
        "\n",
        " $ \\$96 - \\$36 = 6x - x $ \n",
        "\n",
        " $ \\$60 = 5x $\n",
        "\n",
        " $ \\frac{\\$60}{5} = x $\n",
        "\n",
        " $ \\$12 = x $ ◀\n",
        "\n",
        "* Reemplazando el valor de $x$ en la ecuación $1$ para obtener $y$.\n",
        "\n",
        " $ 2 ⋅ (\\$12) + y = \\$32 $\n",
        "\n",
        " $ \\$24 + y = \\$32 $\n",
        "\n",
        " $ y = \\$32 - \\$24 $\n",
        "\n",
        " $ y = \\$8 $ ◀\n",
        "\n",
        "* Nota: Si se reemplazan dichos valores de $x$  e  $y$  en ambas ecuaciones (1 y 2), la igualdad se mantiene."
      ],
      "metadata": {
        "id": "kZT3WJfiMpM4"
      }
    },
    {
      "cell_type": "markdown",
      "source": [
        "## Respuesta\n",
        ">El valor de **un boleto para adulto** es de $\\$12$.\n",
        "\n",
        ">El valor de **un boleto para niño** es de $\\$8$."
      ],
      "metadata": {
        "id": "W_NjjCLGGVju"
      }
    },
    {
      "cell_type": "markdown",
      "source": [
        "#Graficando el problema\n",
        "\n",
        "En ésta sección se graficará la solución del problema planteado."
      ],
      "metadata": {
        "id": "D1PF3LdNIXr5"
      }
    },
    {
      "cell_type": "code",
      "source": [
        "# Se importan las librerias necesarias\n",
        "import numpy as np\n",
        "import matplotlib.pyplot as plt"
      ],
      "metadata": {
        "id": "lZc3okoyKHfx"
      },
      "execution_count": null,
      "outputs": []
    },
    {
      "cell_type": "code",
      "source": [
        "# Se generan los valores que podrá tener la variable x\n",
        "x = np.linspace(0, 36, 1000) # start, finish, n points"
      ],
      "metadata": {
        "id": "C6b-WRI2KP3d"
      },
      "execution_count": null,
      "outputs": []
    },
    {
      "cell_type": "markdown",
      "source": [
        "Se utilizarán las ecuaciones $3$ y $4$ de la sección anterior, ya que, derivan del sistema principal de ecuaciones.\n",
        "\n",
        " $ y_1 = \\$32 - 2x $ ( **ecuación 3** )\n",
        "\n",
        " $ y_2 = \\frac{\\$36 - x}{3}$ ( **ecuación 4** )"
      ],
      "metadata": {
        "id": "HHb9P_SCOPLh"
      }
    },
    {
      "cell_type": "code",
      "source": [
        "y_1 = 32 - (2*x)\n",
        "y_2 = (36 - x) / 3"
      ],
      "metadata": {
        "id": "-aLIw-N9KqcG"
      },
      "execution_count": null,
      "outputs": []
    },
    {
      "cell_type": "markdown",
      "source": [
        "Se asignan las variables y valores correspondientes para graficar la solución."
      ],
      "metadata": {
        "id": "NdVIPnJAjegE"
      }
    },
    {
      "cell_type": "code",
      "source": [
        "# Se genera y muestra el gráfico\n",
        "fig, ax = plt.subplots()\n",
        "plt.title('Valores de Boletos')\n",
        "plt.xlabel('Valor Boleto Adulto ($)')\n",
        "plt.ylabel('Valor Boleto Niño ($)')\n",
        "ax.set_xlim([0, 36])\n",
        "ax.set_ylim([0, 32])\n",
        "ax.plot(x, y_1, c='green')\n",
        "ax.plot(x, y_2, c='brown')\n",
        "plt.axvline(x=12, color='purple', linestyle='--')\n",
        "_ = plt.axhline(y=8, color='purple', linestyle='--')"
      ],
      "metadata": {
        "colab": {
          "base_uri": "https://localhost:8080/",
          "height": 295
        },
        "id": "dNtztWaMdA25",
        "outputId": "49352338-7e16-4ebd-e7e6-854e316c5360"
      },
      "execution_count": null,
      "outputs": [
        {
          "output_type": "display_data",
          "data": {
            "text/plain": [
              "<Figure size 432x288 with 1 Axes>"
            ],
            "image/png": "[encoded data removed]"
          },
          "metadata": {
            "needs_background": "light"
          }
        }
      ]
    },
    {
      "cell_type": "markdown",
      "source": [
        "La linea morada indica la intersección entre $x$ (valor del boleto adulto) e $y$ (valor del boleto niño). Cuando el valor de $x$ es $ \\$12 $ el de $y$ es \n",
        "$ \\$8 $, tal como el resultado que fue obtenido en la sección anterior."
      ],
      "metadata": {
        "id": "Qa8zcTDxhI8X"
      }
    }
  ]
}