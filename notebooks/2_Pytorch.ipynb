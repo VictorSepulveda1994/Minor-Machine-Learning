{
  "cells": [
    {
      "cell_type": "markdown",
      "metadata": {
        "id": "view-in-github",
        "colab_type": "text"
      },
      "source": [
        "<a href=\"https://colab.research.google.com/github/VictorSepulveda1994/Minor-Machine-Learning/blob/main/notebooks/2_Pytorch.ipynb\" target=\"_parent\"><img src=\"https://colab.research.google.com/assets/colab-badge.svg\" alt=\"Open In Colab\"/></a>"
      ]
    },
    {
      "cell_type": "markdown",
      "source": [
        "<a href=\"https://colab.research.google.com/drive/1OkpxtDJri93FBHi67LOmWH4xd63i6dYs#scrollTo=__eamjB8fCPc\" target=\"_parent\"><img src=\"https://colab.research.google.com/assets/colab-badge.svg\" alt=\"Open in Colab\"/></a>"
      ],
      "metadata": {
        "id": "__eamjB8fCPc"
      }
    },
    {
      "cell_type": "markdown",
      "source": [
        "# ![](https://images.g2crowd.com/uploads/product/image/social_landscape/social_landscape_656e174b12c49be1cfb4723a938ea43e/pytorch.png)"
      ],
      "metadata": {
        "id": "n8cEKOFGyFHg"
      }
    },
    {
      "cell_type": "markdown",
      "source": [
        "\n",
        "\n",
        "PyTorch es un **Framework de Deep Learning** de código abierto que se utiliza para desarrollar y entrenar redes neuronales. Es desarrollado principalmente por el grupo de investigación de IA de Facebook. PyTorch se puede usar tanto con Python como con C++. Naturalmente, la interfaz de Python está más pulida. \n",
        "\n",
        "Un Framework de Deep Learning es un conjunto de interfaces, librerías o herramientas que nos permiten construir modelos de aprendizaje profundo de manera más fácil y rápida, sin entrar en los detalles de los algoritmos subyacentes. Proporcionan una forma clara y concisa de definir modelos utilizando una colección de componentes optimizados y prediseñados. Sus principales características son:\n",
        "* Codificación en alto nivel\n",
        "* Cálculo automático de los gradientes\n",
        "* Paralelización de los procesos\n",
        "* Soporte de la comunidad\n",
        "\n",
        "A diferencia de la mayoría de los otros frameworks populares como TensorFlow, que utilizan grafos computacionales estáticos, PyTorch utiliza grafos dinámicos, lo que permite una mayor flexibilidad en la construcción de arquitecturas complejas. \n",
        "\n",
        "Además, Pytorch utiliza conceptos básicos de Python como clases, estructuras y bucles condicionales, que son muy familiares para nuestros ojos y, por lo tanto, mucho más intuitivos de entender. Esto lo hace mucho más simple que otros frameworks como TensorFlow que aportan su propio estilo de programación.\n"
      ],
      "metadata": {
        "id": "NJ9S0VipTlFW"
      }
    },
    {
      "cell_type": "markdown",
      "source": [
        "\n",
        "\n",
        "Introducción a los Tensores de PyTorch\n",
        "==============================="
      ],
      "metadata": {
        "id": "_g6sBzx7x189"
      }
    },
    {
      "cell_type": "markdown",
      "metadata": {
        "id": "ooK6TyhfTMuu"
      },
      "source": [
        "\n",
        "\n",
        "Los tensores son la abstracción de datos central en PyTorch. Este notebook interactivo\n",
        " proporciona una introducción detallada a la clase ``torch.Tensor``.\n",
        "\n",
        "Lo primero es lo primero, importemos el módulo PyTorch. También agregaremos\n",
        "el módulo `math` de Python para facilitar algunos de los ejemplos.\n"
      ]
    },
    {
      "cell_type": "code",
      "execution_count": null,
      "metadata": {
        "id": "gDhfvzu6TMuz"
      },
      "outputs": [],
      "source": [
        "import torch\n",
        "import math"
      ]
    },
    {
      "cell_type": "markdown",
      "source": [],
      "metadata": {
        "id": "Fq-Bq7OxVYwc"
      }
    },
    {
      "cell_type": "markdown",
      "metadata": {
        "id": "eT3GLFLZTMu0"
      },
      "source": [
        "Crear tensores\n",
        "----------------\n",
        "\n",
        "La forma más sencilla de crear un tensor es con la llamada ``torch.empty()``:\n",
        "\n",
        "\n"
      ]
    },
    {
      "cell_type": "code",
      "execution_count": null,
      "metadata": {
        "id": "pseXKEheTMu3",
        "outputId": "7eba2b05-cb37-4090-a62e-93bf2bd5ddeb",
        "colab": {
          "base_uri": "https://localhost:8080/"
        }
      },
      "outputs": [
        {
          "output_type": "stream",
          "name": "stdout",
          "text": [
            "<class 'torch.Tensor'>\n",
            "tensor([[[ 6272,  1359,     0,     0,    77],\n",
            "         [    0,     0,     0,     0,     0],\n",
            "         [    0,     0,     0,     0,     0],\n",
            "         [    0,     0,     0,  8293, 29796]],\n",
            "\n",
            "        [[ 8827, 29811, 29793, 29557, 14882],\n",
            "         [ 8736, 27503, 11298,  8736, 30821],\n",
            "         [25445, 29813, 28521, 24430, 28515],\n",
            "         [28277,  8820,  8250, 11314,  8736]],\n",
            "\n",
            "        [[29557, 29285, 25951, 28792, 25970],\n",
            "         [29555, 28521, 29550, 14882, 31520],\n",
            "         [11389,  8736, 24944, 27769, 24943],\n",
            "         [ 8804,  8250, 23899, 15741, 28494]]], dtype=torch.int16)\n"
          ]
        }
      ],
      "source": [
        "x = torch.empty(3, 4, 5,dtype=torch.int16)\n",
        "print(type(x))\n",
        "print(x)"
      ]
    },
    {
      "cell_type": "code",
      "source": [
        "x2 = torch.empty(3, 4,dtype=torch.int16)\n",
        "print(type(x2))\n",
        "print(x2)"
      ],
      "metadata": {
        "colab": {
          "base_uri": "https://localhost:8080/"
        },
        "id": "nahGTye4LPRM",
        "outputId": "0802ce2e-9cd6-4fa7-95f5-0bc90109384f"
      },
      "execution_count": null,
      "outputs": [
        {
          "output_type": "stream",
          "name": "stdout",
          "text": [
            "<class 'torch.Tensor'>\n",
            "tensor([[3456, 1656,    0,    0],\n",
            "        [  24,    0,    0,    0],\n",
            "        [  -1,   -1,    0,    0]], dtype=torch.int16)\n"
          ]
        }
      ]
    },
    {
      "cell_type": "markdown",
      "metadata": {
        "id": "jUCCPgtVTMu4"
      },
      "source": [
        "Desempaquemos lo que acabamos de hacer:\n",
        "\n",
        "- Creamos un tensor utilizando uno de los numerosos métodos constructores provistos por ``torch``.\n",
        "- El tensor en sí es bidimensional, tiene 3 filas y 4 columnas.\n",
        "- El tipo de objeto devuelto es ``torch.Tensor``, que es un\n",
        "   alias para ``torch.FloatTensor``; por defecto, los tensores de PyTorch son\n",
        "   poblados con números de punto flotante de 32 bits. \n",
        "- Probablemente verá algunos valores de aspecto aleatorio al imprimir su\n",
        "   tensor. La llamada ``torch.empty()`` asigna memoria para el tensor,\n",
        "   pero no lo inicializa con ningún valor, por lo que lo que está viendo es\n",
        "   lo que estaba en la memoria en el momento de la asignación.\n",
        "\n",
        "Una breve nota sobre los tensores y su número de dimensiones, y\n",
        "terminología:\n",
        "\n",
        "- A veces verás un tensor unidimensional llamado\n",
        "   **vector**\n",
        "- Del mismo modo, un tensor bidimensional a menudo se denomina\n",
        "   **matriz**\n",
        "- Cualquier cosa con más de dos dimensiones generalmente es solo\n",
        "   llamado tensor.\n",
        "\n",
        "La mayoría de las veces, querrá inicializar su tensor con algún\n",
        "valor. Los casos comunes son todos ceros, todos unos o valores aleatorios, y el\n",
        " módulo ``torch`` proporciona métodos constructores para todos estos:\n",
        "\n",
        "\n"
      ]
    },
    {
      "cell_type": "code",
      "execution_count": null,
      "metadata": {
        "id": "7dGYpwUpTMu6",
        "outputId": "ea3ba859-ee5b-4651-954d-badc5c4c8fa2",
        "colab": {
          "base_uri": "https://localhost:8080/"
        }
      },
      "outputs": [
        {
          "output_type": "stream",
          "name": "stdout",
          "text": [
            "tensor([[[0., 0., 0., 0.],\n",
            "         [0., 0., 0., 0.],\n",
            "         [0., 0., 0., 0.]],\n",
            "\n",
            "        [[0., 0., 0., 0.],\n",
            "         [0., 0., 0., 0.],\n",
            "         [0., 0., 0., 0.]]])\n",
            "tensor([[[1., 1., 1., 1.],\n",
            "         [1., 1., 1., 1.],\n",
            "         [1., 1., 1., 1.]],\n",
            "\n",
            "        [[1., 1., 1., 1.],\n",
            "         [1., 1., 1., 1.],\n",
            "         [1., 1., 1., 1.]]])\n",
            "tensor([[[0.3126, 0.3791, 0.3087, 0.0736],\n",
            "         [0.4216, 0.0691, 0.2332, 0.4047],\n",
            "         [0.2162, 0.9927, 0.4128, 0.5938]],\n",
            "\n",
            "        [[0.6128, 0.1519, 0.0453, 0.5035],\n",
            "         [0.9978, 0.3884, 0.6929, 0.1703],\n",
            "         [0.1384, 0.4759, 0.7481, 0.0361]]])\n"
          ]
        }
      ],
      "source": [
        "zeros = torch.zeros(2, 3, 4)\n",
        "print(zeros)\n",
        "\n",
        "ones = torch.ones(2, 3, 4)\n",
        "print(ones)\n",
        "\n",
        "torch.manual_seed(1729)\n",
        "random = torch.rand(2, 3, 4)\n",
        "print(random)"
      ]
    },
    {
      "cell_type": "markdown",
      "source": [
        "Todos los métodos constructores hacen exactamente lo que cabría esperar: tenemos un tensor\n",
        "lleno de ceros, otro lleno de unos y otro con valores aleatorios\n",
        "entre 0 y 1."
      ],
      "metadata": {
        "id": "NPzwSuPIvivv"
      }
    },
    {
      "cell_type": "markdown",
      "metadata": {
        "id": "4T2cCWllTMu8"
      },
      "source": [
        "\n",
        "\n",
        "### Tensores Aleatorios y Semillas\n",
        "\n",
        "Hablando del tensor aleatorio, ¿notaste la llamada a\n",
        "``torch.manual_seed()`` inmediatamente anterior? Inicializar tensores,\n",
        "como los pesos de aprendizaje de un modelo, con valores aleatorios es común pero\n",
        "hay momentos, especialmente en entornos de investigación, en los que querrá\n",
        "cierta seguridad de la reproducibilidad de sus resultados. Asignar manualmente \n",
        "la semilla de su generador de números aleatorios es la forma de hacer esto. Miremos\n",
        "más cerca:\n",
        "\n",
        "\n"
      ]
    },
    {
      "cell_type": "code",
      "execution_count": null,
      "metadata": {
        "id": "NC6izNfSTMu9",
        "outputId": "a61b2349-98ac-4096-c51b-c21899e896f3",
        "colab": {
          "base_uri": "https://localhost:8080/"
        }
      },
      "outputs": [
        {
          "output_type": "stream",
          "name": "stdout",
          "text": [
            "tensor([[0.3126, 0.3791, 0.3087],\n",
            "        [0.0736, 0.4216, 0.0691]])\n",
            "tensor([[0.2332, 0.4047, 0.2162],\n",
            "        [0.9927, 0.4128, 0.5938]])\n",
            "tensor([[0.3126, 0.3791, 0.3087],\n",
            "        [0.0736, 0.4216, 0.0691]])\n",
            "tensor([[0.2332, 0.4047, 0.2162],\n",
            "        [0.9927, 0.4128, 0.5938]])\n"
          ]
        }
      ],
      "source": [
        "torch.manual_seed(1729)\n",
        "random1 = torch.rand(2, 3)\n",
        "print(random1)\n",
        "\n",
        "random2 = torch.rand(2, 3)\n",
        "print(random2)\n",
        "\n",
        "torch.manual_seed(1729)\n",
        "random3 = torch.rand(2, 3)\n",
        "print(random3)\n",
        "\n",
        "random4 = torch.rand(2, 3)\n",
        "print(random4)"
      ]
    },
    {
      "cell_type": "markdown",
      "metadata": {
        "id": "7dl8Mg-PTMu_"
      },
      "source": [
        "Lo que deberías ver arriba es que ``random1`` y ``random3`` llevan\n",
        "valores idénticos, al igual que ``random2`` y ``random4``. La asignación manual\n",
        "la semilla del generador de numeros aleatorios lo reinicia, de modo que los cálculos idénticos sobre\n",
        "números aleatorios deberían, en la mayoría de los entornos, proporcionar resultados idénticos.\n",
        "\n",
        "Para obtener más información, consulte la documentación de PyTorch sobre\n",
        "reproducibilidad <https://pytorch.org/docs/stable/notes/randomness.html>`__.\n",
        "\n",
        "\n",
        "\n",
        "\n"
      ]
    },
    {
      "cell_type": "markdown",
      "source": [
        "### Formas de los Tensores\n",
        "\n",
        "A menudo, para poder realizar operaciones en dos o más tensores, estos\n",
        "tendrán que tener la misma ***forma***, es decir, tener el mismo número de\n",
        "dimensiones y el mismo número de celdas en cada dimensión. Para garantizar eso existen los métodos ``torch.*_like()``:"
      ],
      "metadata": {
        "id": "3wE-qyutZgPj"
      }
    },
    {
      "cell_type": "markdown",
      "source": [],
      "metadata": {
        "id": "KvOczhBNj20c"
      }
    },
    {
      "cell_type": "code",
      "execution_count": null,
      "metadata": {
        "id": "b2AT3oquTMvA",
        "outputId": "133dcb8f-0280-436b-eae2-164ec00efe21",
        "colab": {
          "base_uri": "https://localhost:8080/"
        }
      },
      "outputs": [
        {
          "output_type": "stream",
          "name": "stdout",
          "text": [
            "torch.Size([2, 2, 3])\n",
            "tensor([[[1.0318e-35, 0.0000e+00, 1.5414e-43],\n",
            "         [1.4013e-43, 1.3312e-43, 1.5134e-43]],\n",
            "\n",
            "        [[1.4714e-43, 1.4994e-43, 1.4153e-43],\n",
            "         [1.3312e-43, 1.6816e-43, 0.0000e+00]]])\n",
            "torch.Size([2, 2, 3])\n",
            "tensor([[[1.0318e-35, 0.0000e+00, 3.3631e-44],\n",
            "         [0.0000e+00,        nan, 1.5912e+00]],\n",
            "\n",
            "        [[1.1578e+27, 1.1362e+30, 7.1547e+22],\n",
            "         [4.5828e+30, 1.2121e+04, 7.1846e+22]]])\n",
            "torch.Size([2, 2, 3])\n",
            "tensor([[[0., 0., 0.],\n",
            "         [0., 0., 0.]],\n",
            "\n",
            "        [[0., 0., 0.],\n",
            "         [0., 0., 0.]]])\n",
            "torch.Size([2, 2, 3])\n",
            "tensor([[[1., 1., 1.],\n",
            "         [1., 1., 1.]],\n",
            "\n",
            "        [[1., 1., 1.],\n",
            "         [1., 1., 1.]]])\n",
            "torch.Size([2, 2, 3])\n",
            "tensor([[[0.6128, 0.1519, 0.0453],\n",
            "         [0.5035, 0.9978, 0.3884]],\n",
            "\n",
            "        [[0.6929, 0.1703, 0.1384],\n",
            "         [0.4759, 0.7481, 0.0361]]])\n"
          ]
        }
      ],
      "source": [
        "x = torch.empty(2, 2, 3)\n",
        "print(x.shape)\n",
        "print(x)\n",
        "\n",
        "empty_like_x = torch.empty_like(x)\n",
        "print(empty_like_x.shape)\n",
        "print(empty_like_x)\n",
        "\n",
        "zeros_like_x = torch.zeros_like(x)\n",
        "print(zeros_like_x.shape)\n",
        "print(zeros_like_x)\n",
        "\n",
        "ones_like_x = torch.ones_like(x)\n",
        "print(ones_like_x.shape)\n",
        "print(ones_like_x)\n",
        "\n",
        "rand_like_x = torch.rand_like(x)\n",
        "print(rand_like_x.shape)\n",
        "print(rand_like_x)"
      ]
    },
    {
      "cell_type": "markdown",
      "metadata": {
        "id": "lqzcMLb6TMvB"
      },
      "source": [
        "Lo primero nuevo en la celda de código de arriba es el uso del atributo ``.shape``\n",
        "de todo tensor. Este atributo contiene una lista con el tamaño de\n",
        "cada dimensión de un tensor - en nuestro caso, ``x`` es un tensor tridimensional\n",
        " con forma 2 x 2 x 3.\n",
        "\n",
        "Debajo de eso, llamamos a los métodos ``.empty_like()``, ``.zeros_like()``,\n",
        "``.ones_like()`` y ``.rand_like()``. Usando el atributo ``.shape``, podemos verificar que cada uno de estos métodos devuelve un tensor de\n",
        "dimensionalidad y extensión idénticas.\n",
        "\n",
        "La última forma de crear un tensor es especificar sus datos\n",
        "directamente desde una colección de PyTorch:\n",
        "\n"
      ]
    },
    {
      "cell_type": "code",
      "execution_count": null,
      "metadata": {
        "id": "ESchpYJQTMvC",
        "outputId": "17c3dda9-074d-408c-e429-5a591a05d422",
        "colab": {
          "base_uri": "https://localhost:8080/"
        }
      },
      "outputs": [
        {
          "output_type": "stream",
          "name": "stdout",
          "text": [
            "tensor([[3.1416, 2.7183],\n",
            "        [1.6180, 0.0073]])\n",
            "tensor([ 2,  3,  5,  7, 11, 13, 17, 19])\n",
            "tensor([[2, 4, 6],\n",
            "        [3, 6, 9]])\n"
          ]
        }
      ],
      "source": [
        "some_constants = torch.tensor([[3.1415926, 2.71828], [1.61803, 0.0072897]])\n",
        "print(some_constants)\n",
        "\n",
        "some_integers = torch.tensor((2, 3, 5, 7, 11, 13, 17, 19))\n",
        "print(some_integers)\n",
        "\n",
        "more_integers = torch.tensor(((2, 4, 6), [3, 6, 9]))\n",
        "print(more_integers)"
      ]
    },
    {
      "cell_type": "markdown",
      "source": [
        "Usar ``torch.tensor()`` es la forma más sencilla de crear un\n",
        "tensor si ya tiene datos en una tupla o lista de Python. Como se muestra\n",
        "anterior, el anidamiento de las colecciones dará como resultado un tensor multidimensional.\n"
      ],
      "metadata": {
        "id": "3P_2n1FYa1_Q"
      }
    },
    {
      "cell_type": "markdown",
      "metadata": {
        "id": "E_SbqrakTMvC"
      },
      "source": [
        "### Tipos de datos de un Tensor\n",
        "\n",
        "Establecer el tipo de datos de un tensor es posible de dos maneras:\n",
        "\n"
      ]
    },
    {
      "cell_type": "code",
      "execution_count": null,
      "metadata": {
        "id": "pMhBQyZKTMvD",
        "outputId": "6c53efa3-094e-4ae1-84cb-2cacbc1ddbcc",
        "colab": {
          "base_uri": "https://localhost:8080/"
        }
      },
      "outputs": [
        {
          "output_type": "stream",
          "name": "stdout",
          "text": [
            "tensor([[1, 1, 1],\n",
            "        [1, 1, 1]], dtype=torch.int16)\n",
            "tensor([[ 0.9956,  1.4148,  5.8364],\n",
            "        [11.2406, 11.2083, 11.6692]], dtype=torch.float64)\n",
            "tensor([[ 0,  1,  5],\n",
            "        [11, 11, 11]], dtype=torch.int32)\n"
          ]
        }
      ],
      "source": [
        "a = torch.ones((2, 3), dtype=torch.int16)\n",
        "print(a)\n",
        "\n",
        "b = torch.rand((2, 3), dtype=torch.float64) * 20.\n",
        "print(b)\n",
        "\n",
        "c = b.to(torch.int32)\n",
        "print(c)"
      ]
    },
    {
      "cell_type": "markdown",
      "metadata": {
        "id": "Rbe0ZGSmTMvD"
      },
      "source": [
        "La forma más sencilla de establecer el tipo de datos subyacente de un tensor es con un argumento opcional en el momento de la creación. En la primera línea de la celda de arriba,\n",
        "configuramos ``dtype=torch.int16`` para el tensor ``a``. Cuando imprimimos ``a``, podemos ver que está lleno de ``1`` en lugar de ``1.`` - Python indica que este es un tipo entero en lugar de un punto flotante.\n",
        "\n",
        "Otra cosa a tener en cuenta sobre la impresión de ``a`` es que, a diferencia de cuando dejamos ``dtype`` como predeterminado (coma flotante de 32 bits), imprimiendo el tensor también especifica su ``dtype``.\n",
        "\n",
        "Es posible que también haya notado que pasamos de especificar la forma del tensor como una serie de argumentos enteros, a agrupar esos argumentos en un tupla. Esto no es estrictamente necesario: PyTorch tomará una serie de argumentos enteros iniciales sin etiquetar como la forma del tensor, pero al agregar\n",
        "los argumentos opcionales, ponerlos como tupla puede hacer que su intención sea más legible.\n",
        "\n",
        "La otra forma de establecer el tipo de datos es con el método ``.to()``. En la celda de arriba, creamos un tensor de punto flotante aleatorio ``b`` de la manera habitual. A continuación, creamos ``c`` convirtiendo ``b`` en un tensor entero  de 32 bits\n",
        "con el método ``.to()``. Tenga en cuenta que ``c`` contiene todos los mismos valores como ``b``, pero truncados a enteros.\n",
        "\n",
        "Los tipos de datos disponibles incluyen:\n",
        "\n",
        "-  ``torch.bool``\n",
        "-  ``torch.int8``\n",
        "-  ``torch.uint8``\n",
        "-  ``torch.int16``\n",
        "-  ``torch.int32``\n",
        "-  ``torch.int64``\n",
        "-  ``torch.half``\n",
        "-  ``torch.float``\n",
        "-  ``torch.double``\n",
        "-  ``torch.bfloat``\n",
        "\n",
        "\n",
        "\n"
      ]
    },
    {
      "cell_type": "markdown",
      "source": [
        "Matemáticas y lógica con tensores PyTorch\n",
        "---------------------------------\n",
        "\n",
        "Ahora que conoces algunas de las formas de crear un tensor… ¿qué puedes hacer con ellos?\n",
        "\n",
        "Veamos primero la aritmética básica y cómo interactúan los tensores con\n",
        "escalares simples:\n"
      ],
      "metadata": {
        "id": "kNLofV7FvXfh"
      }
    },
    {
      "cell_type": "code",
      "execution_count": null,
      "metadata": {
        "id": "1uq-CTiwTMvE",
        "outputId": "7225806f-29e8-4954-8168-9f8f4c4dc84b",
        "colab": {
          "base_uri": "https://localhost:8080/"
        }
      },
      "outputs": [
        {
          "output_type": "stream",
          "name": "stdout",
          "text": [
            "tensor([[1., 1.],\n",
            "        [1., 1.]])\n",
            "tensor([[2., 2.],\n",
            "        [2., 2.]])\n",
            "tensor([[3., 3.],\n",
            "        [3., 3.]])\n",
            "tensor([[4., 4.],\n",
            "        [4., 4.]])\n",
            "tensor([[1.4142, 1.4142],\n",
            "        [1.4142, 1.4142]])\n"
          ]
        }
      ],
      "source": [
        "ones = torch.zeros(2, 2) + 1\n",
        "twos = torch.ones(2, 2) * 2\n",
        "threes = (torch.ones(2, 2) * 7 - 1) / 2\n",
        "fours = twos ** 2\n",
        "sqrt2s = twos ** 0.5\n",
        "\n",
        "print(ones)\n",
        "print(twos)\n",
        "print(threes)\n",
        "print(fours)\n",
        "print(sqrt2s)"
      ]
    },
    {
      "cell_type": "markdown",
      "metadata": {
        "id": "aJ3sfMEbTMvE"
      },
      "source": [
        "\n",
        "Como puedes ver arriba, las operaciones aritméticas entre tensores y escalares,\n",
        "como suma, resta, multiplicación, división y\n",
        "exponenciación se aplican elemento a elemento dentro del tensor. Dado que\n",
        "la salida de tal operación será un tensor, puedes encadenarlos\n",
        "junto con las reglas usuales de precedencia de operadores, como en la línea donde\n",
        "creamos ``threes``.\n",
        "\n",
        "Las operaciones similares entre dos tensores también se comportan intuitivamente:\n",
        "\n"
      ]
    },
    {
      "cell_type": "code",
      "execution_count": null,
      "metadata": {
        "id": "JvBH68BcTMvF",
        "outputId": "04be31bc-e57d-4efa-98fe-ec45d40c6fa5",
        "colab": {
          "base_uri": "https://localhost:8080/"
        }
      },
      "outputs": [
        {
          "output_type": "stream",
          "name": "stdout",
          "text": [
            "tensor([[ 2.,  4.],\n",
            "        [ 8., 16.]])\n",
            "tensor([[5., 5.],\n",
            "        [5., 5.]])\n",
            "tensor([[12., 12.],\n",
            "        [12., 12.]])\n"
          ]
        }
      ],
      "source": [
        "powers2 = twos ** torch.tensor([[1, 2], [3, 4]])\n",
        "print(powers2)\n",
        "\n",
        "fives = ones + fours\n",
        "print(fives)\n",
        "\n",
        "dozens = threes * fours\n",
        "print(dozens)"
      ]
    },
    {
      "cell_type": "markdown",
      "metadata": {
        "id": "idZ8bv7mTMvG"
      },
      "source": [
        "Es importante notar aquí que todos los tensores en la celda de código anterior\n",
        " eran de forma idéntica. ¿Qué sucede cuando tratamos de realizar una operación binaria entre tensores si la forma es diferente?\n",
        "\n",
        "<div class=\"alert alert-info\"><h4>Nota</h4><p>La siguiente celda arroja un error de tiempo de ejecución. Esto es intencional.</p></div>"
      ]
    },
    {
      "cell_type": "code",
      "source": [
        "   a = torch.rand(2, 3)\n",
        "   b = torch.rand(1, 3)\n",
        "\n",
        "   print(a * b)"
      ],
      "metadata": {
        "id": "jUYwzP1Ydk2o",
        "outputId": "ebfc4ba5-08c8-4fe1-815d-0577dd52dd51",
        "colab": {
          "base_uri": "https://localhost:8080/"
        }
      },
      "execution_count": null,
      "outputs": [
        {
          "output_type": "stream",
          "name": "stdout",
          "text": [
            "tensor([[4.5153e-01, 3.2749e-05, 1.8528e-01],\n",
            "        [2.4532e-01, 1.9049e-02, 2.1231e-01]])\n"
          ]
        }
      ]
    },
    {
      "cell_type": "markdown",
      "metadata": {
        "id": "2OxFMHIaTMvH"
      },
      "source": [
        "### Broadcasting de Tensores\n",
        "\n",
        "En el caso general, no se puede operar con tensores de diferente forma\n",
        "de esta manera, incluso en un caso como el de la celda anterior, donde los tensores tienen un\n",
        "idéntico número de elementos.\n",
        "\n",
        "<div class=\"alert alert-info\"><h4>Nota</h4><p>Si está familiarizado con el broadcasting de NumPy, aquí se aplican las mismas reglas.</p></div>\n",
        "\n",
        "La excepción a la regla de las mismas formas es el ***broadcasting de tensores***. Aquí hay\n",
        "un ejemplo:\n",
        "\n",
        "\n"
      ]
    },
    {
      "cell_type": "code",
      "execution_count": null,
      "metadata": {
        "id": "eRs-H_iLTMvJ",
        "outputId": "e7c3f8aa-4197-4f4c-af3d-4dd4553e0f0d",
        "colab": {
          "base_uri": "https://localhost:8080/"
        }
      },
      "outputs": [
        {
          "output_type": "stream",
          "name": "stdout",
          "text": [
            "tensor([[0.1998, 0.7811, 0.5229, 0.6221],\n",
            "        [0.4104, 0.7298, 0.1895, 0.8416]])\n",
            "tensor([[0.3997, 1.5621, 1.0457, 1.2443],\n",
            "        [0.8208, 1.4596, 0.3791, 1.6832]])\n"
          ]
        }
      ],
      "source": [
        "rand = torch.rand(2, 4)\n",
        "ones = rand * torch.ones(1, 4)*2\n",
        "doubled = rand * (torch.ones(1, 4) * 2)\n",
        "\n",
        "\n",
        "\n",
        "print(rand)\n",
        "print(doubled)"
      ]
    },
    {
      "cell_type": "markdown",
      "metadata": {
        "id": "jRYOWNgUTMvL"
      },
      "source": [
        "¿Cuál es el truco aquí? ¿Cómo es que podemos multiplicar un tensor de 2x4 por un\n",
        "tensor 1x4?\n",
        "\n",
        "El broadcasting es una forma de realizar una operación entre tensores que tienen\n",
        "similitudes en sus formas. En el ejemplo anterior,\n",
        "el tensor de cuatro columnas, el de una fila, se multiplica por *ambas filas* del tensor de cuatro columnas y dos filas.\n",
        "\n",
        "Esta es una operación importante en Deep Learning. El ejemplo común es\n",
        "multiplicar un tensor de pesos de aprendizaje por un *lote* de tensores de entrada,\n",
        "aplicando la operación a cada instancia en el lote por separado, y\n",
        "devolviendo un tensor de forma idéntica, al igual que nuestro (2, 4) \\* (1, 4)\n",
        "ejemplo anterior devolvió un tensor de forma (2, 4).\n",
        "\n",
        "Las reglas para el broadcasting son:\n",
        "\n",
        "- Cada tensor debe tener al menos una dimensión - no hay tensores vacíos.\n",
        "\n",
        "- Comparando los tamaños de las dimensiones de los dos tensores, *yendo del último al\n",
        "   primero:*\n",
        "\n",
        "   - Cada dimensión debe ser igual, *o*\n",
        "\n",
        "   - Una de las dimensiones debe ser de tamaño 1, *o*\n",
        "\n",
        "   - La dimensión no existe en uno de los tensores\n",
        "\n",
        "Los tensores de forma idéntica, por supuesto, son trivialmente \"brodcasteables\", como\n",
        "viste antes.\n",
        "\n",
        "Aquí hay algunos ejemplos de situaciones que respetan las reglas anteriores y\n",
        "permiten el bradcasting:\n",
        "\n"
      ]
    },
    {
      "cell_type": "code",
      "execution_count": null,
      "metadata": {
        "id": "jWqxyEh1TMvM",
        "colab": {
          "base_uri": "https://localhost:8080/"
        },
        "outputId": "03752e84-1ecd-4f60-8bf9-fbb3c760afc0"
      },
      "outputs": [
        {
          "output_type": "stream",
          "name": "stdout",
          "text": [
            "tensor([[[1., 1.],\n",
            "         [1., 1.],\n",
            "         [1., 1.]],\n",
            "\n",
            "        [[1., 1.],\n",
            "         [1., 1.],\n",
            "         [1., 1.]],\n",
            "\n",
            "        [[1., 1.],\n",
            "         [1., 1.],\n",
            "         [1., 1.]],\n",
            "\n",
            "        [[1., 1.],\n",
            "         [1., 1.],\n",
            "         [1., 1.]]])\n",
            "tensor([[[0.7706, 0.6611],\n",
            "         [0.5159, 0.1974],\n",
            "         [0.8208, 0.8047]],\n",
            "\n",
            "        [[0.7706, 0.6611],\n",
            "         [0.5159, 0.1974],\n",
            "         [0.8208, 0.8047]],\n",
            "\n",
            "        [[0.7706, 0.6611],\n",
            "         [0.5159, 0.1974],\n",
            "         [0.8208, 0.8047]],\n",
            "\n",
            "        [[0.7706, 0.6611],\n",
            "         [0.5159, 0.1974],\n",
            "         [0.8208, 0.8047]]])\n",
            "tensor([[[0.0086, 0.0086],\n",
            "         [0.0509, 0.0509],\n",
            "         [0.4765, 0.4765]],\n",
            "\n",
            "        [[0.0086, 0.0086],\n",
            "         [0.0509, 0.0509],\n",
            "         [0.4765, 0.4765]],\n",
            "\n",
            "        [[0.0086, 0.0086],\n",
            "         [0.0509, 0.0509],\n",
            "         [0.4765, 0.4765]],\n",
            "\n",
            "        [[0.0086, 0.0086],\n",
            "         [0.0509, 0.0509],\n",
            "         [0.4765, 0.4765]]])\n",
            "tensor([[[0.3894, 0.3768],\n",
            "         [0.3894, 0.3768],\n",
            "         [0.3894, 0.3768]],\n",
            "\n",
            "        [[0.3894, 0.3768],\n",
            "         [0.3894, 0.3768],\n",
            "         [0.3894, 0.3768]],\n",
            "\n",
            "        [[0.3894, 0.3768],\n",
            "         [0.3894, 0.3768],\n",
            "         [0.3894, 0.3768]],\n",
            "\n",
            "        [[0.3894, 0.3768],\n",
            "         [0.3894, 0.3768],\n",
            "         [0.3894, 0.3768]]])\n"
          ]
        }
      ],
      "source": [
        "a = torch.ones(4, 3, 2)\n",
        "print(a)\n",
        "\n",
        "b = a * torch.rand(   3, 2) # 3ra & 2da dims identicas a las de a, dim 1 ausente\n",
        "print(b)\n",
        "\n",
        "c = a * torch.rand(   3, 1) # 3ra dim = 1, 2da dim identica a la de a\n",
        "print(c)\n",
        "\n",
        "d = a * torch.rand(   1, 2) # 3ra dim identica a la de a, 2da dim = 1\n",
        "print(d)"
      ]
    },
    {
      "cell_type": "markdown",
      "metadata": {
        "id": "VfS91ltQTMvO"
      },
      "source": [
        "Para obtener más información sobre el broadcasting, consulte la documentación de PyTorch\n",
        " <https://pytorch.org/docs/stable/notes/broadcasting.html>`\n",
        "\n",
        "\n"
      ]
    },
    {
      "cell_type": "markdown",
      "metadata": {
        "id": "zaQyonB-TMvO"
      },
      "source": [
        "### Más matemáticas con tensores\n",
        "\n",
        "Los tensores PyTorch tienen más de trescientas operaciones que se pueden realizar\n",
        "en ellos.\n",
        "\n",
        "Aquí hay una pequeña muestra de algunas de las principales categorías de operaciones:\n",
        "\n",
        "\n"
      ]
    },
    {
      "cell_type": "code",
      "source": [
        "e = torch.tensor([1., 2.])\n",
        "print (e)"
      ],
      "metadata": {
        "colab": {
          "base_uri": "https://localhost:8080/"
        },
        "id": "_RLpAdUGTdzB",
        "outputId": "aae7be65-373d-49e9-daa8-5962bb9ce449"
      },
      "execution_count": null,
      "outputs": [
        {
          "output_type": "stream",
          "name": "stdout",
          "text": [
            "tensor([1., 2.])\n"
          ]
        }
      ]
    },
    {
      "cell_type": "code",
      "source": [
        "e.shape"
      ],
      "metadata": {
        "colab": {
          "base_uri": "https://localhost:8080/"
        },
        "id": "EzR9iYfZUgoi",
        "outputId": "21d8d318-7ff1-47d8-e994-0bf03bd8f578"
      },
      "execution_count": null,
      "outputs": [
        {
          "output_type": "execute_result",
          "data": {
            "text/plain": [
              "torch.Size([2])"
            ]
          },
          "metadata": {},
          "execution_count": 8
        }
      ]
    },
    {
      "cell_type": "code",
      "source": [
        "eu = torch.tensor([[1.],\n",
        "        [2.]])\n",
        "print(eu)"
      ],
      "metadata": {
        "colab": {
          "base_uri": "https://localhost:8080/"
        },
        "id": "O1GJ_MgQUMZP",
        "outputId": "67ba2f66-6172-48f2-b9ab-5b87871b148e"
      },
      "execution_count": null,
      "outputs": [
        {
          "output_type": "stream",
          "name": "stdout",
          "text": [
            "tensor([[1.],\n",
            "        [2.]])\n"
          ]
        }
      ]
    },
    {
      "cell_type": "code",
      "source": [
        "eu.shape"
      ],
      "metadata": {
        "colab": {
          "base_uri": "https://localhost:8080/"
        },
        "id": "Ef_g8m08UT4Y",
        "outputId": "c8c36258-0d2b-43cd-db7e-09fddf7b3381"
      },
      "execution_count": null,
      "outputs": [
        {
          "output_type": "execute_result",
          "data": {
            "text/plain": [
              "torch.Size([2, 1])"
            ]
          },
          "metadata": {},
          "execution_count": 10
        }
      ]
    },
    {
      "cell_type": "code",
      "source": [],
      "metadata": {
        "id": "WdHsfjL4UT-S"
      },
      "execution_count": null,
      "outputs": []
    },
    {
      "cell_type": "code",
      "source": [
        "d = torch.tensor([[1., 2.], [3., 4.]])\n",
        "print(d)"
      ],
      "metadata": {
        "colab": {
          "base_uri": "https://localhost:8080/"
        },
        "id": "68WlDdA4Ty5J",
        "outputId": "0cfc2816-2fbc-42d0-a1fa-f176f195d806"
      },
      "execution_count": null,
      "outputs": [
        {
          "output_type": "stream",
          "name": "stdout",
          "text": [
            "tensor([[1., 2.],\n",
            "        [3., 4.]])\n"
          ]
        }
      ]
    },
    {
      "cell_type": "code",
      "source": [
        "print(e*d)"
      ],
      "metadata": {
        "colab": {
          "base_uri": "https://localhost:8080/"
        },
        "id": "k8LCtEGpUAkd",
        "outputId": "bd0d3566-a74d-4c9f-be2d-5830cd233d42"
      },
      "execution_count": null,
      "outputs": [
        {
          "output_type": "stream",
          "name": "stdout",
          "text": [
            "tensor([[1., 4.],\n",
            "        [3., 8.]])\n"
          ]
        }
      ]
    },
    {
      "cell_type": "code",
      "source": [
        "print(eu*d)"
      ],
      "metadata": {
        "colab": {
          "base_uri": "https://localhost:8080/"
        },
        "id": "yyzpwkHGUrWr",
        "outputId": "0035d85e-9d23-4219-bc22-16a60e03b978"
      },
      "execution_count": null,
      "outputs": [
        {
          "output_type": "stream",
          "name": "stdout",
          "text": [
            "tensor([[1., 2.],\n",
            "        [6., 8.]])\n"
          ]
        }
      ]
    },
    {
      "cell_type": "code",
      "execution_count": null,
      "metadata": {
        "id": "KVrRYPGtTMvO",
        "colab": {
          "base_uri": "https://localhost:8080/"
        },
        "outputId": "95efb854-d484-4983-b7f9-ff87a93ea27c"
      },
      "outputs": [
        {
          "output_type": "stream",
          "name": "stdout",
          "text": [
            "Common functions:\n",
            "tensor([[0.0124, 0.6939, 0.4823, 0.4587],\n",
            "        [0.1770, 0.3677, 0.8595, 0.0210]])\n",
            "tensor([[1., 1., -0., -0.],\n",
            "        [-0., 1., -0., 1.]])\n",
            "tensor([[ 0.,  0., -1., -1.],\n",
            "        [-1.,  0., -1.,  0.]])\n",
            "tensor([[ 0.0124,  0.5000, -0.4823, -0.4587],\n",
            "        [-0.1770,  0.3677, -0.5000,  0.0210]])\n",
            "\n",
            "Sine and arcsine:\n",
            "tensor([0.0000, 0.7854, 1.5708, 2.3562])\n",
            "tensor([0.0000, 0.7071, 1.0000, 0.7071])\n",
            "tensor([0.0000, 0.7854, 1.5708, 0.7854])\n",
            "\n",
            "Bitwise XOR:\n",
            "tensor([3, 2, 1])\n",
            "\n",
            "Broadcasted, element-wise equality comparison:\n",
            "tensor([[ True, False],\n",
            "        [False, False]])\n",
            "\n",
            "Reduction ops:\n",
            "tensor(4.)\n",
            "4.0\n",
            "tensor(2.5000)\n",
            "tensor(1.2910)\n",
            "tensor(24.)\n",
            "tensor([1, 2])\n",
            "\n",
            "Vectors & Matrices:\n",
            "tensor([ 0.,  0., -1.])\n",
            "tensor([[0.9451, 0.2359],\n",
            "        [0.1979, 0.3327]])\n",
            "tensor([[2.8352, 0.7076],\n",
            "        [0.5938, 0.9982]])\n",
            "torch.return_types.svd(\n",
            "U=tensor([[-0.9573, -0.2892],\n",
            "        [-0.2892,  0.9573]]),\n",
            "S=tensor([3.0431, 0.7919]),\n",
            "V=tensor([[-0.9483, -0.3174],\n",
            "        [-0.3174,  0.9483]]))\n"
          ]
        }
      ],
      "source": [
        "# common functions\n",
        "a = torch.rand(2, 4) * 2 - 1\n",
        "print('Common functions:')\n",
        "print(torch.abs(a))\n",
        "print(torch.ceil(a))\n",
        "print(torch.floor(a))\n",
        "print(torch.clamp(a,  -0.5, 0.5))\n",
        "\n",
        "# trigonometric functions and their inverses\n",
        "angles = torch.tensor([0, math.pi / 4, math.pi / 2, 3 * math.pi / 4])\n",
        "sines = torch.sin(angles)\n",
        "inverses = torch.asin(sines)\n",
        "print('\\nSine and arcsine:')\n",
        "print(angles)\n",
        "print(sines)\n",
        "print(inverses)\n",
        "\n",
        "# bitwise operations\n",
        "print('\\nBitwise XOR:')\n",
        "b = torch.tensor([1, 5, 11])\n",
        "c = torch.tensor([2, 7, 10])\n",
        "print(torch.bitwise_xor(b, c))\n",
        "\n",
        "# comparisons:\n",
        "print('\\nBroadcasted, element-wise equality comparison:')\n",
        "d = torch.tensor([[1., 2.], [3., 4.]])\n",
        "e = torch.ones(1, 2)  # many comparison ops support broadcasting!\n",
        "print(torch.eq(d, e)) # returns a tensor of type bool\n",
        "\n",
        "# reductions:\n",
        "print('\\nReduction ops:')\n",
        "print(torch.max(d))        # returns a single-element tensor\n",
        "print(torch.max(d).item()) # extracts the value from the returned tensor\n",
        "print(torch.mean(d))       # average\n",
        "print(torch.std(d))        # standard deviation\n",
        "print(torch.prod(d))       # product of all numbers\n",
        "print(torch.unique(torch.tensor([1, 2, 1, 2, 1, 2]))) # filter unique elements\n",
        "\n",
        "# vector and linear algebra operations\n",
        "v1 = torch.tensor([1., 0., 0.])         # x unit vector\n",
        "v2 = torch.tensor([0., 1., 0.])         # y unit vector\n",
        "m1 = torch.rand(2, 2)                   # random matrix\n",
        "m2 = torch.tensor([[3., 0.], [0., 3.]]) # three times identity matrix\n",
        "\n",
        "print('\\nVectors & Matrices:')\n",
        "print(torch.cross(v2, v1)) # negative of z unit vector (v1 x v2 == -v2 x v1)\n",
        "print(m1)\n",
        "m3 = torch.matmul(m1, m2)\n",
        "print(m3)                  # 3 times m1\n",
        "print(torch.svd(m3))       # singular value decomposition"
      ]
    },
    {
      "cell_type": "markdown",
      "source": [
        "Esta es una pequeña muestra de operaciones. Para más detalles y el inventario completo de\n",
        "funciones matemáticas, echa un vistazo a la\n",
        "`documentación` <https://pytorch.org/docs/stable/torch.html#math-operations>`__."
      ],
      "metadata": {
        "id": "8dWRJ8Mj4j_8"
      }
    },
    {
      "cell_type": "markdown",
      "metadata": {
        "id": "g-ZsXeZLTMvQ"
      },
      "source": [
        "\n",
        "\n",
        "### Alteración de tensores en su lugar\n",
        "\n",
        "\n",
        "La mayoría de las operaciones binarias entre tensores devolverán un tercer tensor nuevo. Cuando\n",
        "decimos ``c = a * b`` (donde ``a`` y ``b`` son tensores), el nuevo tensor\n",
        "``c`` ocupará una región de memoria distinta de los otros tensores.\n",
        "\n",
        "Sin embargo, hay ocasiones en las que es posible que desee alterar un tensor en su lugar:\n",
        "por ejemplo, si está haciendo un cálculo por elementos en el que puede\n",
        "descartar valores intermedios. Para esto, la mayoría de las funciones matemáticas tienen un\n",
        "versión con un guión bajo adjunto (``_``) que alterará un tensor en su\n",
        "lugar.\n",
        "\n",
        "Por ejemplo:\n",
        "\n",
        "\n"
      ]
    },
    {
      "cell_type": "code",
      "execution_count": null,
      "metadata": {
        "id": "nr9t_DyzTMvR",
        "colab": {
          "base_uri": "https://localhost:8080/"
        },
        "outputId": "87831ece-8002-434a-ce3d-5802303375c7"
      },
      "outputs": [
        {
          "output_type": "stream",
          "name": "stdout",
          "text": [
            "a:\n",
            "tensor([0.0000, 0.7854, 1.5708, 2.3562])\n",
            "tensor([0.0000, 0.7071, 1.0000, 0.7071])\n",
            "tensor([0.0000, 0.7854, 1.5708, 2.3562])\n",
            "\n",
            "b:\n",
            "tensor([0.0000, 0.7854, 1.5708, 2.3562])\n",
            "tensor([0.0000, 0.7071, 1.0000, 0.7071])\n",
            "tensor([0.0000, 0.7071, 1.0000, 0.7071])\n"
          ]
        }
      ],
      "source": [
        "a = torch.tensor([0, math.pi / 4, math.pi / 2, 3 * math.pi / 4])\n",
        "print('a:')\n",
        "print(a)\n",
        "print(torch.sin(a))   # esta operación crea un nuevo tensor en la memoria\n",
        "print(a)              # a no ha cambiado \n",
        "\n",
        "b = torch.tensor([0, math.pi / 4, math.pi / 2, 3 * math.pi / 4])\n",
        "print('\\nb:')\n",
        "print(b)\n",
        "print(torch.sin_(b))  # note el guión bajo\n",
        "print(b)              # b ha cambiado"
      ]
    },
    {
      "cell_type": "markdown",
      "metadata": {
        "id": "sOrdae34TMvR"
      },
      "source": [
        "Para las operaciones aritméticas, existen funciones que se comportan de manera similar:\n",
        "\n"
      ]
    },
    {
      "cell_type": "code",
      "execution_count": null,
      "metadata": {
        "id": "IJYc2E6fTMvR",
        "colab": {
          "base_uri": "https://localhost:8080/"
        },
        "outputId": "492465f6-f07e-49e6-d778-b2a9be284641"
      },
      "outputs": [
        {
          "output_type": "stream",
          "name": "stdout",
          "text": [
            "Before:\n",
            "tensor([[1., 1.],\n",
            "        [1., 1.]])\n",
            "tensor([[0.4937, 0.9824],\n",
            "        [0.1374, 0.4515]])\n",
            "\n",
            "After adding:\n",
            "tensor([[1.4937, 1.9824],\n",
            "        [1.1374, 1.4515]])\n",
            "tensor([[1.4937, 1.9824],\n",
            "        [1.1374, 1.4515]])\n",
            "tensor([[0.4937, 0.9824],\n",
            "        [0.1374, 0.4515]])\n",
            "\n",
            "After multiplying\n",
            "tensor([[0.2437, 0.9650],\n",
            "        [0.0189, 0.2039]])\n",
            "tensor([[0.2437, 0.9650],\n",
            "        [0.0189, 0.2039]])\n"
          ]
        }
      ],
      "source": [
        "a = torch.ones(2, 2)\n",
        "b = torch.rand(2, 2)\n",
        "\n",
        "print('Before:')\n",
        "print(a)\n",
        "print(b)\n",
        "print('\\nAfter adding:')\n",
        "print(a.add_(b))\n",
        "print(a)\n",
        "print(b)\n",
        "print('\\nAfter multiplying')\n",
        "print(b.mul_(b))\n",
        "print(b)"
      ]
    },
    {
      "cell_type": "markdown",
      "metadata": {
        "id": "mp8drNSzTMvS"
      },
      "source": [
        "Tenga en cuenta que estas funciones aritméticas in situ son métodos del objeto ``torch.Tensor``, no adjunto al módulo ``torch`` como muchos\n",
        "otras funciones (por ejemplo, ``torch.sin()``). Como puedes ver desde\n",
        "``a.add_(b)``, *el tensor de llamada es el que se cambia en\n",
        "lugar.*\n",
        "\n",
        "Existe otra opción para colocar el resultado de un cálculo en un\n",
        "tensor asignado existente. Muchos de los métodos y funciones que hemos visto\n",
        "hasta ahora, ¡incluidos los métodos constructores! , tienen un argumento ``out`` que\n",
        "le permite especificar un tensor para recibir la salida. Si el tensor ``out``\n",
        "es de la forma correcta y ``dtype`` correcto, esto puede suceder sin una nueva asignación de memoria:\n",
        "\n",
        "\n"
      ]
    },
    {
      "cell_type": "code",
      "execution_count": null,
      "metadata": {
        "id": "4rEB4m4PTMvS",
        "colab": {
          "base_uri": "https://localhost:8080/"
        },
        "outputId": "f3345af9-1e80-4f50-e6ac-4b6298e28541"
      },
      "outputs": [
        {
          "output_type": "stream",
          "name": "stdout",
          "text": [
            "tensor([[0., 0.],\n",
            "        [0., 0.]])\n",
            "tensor([[0.3682, 0.3203],\n",
            "        [0.4446, 0.7704]])\n",
            "tensor([[0.3735, 0.7022],\n",
            "        [0.0210, 0.4276]])\n",
            "tensor([[0.3735, 0.7022],\n",
            "        [0.0210, 0.4276]])\n"
          ]
        }
      ],
      "source": [
        "a = torch.rand(2, 2)\n",
        "b = torch.rand(2, 2)\n",
        "c = torch.zeros(2, 2)\n",
        "old_id = id(c)\n",
        "\n",
        "print(c)\n",
        "d = torch.matmul(a, b, out=c)\n",
        "print(c)                # el contenido de c ha cambiado\n",
        "\n",
        "assert c is d           # se fija si c & d son el mismo objeto, no que solo contienen los mismos valore\n",
        "assert id(c), old_id    # se asegura que el nuevo c sea el mismo que el viejo\n",
        "\n",
        "print(torch.rand(2, 2, out=c)) # funciona también para constructores\n",
        "print(c)                # c ha cambiado nuevamente\n",
        "assert id(c), old_id    # todavía es el mismo objeto"
      ]
    },
    {
      "cell_type": "markdown",
      "metadata": {
        "id": "MURJjaoLTMvS"
      },
      "source": [
        "Copiando tensores\n",
        "---------------\n",
        "\n",
        "Como con cualquier objeto en Python, asignar un tensor a una variable convierte a la variable en una *etiqueta* del tensor y no la copia. Por ejemplo:\n",
        "\n",
        "\n"
      ]
    },
    {
      "cell_type": "code",
      "execution_count": null,
      "metadata": {
        "id": "X4WcXXOlTMvT",
        "colab": {
          "base_uri": "https://localhost:8080/"
        },
        "outputId": "19d0be08-99da-4305-9308-11e0e543115a"
      },
      "outputs": [
        {
          "output_type": "stream",
          "name": "stdout",
          "text": [
            "tensor([[  1., 561.],\n",
            "        [  1.,   1.]])\n"
          ]
        }
      ],
      "source": [
        "a = torch.ones(2, 2)\n",
        "b = a\n",
        "\n",
        "a[0][1] = 561  # al cambiar a\n",
        "print(b)       # ...b también se altera"
      ]
    },
    {
      "cell_type": "markdown",
      "metadata": {
        "id": "U2pchi__TMvT"
      },
      "source": [
        "Pero, ¿qué sucede si deseas una copia separada de los datos para trabajar? El método ``clone()`` está ahí para ti:\n",
        "\n",
        "\n"
      ]
    },
    {
      "cell_type": "code",
      "execution_count": null,
      "metadata": {
        "id": "bkWDLf_lTMvT",
        "colab": {
          "base_uri": "https://localhost:8080/"
        },
        "outputId": "7a6076a4-d0f0-4993-c770-c9960c6ae00c"
      },
      "outputs": [
        {
          "output_type": "stream",
          "name": "stdout",
          "text": [
            "tensor([[True, True],\n",
            "        [True, True]])\n",
            "tensor([[1., 1.],\n",
            "        [1., 1.]])\n"
          ]
        }
      ],
      "source": [
        "a = torch.ones(2, 2)\n",
        "b = a.clone()\n",
        "\n",
        "assert b is not a      # diferentes objetos en memoria...\n",
        "print(torch.eq(a, b))  # ...pero todavía son el mismo contenido!\n",
        "\n",
        "a[0][1] = 561          # a cambia...\n",
        "print(b)               # ...pero b todavía son puros unos"
      ]
    },
    {
      "cell_type": "markdown",
      "metadata": {
        "id": "egK6PB2hTMvZ"
      },
      "source": [
        "Manipulación de la forma del tensor\n",
        "--------------------------\n",
        "\n",
        "A veces, necesitarás cambiar la forma de tu tensor. A continuación, veremos algunos casos comunes y cómo manejarlos.\n",
        "\n",
        "###Cambiar el número de dimensiones\n",
        "\n",
        "\n",
        "Un caso en el que podría necesitar cambiar la cantidad de dimensiones es pasar una sola instancia como entrada a su modelo. Los modelos de PyTorch generalmente esperan *lotes* de entrada.\n",
        "\n",
        "Por ejemplo, imagine tener un modelo que funcione con imágenes de 3 x 226 x 226, un cuadrado de 226 píxeles con 3 canales de color. Cuando lo cargues y lo transformes, obtendrás un tensor de forma ``(3, 226, 226)``. Sin embargo, su modelo espera una entrada de forma ``(N, 3, 226, 226)``, donde ``N`` es el número de imágenes en el lote. Entonces, ¿cómo se hace un lote de uno?\n",
        "\n",
        "\n"
      ]
    },
    {
      "cell_type": "code",
      "execution_count": null,
      "metadata": {
        "id": "5HEXibbvTMvZ",
        "colab": {
          "base_uri": "https://localhost:8080/"
        },
        "outputId": "996b1744-1398-4422-92a5-d39983c4c4f6"
      },
      "outputs": [
        {
          "output_type": "stream",
          "name": "stdout",
          "text": [
            "torch.Size([3, 226, 226])\n",
            "torch.Size([1, 3, 226, 226])\n"
          ]
        }
      ],
      "source": [
        "a = torch.rand(3, 226, 226)\n",
        "b = a.unsqueeze(0)\n",
        "\n",
        "print(a.shape)\n",
        "print(b.shape)"
      ]
    },
    {
      "cell_type": "code",
      "source": [
        "b"
      ],
      "metadata": {
        "colab": {
          "base_uri": "https://localhost:8080/"
        },
        "id": "dpA6vDOZpHuF",
        "outputId": "fa48540e-e0d2-4249-c22f-3cf13a347dbf"
      },
      "execution_count": null,
      "outputs": [
        {
          "output_type": "execute_result",
          "data": {
            "text/plain": [
              "tensor([[[[0.7737, 0.2016, 0.9528,  ..., 0.4863, 0.1131, 0.8840],\n",
              "          [0.4504, 0.9550, 0.8182,  ..., 0.4974, 0.0405, 0.5654],\n",
              "          [0.2651, 0.6583, 0.7727,  ..., 0.4334, 0.3079, 0.4911],\n",
              "          ...,\n",
              "          [0.4337, 0.3534, 0.5864,  ..., 0.2431, 0.7606, 0.5179],\n",
              "          [0.8229, 0.2809, 0.2776,  ..., 0.6711, 0.6388, 0.4420],\n",
              "          [0.9318, 0.6338, 0.6339,  ..., 0.4289, 0.9073, 0.5385]],\n",
              "\n",
              "         [[0.3924, 0.9037, 0.5532,  ..., 0.2458, 0.3108, 0.7853],\n",
              "          [0.7095, 0.7927, 0.6019,  ..., 0.5031, 0.6749, 0.4548],\n",
              "          [0.0236, 0.6587, 0.0999,  ..., 0.4931, 0.7164, 0.0795],\n",
              "          ...,\n",
              "          [0.2257, 0.6921, 0.3983,  ..., 0.7432, 0.2089, 0.5371],\n",
              "          [0.5646, 0.8268, 0.7503,  ..., 0.0877, 0.3785, 0.4004],\n",
              "          [0.3521, 0.1434, 0.0098,  ..., 0.7199, 0.6887, 0.7506]],\n",
              "\n",
              "         [[0.5829, 0.0440, 0.6709,  ..., 0.6455, 0.0362, 0.4425],\n",
              "          [0.4193, 0.7263, 0.6830,  ..., 0.0515, 0.6190, 0.6208],\n",
              "          [0.2866, 0.4144, 0.8454,  ..., 0.0876, 0.4065, 0.0425],\n",
              "          ...,\n",
              "          [0.0452, 0.2243, 0.2259,  ..., 0.7772, 0.4288, 0.1093],\n",
              "          [0.5055, 0.2645, 0.5840,  ..., 0.7164, 0.2024, 0.6372],\n",
              "          [0.9836, 0.2348, 0.6573,  ..., 0.1423, 0.6365, 0.1071]]]])"
            ]
          },
          "metadata": {},
          "execution_count": 93
        }
      ]
    },
    {
      "cell_type": "markdown",
      "metadata": {
        "id": "0HVDvY7wTMvb"
      },
      "source": [
        "El método ``unsqueeze()`` agrega una dimensión de extensión 1.\n",
        "``unsqueeze(0)`` lo agrega como una nueva dimensión cero - ¡ahora tienes un lote de uno!\n",
        "\n",
        "Estamos aprovechando el hecho de que cualquier dimensión de extensión 1 *no* cambia el número de elementos en el tensor.\n",
        "\n",
        "\n"
      ]
    },
    {
      "cell_type": "code",
      "execution_count": null,
      "metadata": {
        "id": "-ZZVNtYHTMvb",
        "colab": {
          "base_uri": "https://localhost:8080/"
        },
        "outputId": "f95e07e6-cfd3-4134-98d2-8f41bd51ab75"
      },
      "outputs": [
        {
          "output_type": "stream",
          "name": "stdout",
          "text": [
            "tensor([[[[[0.7050]]]]])\n"
          ]
        }
      ],
      "source": [
        "c = torch.rand(1, 1, 1, 1, 1)\n",
        "print(c)"
      ]
    },
    {
      "cell_type": "markdown",
      "metadata": {
        "id": "RjZjbTrSTMvc"
      },
      "source": [
        "Continuando con el ejemplo anterior, digamos que la salida del modelo es un vector de 20 elementos para cada entrada. Entonces esperaría que la salida tuviera la forma ``(N, 20)``, donde ``N`` es el número de instancias en el lote de entrada. Eso significa que para nuestro lote de entrada única, obtendremos una salida de forma ``(1, 20)``.\n",
        "\n",
        "¿Qué sucede si desea realizar un cálculo *no por lotes* con esa salida, algo que solo espera un vector de 20 elementos?\n",
        "\n",
        "\n"
      ]
    },
    {
      "cell_type": "code",
      "execution_count": null,
      "metadata": {
        "id": "gewoOUXFTMvc",
        "colab": {
          "base_uri": "https://localhost:8080/"
        },
        "outputId": "87bc6907-56b3-43bb-8a4a-ee760b5001fd"
      },
      "outputs": [
        {
          "output_type": "stream",
          "name": "stdout",
          "text": [
            "torch.Size([1, 20])\n",
            "tensor([[0.7001, 0.7587, 0.4295, 0.0190, 0.8574, 0.5431, 0.6431, 0.5766, 0.3712,\n",
            "         0.7667, 0.6970, 0.8608, 0.5105, 0.1388, 0.8937, 0.6280, 0.5768, 0.2975,\n",
            "         0.4171, 0.7177]])\n",
            "torch.Size([20])\n",
            "tensor([0.7001, 0.7587, 0.4295, 0.0190, 0.8574, 0.5431, 0.6431, 0.5766, 0.3712,\n",
            "        0.7667, 0.6970, 0.8608, 0.5105, 0.1388, 0.8937, 0.6280, 0.5768, 0.2975,\n",
            "        0.4171, 0.7177])\n",
            "torch.Size([2, 2])\n",
            "torch.Size([2, 2])\n"
          ]
        }
      ],
      "source": [
        "a = torch.rand(1, 20)\n",
        "print(a.shape)\n",
        "print(a)\n",
        "\n",
        "b = a.squeeze(0)\n",
        "print(b.shape)\n",
        "print(b)\n",
        "\n",
        "c = torch.rand(2, 2)\n",
        "print(c.shape)\n",
        "\n",
        "d = c.squeeze(0)\n",
        "print(d.shape)"
      ]
    },
    {
      "cell_type": "markdown",
      "source": [
        "Puede ver en las formas que nuestro tensor bidimensional ahora es\n",
        "1-dimensional, y si miras de cerca la salida de la celda de arriba\n",
        "verás que imprimir ``a`` muestra un conjunto \"extra\" de corchetes\n",
        "``[]`` debido a que tiene una dimensión adicional.\n",
        "\n",
        "Solo puede hacer ``squeeze()`` sobre las dimensiones de tamaño 1. Vea arriba, donde tratamos de comprimir una dimensión de tamaño 2 en ``c``, y terminamos recuperando la misma forma con la que comenzamos. Las llamadas a ``squeeze()`` y ``unsqueeze()`` solo pueden actuar en dimensiones de tamaño 1 porque, de lo contrario, cambiaría el número de elementos en el tensor."
      ],
      "metadata": {
        "id": "fWd8MRbmJ9ez"
      }
    },
    {
      "cell_type": "markdown",
      "source": [
        "Otro lugar en el que podrías usar ``unsqueeze()`` es para facilitar el broadcasting. Recuerde el ejemplo anterior donde teníamos el siguiente código:"
      ],
      "metadata": {
        "id": "L7uLV1mFKXds"
      }
    },
    {
      "cell_type": "code",
      "source": [
        "a = torch.ones(4, 3, 2)\n",
        "\n",
        "c = a * torch.rand(   3, 1) # 3rd dim = 1, 2nd dim identical to a\n",
        "print(c)"
      ],
      "metadata": {
        "colab": {
          "base_uri": "https://localhost:8080/"
        },
        "id": "hD7diDJcKZE3",
        "outputId": "a6f2772e-9c1c-4ff5-ee8f-45d0af565b86"
      },
      "execution_count": null,
      "outputs": [
        {
          "output_type": "stream",
          "name": "stdout",
          "text": [
            "tensor([[[0.5771, 0.5771],\n",
            "         [0.5961, 0.5961],\n",
            "         [0.8613, 0.8613]],\n",
            "\n",
            "        [[0.5771, 0.5771],\n",
            "         [0.5961, 0.5961],\n",
            "         [0.8613, 0.8613]],\n",
            "\n",
            "        [[0.5771, 0.5771],\n",
            "         [0.5961, 0.5961],\n",
            "         [0.8613, 0.8613]],\n",
            "\n",
            "        [[0.5771, 0.5771],\n",
            "         [0.5961, 0.5961],\n",
            "         [0.8613, 0.8613]]])\n"
          ]
        }
      ]
    },
    {
      "cell_type": "markdown",
      "metadata": {
        "id": "7P7ue18ETMvc"
      },
      "source": [
        "El efecto neto de eso fue operar con broadcast sobre las dimensiones 0 y 2, lo que provocó que el tensor aleatorio de 3 x 1 se multiplicara elemento a elemento por cada columna de 3 elementos en ``a``.\n",
        "\n",
        "¿Qué pasaría si el vector aleatorio hubiera sido un vector de 3 elementos? Perderíamos la capacidad de hacer broadcasting, porque las dimensiones finales no coincidirían de acuerdo con las reglas del broadcasting. ``unsqueeze()`` viene al rescate:\n",
        "\n",
        "\n"
      ]
    },
    {
      "cell_type": "code",
      "execution_count": null,
      "metadata": {
        "id": "MnpPtHRtTMvd",
        "colab": {
          "base_uri": "https://localhost:8080/"
        },
        "outputId": "d08aaff9-6167-4cf5-8b2c-0b70e2d82780"
      },
      "outputs": [
        {
          "output_type": "stream",
          "name": "stdout",
          "text": [
            "torch.Size([3, 1])\n",
            "tensor([[[0.5941, 0.5941],\n",
            "         [0.0257, 0.0257],\n",
            "         [0.0377, 0.0377]],\n",
            "\n",
            "        [[0.5941, 0.5941],\n",
            "         [0.0257, 0.0257],\n",
            "         [0.0377, 0.0377]],\n",
            "\n",
            "        [[0.5941, 0.5941],\n",
            "         [0.0257, 0.0257],\n",
            "         [0.0377, 0.0377]],\n",
            "\n",
            "        [[0.5941, 0.5941],\n",
            "         [0.0257, 0.0257],\n",
            "         [0.0377, 0.0377]]])\n"
          ]
        }
      ],
      "source": [
        "a = torch.ones(4, 3, 2)\n",
        "b = torch.rand(   3)     # intentar multiplicar a * b dará un error de tiempo de ejecución\n",
        "c = b.unsqueeze(1)       # cambiar a un tensor bidimensional, agregando un nuevo dim al final\n",
        "print(c.shape)\n",
        "print(a * c)             # ¡El broadcast funciona de nuevo!"
      ]
    },
    {
      "cell_type": "code",
      "source": [
        "print(a)\n",
        "print (b)\n",
        "print (c)"
      ],
      "metadata": {
        "colab": {
          "base_uri": "https://localhost:8080/"
        },
        "id": "fv7Wr4N7qYKB",
        "outputId": "94bb7f64-abc6-400c-d81d-6d60b3f39963"
      },
      "execution_count": null,
      "outputs": [
        {
          "output_type": "stream",
          "name": "stdout",
          "text": [
            "tensor([[[1., 1.],\n",
            "         [1., 1.],\n",
            "         [1., 1.]],\n",
            "\n",
            "        [[1., 1.],\n",
            "         [1., 1.],\n",
            "         [1., 1.]],\n",
            "\n",
            "        [[1., 1.],\n",
            "         [1., 1.],\n",
            "         [1., 1.]],\n",
            "\n",
            "        [[1., 1.],\n",
            "         [1., 1.],\n",
            "         [1., 1.]]])\n",
            "tensor([0.5941, 0.0257, 0.0377])\n",
            "tensor([[0.5941],\n",
            "        [0.0257],\n",
            "        [0.0377]])\n"
          ]
        }
      ]
    },
    {
      "cell_type": "markdown",
      "metadata": {
        "id": "k2FlCeTATMvd"
      },
      "source": [
        "Los métodos squeeze() y unsqueeze() también tienen versiones in situ, squeeze_() y unsqueeze_():\n",
        "\n",
        "\n"
      ]
    },
    {
      "cell_type": "code",
      "execution_count": null,
      "metadata": {
        "id": "GJmCHqJqTMve",
        "colab": {
          "base_uri": "https://localhost:8080/"
        },
        "outputId": "0acfdac1-1baa-43bb-ac1b-dbc1ebb70abf"
      },
      "outputs": [
        {
          "output_type": "stream",
          "name": "stdout",
          "text": [
            "torch.Size([3, 226, 226])\n",
            "torch.Size([1, 3, 226, 226])\n"
          ]
        }
      ],
      "source": [
        "batch_me = torch.rand(3, 226, 226)\n",
        "print(batch_me.shape)\n",
        "batch_me.unsqueeze_(0)\n",
        "print(batch_me.shape)"
      ]
    },
    {
      "cell_type": "markdown",
      "metadata": {
        "id": "IOzhnOogTMve"
      },
      "source": [
        "A veces querrá cambiar la forma de un tensor de forma más radical, conservando al mismo tiempo la cantidad de elementos y su contenido. \n",
        "\n",
        "``reshape()`` hará esto por ti, siempre que las dimensiones que solicites produzcan el mismo número de elementos que tiene el tensor de entrada:\n",
        "\n",
        "\n"
      ]
    },
    {
      "cell_type": "code",
      "execution_count": null,
      "metadata": {
        "id": "cYBWDEBRTMve",
        "colab": {
          "base_uri": "https://localhost:8080/"
        },
        "outputId": "1692ec05-a032-4bb8-fc5d-afc051bf6c36"
      },
      "outputs": [
        {
          "output_type": "stream",
          "name": "stdout",
          "text": [
            "torch.Size([6, 20, 20])\n",
            "torch.Size([2400])\n",
            "torch.Size([2400])\n"
          ]
        }
      ],
      "source": [
        "output3d = torch.rand(6, 20, 20)\n",
        "print(output3d.shape)\n",
        "\n",
        "input1d = output3d.reshape(6 * 20 * 20)\n",
        "print(input1d.shape)\n",
        "\n",
        "# can also call it as a method on the torch module:\n",
        "print(torch.reshape(output3d, (6 * 20 * 20,)).shape)"
      ]
    },
    {
      "cell_type": "code",
      "source": [
        "output3d = torch.rand(2,3)\n",
        "print(output3d.shape)\n",
        "\n",
        "input1d = output3d.reshape(6 )\n",
        "print(input1d.shape)\n",
        "\n",
        "# can also call it as a method on the torch module:\n",
        "print(torch.reshape(output3d, (6,)).shape)\n",
        "print(torch.flatten(output3d).shape)\n",
        "print(input1d)\n",
        "print(torch.flatten(output3d))"
      ],
      "metadata": {
        "colab": {
          "base_uri": "https://localhost:8080/"
        },
        "id": "-37FnDhG0EJQ",
        "outputId": "28127413-cf3e-4c61-c895-ef5e69fef9ff"
      },
      "execution_count": null,
      "outputs": [
        {
          "output_type": "stream",
          "name": "stdout",
          "text": [
            "torch.Size([2, 3])\n",
            "torch.Size([6])\n",
            "torch.Size([6])\n",
            "torch.Size([6])\n",
            "tensor([0.6130, 0.2704, 0.8685, 0.1318, 0.4636, 0.8375])\n",
            "tensor([0.6130, 0.2704, 0.8685, 0.1318, 0.4636, 0.8375])\n"
          ]
        }
      ]
    },
    {
      "cell_type": "markdown",
      "metadata": {
        "id": "MeQRf1jGTMvf"
      },
      "source": [
        "El argumento ``(6 * 20 * 20,)`` en la línea final de la celda anterior se debe a que PyTorch espera una **tupla** al especificar una forma de tensor, pero cuando la forma es el primer argumento de un método, nos permite hacer trampa y simplemente usar una serie de números enteros. Aquí, tuvimos que agregar los paréntesis y la coma para convencer al método de que se trata realmente de una tupla de un elemento.\n",
        "\n",
        "Cuando pueda, ``reshape()`` devolverá una *vista* del tensor a ser\n",
        "cambiado, es decir, un objeto tensor separado que mira la misma región subyacente de la memoria. *Esto es importante:* Eso significa que cualquier cambio realizado en el tensor fuente se reflejará en la vista de ese tensor, a menos que le hagas ``clone()``.\n",
        "\n",
        "Para obtener más información, consulte la\n",
        "documentación <https://pytorch.org/docs/stable/torch.html#torch.reshape>\n",
        "\n",
        "\n"
      ]
    },
    {
      "cell_type": "markdown",
      "metadata": {
        "id": "AX3g_hRtTMvf"
      },
      "source": [
        "Puente con NumPy\n",
        "------------\n",
        "\n",
        "En la sección anterior sobre broadcasting, se mencionó que la semántica de broadcasting de PyTorch es compatible con la de NumPy, pero la afinidad entre PyTorch y NumPy es aún más profunda que eso.\n",
        "\n",
        "Si tiene código científico o de ML pre-existente con datos almacenados en NumPy ndarrays, es posible que desee expresar esos mismos datos como tensores PyTorch, ya sea para aprovechar la aceleración GPU de PyTorch o sus abstracciones eficientes para construir modelos neuronales. \n",
        "\n",
        "Pues es fácil cambiar entre ndarrays y tensores PyTorch:\n",
        "\n",
        "\n"
      ]
    },
    {
      "cell_type": "code",
      "execution_count": null,
      "metadata": {
        "id": "V1WMPpyvTMvf",
        "colab": {
          "base_uri": "https://localhost:8080/"
        },
        "outputId": "d799c7a6-6695-4b71-901b-f7520dcb6a5f"
      },
      "outputs": [
        {
          "output_type": "stream",
          "name": "stdout",
          "text": [
            "[[1. 1. 1.]\n",
            " [1. 1. 1.]]\n",
            "tensor([[1., 1., 1.],\n",
            "        [1., 1., 1.]], dtype=torch.float64)\n"
          ]
        }
      ],
      "source": [
        "import numpy as np\n",
        "\n",
        "numpy_array = np.ones((2, 3))\n",
        "print(numpy_array)\n",
        "\n",
        "pytorch_tensor = torch.from_numpy(numpy_array)\n",
        "print(pytorch_tensor)"
      ]
    },
    {
      "cell_type": "markdown",
      "metadata": {
        "id": "A5OzNOIxTMvf"
      },
      "source": [
        "PyTorch crea un tensor de la misma forma y que contiene los mismos datos que los arreglos NumPy, llegando incluso a mantener el tipo de datos flotante de 64 bits predeterminado de NumPy.\n",
        "\n",
        "La conversión puede ir fácilmente a la inversa:\n",
        "\n",
        "\n"
      ]
    },
    {
      "cell_type": "code",
      "execution_count": null,
      "metadata": {
        "id": "1EWg0MuqTMvg",
        "colab": {
          "base_uri": "https://localhost:8080/"
        },
        "outputId": "aec2a6b5-3a7c-4219-dd69-0a3225f8f8e0"
      },
      "outputs": [
        {
          "output_type": "stream",
          "name": "stdout",
          "text": [
            "tensor([[0.1473, 0.3656, 0.6621],\n",
            "        [0.9732, 0.6551, 0.1617]])\n",
            "[[0.14727676 0.36557376 0.6620644 ]\n",
            " [0.9732152  0.6550601  0.16165006]]\n"
          ]
        }
      ],
      "source": [
        "pytorch_rand = torch.rand(2, 3)\n",
        "print(pytorch_rand)\n",
        "\n",
        "numpy_rand = pytorch_rand.numpy()\n",
        "print(numpy_rand)"
      ]
    },
    {
      "cell_type": "markdown",
      "metadata": {
        "id": "lfLR2tBaTMvg"
      },
      "source": [
        "Es importante saber que estos objetos convertidos utilizan *la misma memoria subyacente* que sus objetos de origen, lo que significa que los cambios en uno se reflejan en el otro:\n",
        "\n",
        "\n"
      ]
    },
    {
      "cell_type": "code",
      "execution_count": null,
      "metadata": {
        "id": "NUVqJqOMTMvg",
        "colab": {
          "base_uri": "https://localhost:8080/"
        },
        "outputId": "1113a46e-4c8b-4679-d9b4-c5d20d7df638"
      },
      "outputs": [
        {
          "output_type": "stream",
          "name": "stdout",
          "text": [
            "tensor([[ 1.,  1.,  1.],\n",
            "        [ 1., 23.,  1.]], dtype=torch.float64)\n",
            "[[ 0.14727676  0.36557376  0.6620644 ]\n",
            " [ 0.9732152  17.          0.16165006]]\n"
          ]
        }
      ],
      "source": [
        "numpy_array[1, 1] = 23\n",
        "print(pytorch_tensor)\n",
        "\n",
        "pytorch_rand[1, 1] = 17\n",
        "print(numpy_rand)"
      ]
    },
    {
      "cell_type": "markdown",
      "source": [
        "Datasets & DataLoaders\n",
        "==================="
      ],
      "metadata": {
        "id": "3WM6CDSHx47S"
      }
    },
    {
      "cell_type": "markdown",
      "metadata": {
        "id": "BZVZW5cUjjYB"
      },
      "source": [
        "\n",
        "El código para procesar muestras de datos puede complicarse y ser difícil de mantener. Idealmente, queremos que nuestro código de conjunto de datos esté desacoplado de nuestro código de entrenamiento del modelo para una mejor legibilidad y modularidad.\n",
        "PyTorch proporciona dos primitivas de datos: ``torch.utils.data.DataLoader`` y ``torch.utils.data.Dataset`` que nos permiten usar datasets precargados, así como nuestros propios datos. ``Dataset`` almacena las muestras y sus etiquetas correspondientes, y ``DataLoader`` envuelve un iterable alrededor del ``Dataset`` para facilitar el acceso a las muestras.\n",
        "\n",
        "PyTorch proporciona una serie de datasets precargados precargados (como FashionMNIST) que son una subclase de ``torch.utils.data.Dataset`` e implementan funciones específicas para los datos en particular. Se pueden usar para crear prototipos y comparar su modelo. Puede encontrarlos aquí: [Dataset de imágenes](https://pytorch.org/vision/stable/datasets.html), [Datasets de texto](https://pytorch.org/text/stable/datasets.html) y [Datasets de audio](https://pytorch.org/audio/stable/datasets.html)"
      ]
    },
    {
      "cell_type": "markdown",
      "metadata": {
        "id": "Yi8fWTrSjjYD"
      },
      "source": [
        "Cargar un Dataset\n",
        "-------------------\n",
        "\n",
        "Este es un ejemplo de cómo cargar el conjunto de datos `Fashion-MNIST <https://research.zalando.com/project/fashion_mnist/fashion_mnist/>`_ de TorchVision.\n",
        "Fashion-MNIST es un conjunto de datos de imágenes de artículos de Zalando que consta de 60 000 ejemplos de entrenamiento y 10 000 ejemplos de prueba. Cada ejemplo comprende una imagen en escala de grises de 28 × 28 y una etiqueta asociada de una de las 10 clases.\n",
        "\n",
        "Cargamos el `Conjunto de datos FashionMNIST <https://pytorch.org/vision/stable/datasets.html#fashion-mnist>`_ con los siguientes parámetros:\n",
        "  - ``root`` es la ruta donde se almacenan los datos del entrenamiento/prueba,\n",
        "  - ``train`` especifica si es un dataset de entrenamiento o prueba,\n",
        "  - ``download=True`` descarga los datos de Internet si no están disponibles en ``root``.\n",
        "  - ``transform`` y ``target_transform`` especifican las transformaciones de características y etiquetas\n",
        "\n",
        "\n"
      ]
    },
    {
      "cell_type": "code",
      "execution_count": null,
      "metadata": {
        "id": "R1CnIRIpjjYD",
        "colab": {
          "base_uri": "https://localhost:8080/",
          "height": 423,
          "referenced_widgets": [
            "6170dfb9f21f48a39fb1645eaeecfd55",
            "d9e365b4fcb442989293cf8b9467a8fa",
            "5164d195368f4f4cafd5255af9318e08",
            "1deff5f304ee4a62aac9a822c6e9e2f9",
            "8156effc82c843a286d51ed2e29f1c50",
            "decb7e8b32fd4135a671cff5a772422e",
            "2e7c68f0cc5143f18c4c69b6244876b0",
            "2f7127a2e6ab433aa9acc4b06d1bf11e",
            "44c4d3753ee94cd6a721121dfc619602",
            "4ee31e6eef14468eaabb08db457358f1",
            "433f9122a9344255942dfa948ddd8363",
            "6a09eb426ec34895b2ed586b90992d6f",
            "37d28b1ad1b846d48b4ef4362ba35b7f",
            "8dfd8d2363924c67b4eba01cd07a8306",
            "c47475e485e947c293c67c34f8c54d36",
            "ae67d5fa44eb420ea0c9c3bca80f2246",
            "2bd15fd7324f43cf9165a5b3babfd6dc",
            "9c694fc59d104dbda8300f18f2d51b3c",
            "2b3ed4e3aa6e4cbfbac0c098e644e9a2",
            "2b5a2bb00f424d768130a7021f36a238",
            "dcc9ffb0529e4c56822dcc7bacbcd94d",
            "05bce64c800846ce8d6ef2570ba37e59",
            "cd1810982c9648cfa46e8b0e1b6ca800",
            "275c12154d674999803f332f6449bd51",
            "999e0b4328494e8ba48f5d6181caf181",
            "773fda4cef5e448ba32e5b32df842922",
            "e46e5f26ee5c43aeaf7421c394894593",
            "6ee6764df5b1477dbf5c8e2f64144609",
            "7d34b47b8c224a0f89ec2c89db10b3d6",
            "6aa6c3876d6d40a880db02f67d65dee2",
            "4ba680d6d46049de860f691cea7895ab",
            "89be9723e2b74281835760906c968ff5",
            "9af91e46dfc34e8e85cb63b80fdd5b58",
            "cb13183c79bd40b38095264a60d05394",
            "078e32237d4f4fd8bc2d972d97db4568",
            "26f25c59a15d4082a771fa866972c4fd",
            "b9863d6b89834e4c94863e1853d9b8c3",
            "8a0949a2c95542ff853fbc93849badd9",
            "3953f43aca2f46d8ae793c81ce35d46e",
            "639f9a2f42b74c0abdcd6c4eb5db8290",
            "6c4671052f5e484eb15e8f7b9f45095e",
            "299bdc1d19b94d4489de7c46b399fd86",
            "3e04741ca61c475c87e53b1c6ea32952",
            "cf06725f271746f1b3ceb1088875f143"
          ]
        },
        "outputId": "3820dafb-ab7d-4bc4-cd20-a6decedd4c22"
      },
      "outputs": [
        {
          "output_type": "stream",
          "name": "stdout",
          "text": [
            "Downloading http://fashion-mnist.s3-website.eu-central-1.amazonaws.com/train-images-idx3-ubyte.gz\n",
            "Downloading http://fashion-mnist.s3-website.eu-central-1.amazonaws.com/train-images-idx3-ubyte.gz to data/FashionMNIST/raw/train-images-idx3-ubyte.gz\n"
          ]
        },
        {
          "output_type": "display_data",
          "data": {
            "text/plain": [
              "  0%|          | 0/26421880 [00:00<?, ?it/s]"
            ],
            "application/vnd.jupyter.widget-view+json": {
              "version_major": 2,
              "version_minor": 0,
              "model_id": "6170dfb9f21f48a39fb1645eaeecfd55"
            }
          },
          "metadata": {}
        },
        {
          "output_type": "stream",
          "name": "stdout",
          "text": [
            "Extracting data/FashionMNIST/raw/train-images-idx3-ubyte.gz to data/FashionMNIST/raw\n",
            "\n",
            "Downloading http://fashion-mnist.s3-website.eu-central-1.amazonaws.com/train-labels-idx1-ubyte.gz\n",
            "Downloading http://fashion-mnist.s3-website.eu-central-1.amazonaws.com/train-labels-idx1-ubyte.gz to data/FashionMNIST/raw/train-labels-idx1-ubyte.gz\n"
          ]
        },
        {
          "output_type": "display_data",
          "data": {
            "text/plain": [
              "  0%|          | 0/29515 [00:00<?, ?it/s]"
            ],
            "application/vnd.jupyter.widget-view+json": {
              "version_major": 2,
              "version_minor": 0,
              "model_id": "6a09eb426ec34895b2ed586b90992d6f"
            }
          },
          "metadata": {}
        },
        {
          "output_type": "stream",
          "name": "stdout",
          "text": [
            "Extracting data/FashionMNIST/raw/train-labels-idx1-ubyte.gz to data/FashionMNIST/raw\n",
            "\n",
            "Downloading http://fashion-mnist.s3-website.eu-central-1.amazonaws.com/t10k-images-idx3-ubyte.gz\n",
            "Downloading http://fashion-mnist.s3-website.eu-central-1.amazonaws.com/t10k-images-idx3-ubyte.gz to data/FashionMNIST/raw/t10k-images-idx3-ubyte.gz\n"
          ]
        },
        {
          "output_type": "display_data",
          "data": {
            "text/plain": [
              "  0%|          | 0/4422102 [00:00<?, ?it/s]"
            ],
            "application/vnd.jupyter.widget-view+json": {
              "version_major": 2,
              "version_minor": 0,
              "model_id": "cd1810982c9648cfa46e8b0e1b6ca800"
            }
          },
          "metadata": {}
        },
        {
          "output_type": "stream",
          "name": "stdout",
          "text": [
            "Extracting data/FashionMNIST/raw/t10k-images-idx3-ubyte.gz to data/FashionMNIST/raw\n",
            "\n",
            "Downloading http://fashion-mnist.s3-website.eu-central-1.amazonaws.com/t10k-labels-idx1-ubyte.gz\n",
            "Downloading http://fashion-mnist.s3-website.eu-central-1.amazonaws.com/t10k-labels-idx1-ubyte.gz to data/FashionMNIST/raw/t10k-labels-idx1-ubyte.gz\n"
          ]
        },
        {
          "output_type": "display_data",
          "data": {
            "text/plain": [
              "  0%|          | 0/5148 [00:00<?, ?it/s]"
            ],
            "application/vnd.jupyter.widget-view+json": {
              "version_major": 2,
              "version_minor": 0,
              "model_id": "cb13183c79bd40b38095264a60d05394"
            }
          },
          "metadata": {}
        },
        {
          "output_type": "stream",
          "name": "stdout",
          "text": [
            "Extracting data/FashionMNIST/raw/t10k-labels-idx1-ubyte.gz to data/FashionMNIST/raw\n",
            "\n"
          ]
        }
      ],
      "source": [
        "import torch\n",
        "from torch.utils.data import Dataset\n",
        "from torchvision import datasets\n",
        "from torchvision.transforms import ToTensor\n",
        "import matplotlib.pyplot as plt\n",
        "\n",
        "\n",
        "training_data = datasets.FashionMNIST(\n",
        "    root=\"data\",\n",
        "    train=True,\n",
        "    download=True,\n",
        "    transform=ToTensor()\n",
        ")\n",
        "\n",
        "test_data = datasets.FashionMNIST(\n",
        "    root=\"data\",\n",
        "    train=False,\n",
        "    download=True,\n",
        "    transform=ToTensor()\n",
        ")"
      ]
    },
    {
      "cell_type": "markdown",
      "metadata": {
        "id": "JATRpV7CjjYE"
      },
      "source": [
        "Iterar and Visualizar el Dataset\n",
        "-----------------\n",
        "\n",
        "Podemos indexar ``Datasets`` manualmente como una lista: ``training_data[index]``. Usamos ``matplotlib`` para visualizar algunas muestras en nuestros datos de entrenamiento."
      ]
    },
    {
      "cell_type": "code",
      "source": [
        "figure = plt.figure(figsize=(8, 8))\n",
        "cols, rows = 1, 1\n",
        "for i in range(1, cols * rows + 1):\n",
        "    sample_idx = 33388\n",
        "    img, label = training_data[sample_idx]\n",
        "    figure.add_subplot(rows, cols, i)\n",
        "    plt.axis(\"off\")\n",
        "    plt.imshow(img.squeeze(), cmap=\"gray\")\n",
        "plt.show()"
      ],
      "metadata": {
        "colab": {
          "base_uri": "https://localhost:8080/",
          "height": 466
        },
        "id": "46_1ebnC3iS0",
        "outputId": "dfd6bdc0-19c3-45b0-8d77-0dab97584492"
      },
      "execution_count": null,
      "outputs": [
        {
          "output_type": "display_data",
          "data": {
            "text/plain": [
              "<Figure size 576x576 with 1 Axes>"
            ],
            "image/png": "[encoded data removed]"
          },
          "metadata": {
            "needs_background": "light"
          }
        }
      ]
    },
    {
      "cell_type": "code",
      "source": [
        "type(training_data)"
      ],
      "metadata": {
        "colab": {
          "base_uri": "https://localhost:8080/"
        },
        "id": "dbj3Q74OCQl_",
        "outputId": "0229ab06-61ff-47f3-e937-0254051ab307"
      },
      "execution_count": null,
      "outputs": [
        {
          "output_type": "execute_result",
          "data": {
            "text/plain": [
              "torchvision.datasets.mnist.FashionMNIST"
            ]
          },
          "metadata": {},
          "execution_count": 109
        }
      ]
    },
    {
      "cell_type": "code",
      "execution_count": null,
      "metadata": {
        "id": "i1JltgWIjjYE",
        "colab": {
          "base_uri": "https://localhost:8080/",
          "height": 482
        },
        "outputId": "1e9f849f-27b4-40d8-a62b-6c303626831e"
      },
      "outputs": [
        {
          "output_type": "display_data",
          "data": {
            "text/plain": [
              "<Figure size 576x576 with 25 Axes>"
            ],
            "image/png": "[encoded data removed]"
          },
          "metadata": {
            "needs_background": "light"
          }
        }
      ],
      "source": [
        "labels_map = {\n",
        "    0: \"T-Shirt\",\n",
        "    1: \"Trouser\",\n",
        "    2: \"Pullover\",\n",
        "    3: \"Dress\",\n",
        "    4: \"Coat\",\n",
        "    5: \"Sandal\",\n",
        "    6: \"Shirt\",\n",
        "    7: \"Sneaker\",\n",
        "    8: \"Bag\",\n",
        "    9: \"Ankle Boot\",\n",
        "}\n",
        "figure = plt.figure(figsize=(8, 8))\n",
        "cols, rows = 5, 5\n",
        "for i in range(1, cols * rows + 1):\n",
        "    sample_idx = torch.randint(len(training_data), size=(1,)).item()\n",
        "    img, label = training_data[sample_idx]\n",
        "    figure.add_subplot(rows, cols, i)\n",
        "    plt.title(labels_map[label])\n",
        "    plt.axis(\"off\")\n",
        "    plt.imshow(img.squeeze(), cmap=\"gray\")\n",
        "plt.show()"
      ]
    },
    {
      "cell_type": "markdown",
      "metadata": {
        "id": "2Vai_flPjjYF"
      },
      "source": [
        "..\n",
        " .. figure:: /_static/img/basics/fashion_mnist.png\n",
        "   :alt: fashion_mnist\n",
        "\n"
      ]
    },
    {
      "cell_type": "markdown",
      "metadata": {
        "id": "uCBQiwi2jjYG"
      },
      "source": [
        "--------------\n",
        "\n",
        "\n"
      ]
    },
    {
      "cell_type": "markdown",
      "metadata": {
        "id": "r06a_4R6jjYG"
      },
      "source": [
        "Creación de un Dataset personalizado para nuestros archivos\n",
        "--------------------------------------------------\n",
        "\n",
        "Una clase Dataset personalizada debe implementar tres funciones: `__init__`, `__len__` y `__getitem__`. Echemos un vistazo a esta implementación; las imágenes de FashionMNIST se almacenan en un directorio ``img_dir``, y sus etiquetas se almacenan por separado en un archivo CSV ``annotations_file``.\n",
        "\n",
        "En las siguientes secciones, desglosaremos lo que sucede en cada una de estas funciones.\n",
        "\n"
      ]
    },
    {
      "cell_type": "code",
      "execution_count": null,
      "metadata": {
        "id": "PU_dUmI-jjYG"
      },
      "outputs": [],
      "source": [
        "import os\n",
        "import pandas as pd\n",
        "from torchvision.io import read_image\n",
        "\n",
        "class CustomImageDataset(Dataset):\n",
        "    def __init__(self, annotations_file, img_dir, transform=None, target_transform=None):\n",
        "        self.img_labels = pd.read_csv(annotations_file)\n",
        "        self.img_dir = img_dir\n",
        "        self.transform = transform\n",
        "        self.target_transform = target_transform\n",
        "\n",
        "    def __len__(self):\n",
        "        return len(self.img_labels)\n",
        "\n",
        "    def __getitem__(self, idx):\n",
        "        img_path = os.path.join(self.img_dir, self.img_labels.iloc[idx, 0])\n",
        "        image = read_image(img_path)\n",
        "        label = self.img_labels.iloc[idx, 1]\n",
        "        if self.transform:\n",
        "            image = self.transform(image)\n",
        "        if self.target_transform:\n",
        "            label = self.target_transform(label)\n",
        "        return image, label"
      ]
    },
    {
      "cell_type": "markdown",
      "metadata": {
        "id": "DPCvcHmJjjYH"
      },
      "source": [
        "### \\_\\_init__\n",
        "\n",
        "La función __init__ se ejecuta una vez al instanciar el objeto Dataset. Inicializamos el directorio que contiene las imágenes, el annotations_file y ambas transformaciones (tratadas con más detalle en la siguiente sección).\n",
        "\n",
        "El archivo etiquetas.csv se ve así:\n",
        "\n",
        "\n",
        "    tshirt1.jpg, 0\n",
        "    tshirt2.jpg, 0\n",
        "    ......\n",
        "    ankleboot999.jpg, 9\n",
        "\n"
      ]
    },
    {
      "cell_type": "code",
      "execution_count": null,
      "metadata": {
        "id": "2zW_nfbRjjYH"
      },
      "outputs": [],
      "source": [
        "def __init__(self, annotations_file, img_dir, transform=None, target_transform=None):\n",
        "    self.img_labels = pd.read_csv(annotations_file)\n",
        "    self.img_dir = img_dir\n",
        "    self.transform = transform\n",
        "    self.target_transform = target_transform"
      ]
    },
    {
      "cell_type": "markdown",
      "metadata": {
        "id": "6IFhO0IAjjYH"
      },
      "source": [
        "### \\_\\_len__\n",
        "\n",
        "La función __len__ devuelve el número de muestras en nuestro dataset.\n",
        "\n",
        "Ejemplo:\n",
        "\n"
      ]
    },
    {
      "cell_type": "code",
      "execution_count": null,
      "metadata": {
        "id": "GpUGaKpXjjYI"
      },
      "outputs": [],
      "source": [
        "def __len__(self):\n",
        "    return len(self.img_labels)"
      ]
    },
    {
      "cell_type": "markdown",
      "metadata": {
        "id": "aCwDHjcXjjYI"
      },
      "source": [
        "### \\_\\_getitem__\n",
        "\n",
        "La función __getitem__ carga y devuelve una muestra del dataset en el índice dado ``idx``. Según el índice, identifica la ubicación de la imagen en el disco, la convierte en un tensor usando ``read_image``, recupera la etiqueta correspondiente de los datos csv en `self.img_labels``, llama a las funciones de transformación en ellos (si corresponde ) y devuelve la imagen del tensor y la etiqueta correspondiente en una tupla.\n",
        "\n"
      ]
    },
    {
      "cell_type": "code",
      "execution_count": null,
      "metadata": {
        "id": "rAZ3CuGjjjYI"
      },
      "outputs": [],
      "source": [
        "def __getitem__(self, idx):\n",
        "    img_path = os.path.join(self.img_dir, self.img_labels.iloc[idx, 0])\n",
        "    image = read_image(img_path)\n",
        "    label = self.img_labels.iloc[idx, 1]\n",
        "    if self.transform:\n",
        "        image = self.transform(image)\n",
        "    if self.target_transform:\n",
        "        label = self.target_transform(label)\n",
        "    return image, label"
      ]
    },
    {
      "cell_type": "markdown",
      "metadata": {
        "id": "4R4YVfwajjYJ"
      },
      "source": [
        "--------------\n",
        "\n",
        "\n"
      ]
    },
    {
      "cell_type": "markdown",
      "metadata": {
        "id": "TUQD9qCPjjYJ"
      },
      "source": [
        "Preparando nuestros datos para el entrenamiento con DataLoaders\n",
        "-------------------------------------------------\n",
        "El ``Dataset`` recupera las características y etiquetas de nuestro conjunto de datos una muestra a la vez. Mientras entrenamos un modelo, normalmente queremos pasar muestras en \"minilotes\", mezclar los datos en cada época para reducir el sobreajuste del modelo y usar el ``multiprocesamiento`` de Python para acelerar la recuperación de datos.\n",
        "\n",
        "``DataLoader`` es un iterador que abstrae esta complejidad para nosotros en una API fácil.\n"
      ]
    },
    {
      "cell_type": "code",
      "execution_count": null,
      "metadata": {
        "id": "i0Kfo5gGjjYK"
      },
      "outputs": [],
      "source": [
        "from torch.utils.data import DataLoader\n",
        "\n",
        "train_dataloader = DataLoader(training_data, batch_size=64, shuffle=True)\n",
        "test_dataloader = DataLoader(test_data, batch_size=64, shuffle=True)"
      ]
    },
    {
      "cell_type": "markdown",
      "metadata": {
        "id": "sUL5hJEfjjYK"
      },
      "source": [
        "Iterar a través del DataLoader\n",
        "--------------------------\n",
        "\n",
        "Hemos cargado ese conjunto de datos en ``DataLoader`` y podemos iterar a través del dataset según sea necesario. Cada iteración a continuación devuelve un lote de ``train_features`` y ``train_labels`` (que contienen ``batch_size=64`` para las características y etiquetas respectivamente). Debido a que especificamos ``shuffle=True``, después de iterar sobre todos los lotes, los datos se mezclan (para un control más detallado sobre el orden de carga de datos, eche un vistazo a [Samplers](https://pytorch.org/docs/stable/data.html#data-loading-order-and-sampler)).\n",
        "\n"
      ]
    },
    {
      "cell_type": "code",
      "execution_count": null,
      "metadata": {
        "id": "stk-CRHHjjYK",
        "colab": {
          "base_uri": "https://localhost:8080/",
          "height": 317
        },
        "outputId": "cbb6584a-44de-40ef-b6ee-55ccb65d3f09"
      },
      "outputs": [
        {
          "output_type": "stream",
          "name": "stdout",
          "text": [
            "Feature batch shape: torch.Size([64, 1, 28, 28])\n",
            "Labels batch shape: torch.Size([64])\n"
          ]
        },
        {
          "output_type": "display_data",
          "data": {
            "text/plain": [
              "<Figure size 432x288 with 1 Axes>"
            ],
            "image/png": "[encoded data removed]"
          },
          "metadata": {
            "needs_background": "light"
          }
        },
        {
          "output_type": "stream",
          "name": "stdout",
          "text": [
            "Label: 1\n"
          ]
        }
      ],
      "source": [
        "# Display image and label.\n",
        "train_features, train_labels = next(iter(train_dataloader))\n",
        "print(f\"Feature batch shape: {train_features.size()}\")\n",
        "print(f\"Labels batch shape: {train_labels.size()}\")\n",
        "img = train_features[0].squeeze()\n",
        "label = train_labels[0]\n",
        "plt.imshow(img, cmap=\"gray\")\n",
        "plt.show()\n",
        "print(f\"Label: {label}\")"
      ]
    },
    {
      "cell_type": "code",
      "source": [
        "img = train_features[63].squeeze()\n",
        "label = train_labels[63]\n",
        "plt.imshow(img, cmap=\"gray\")\n",
        "plt.show()\n",
        "print(f\"Label: {label}\")"
      ],
      "metadata": {
        "colab": {
          "base_uri": "https://localhost:8080/",
          "height": 282
        },
        "id": "KPH7JKL4E_ag",
        "outputId": "174fac14-1e17-4c38-c115-786b73e66966"
      },
      "execution_count": null,
      "outputs": [
        {
          "output_type": "display_data",
          "data": {
            "text/plain": [
              "<Figure size 432x288 with 1 Axes>"
            ],
            "image/png": "[encoded data removed]"
          },
          "metadata": {
            "needs_background": "light"
          }
        },
        {
          "output_type": "stream",
          "name": "stdout",
          "text": [
            "Label: 1\n"
          ]
        }
      ]
    },
    {
      "cell_type": "markdown",
      "metadata": {
        "id": "szXExIP7jjYK"
      },
      "source": [
        "--------------\n",
        "\n",
        "\n"
      ]
    },
    {
      "cell_type": "markdown",
      "metadata": {
        "id": "uxIeZxcTjjYK"
      },
      "source": [
        "Para más información\n",
        "--------------\n",
        "- [torch.utils.data API](https://pytorch.org/docs/stable/data.html)\n",
        "\n"
      ]
    },
    {
      "cell_type": "markdown",
      "source": [
        "Los fundamentos de Autograd\n",
        "============================"
      ],
      "metadata": {
        "id": "a9kE87ktx-Q_"
      }
    },
    {
      "cell_type": "markdown",
      "metadata": {
        "id": "IzsNtgYNQTP7"
      },
      "source": [
        "\n",
        "\n",
        "\n",
        "La función *Autograd* de PyTorch es parte de lo que hace que PyTorch sea flexible y rápido para crear proyectos de aprendizaje automático. Permite el cálculo rápido y sencillo de múltiples derivadas parciales (también conocidas como *gradientes)* en un cálculo complejo. Esta operación es fundamental para el aprendizaje de redes neuronales basado en backpropagation.\n",
        "\n",
        "El poder de autograd proviene del hecho de que rastrea su\n",
        "computación dinámicamente *en tiempo de ejecución*, lo que significa que si su modelo tiene ramas de decisión o bucles cuyas longitudes no se conocen hasta el tiempo de ejecución, la computación aún se rastreará correctamente y obtendrá gradientes correctos para impulsar el aprendizaje. Esto, combinado con el hecho de que sus modelos están construidos en Python, ofrece mucha más flexibilidad que los frameworks que se basan en el análisis estático de un modelo de estructura más rígida para calcular gradientes.\n"
      ]
    },
    {
      "cell_type": "markdown",
      "source": [
        "\n",
        "¿Para qué necesitamos Autograd?\n",
        "--------------------------------------------"
      ],
      "metadata": {
        "id": "GNr0Tbcvwf1n"
      }
    },
    {
      "cell_type": "code",
      "source": [],
      "metadata": {
        "id": "ojttGjkZ6fxq"
      },
      "execution_count": null,
      "outputs": []
    },
    {
      "cell_type": "markdown",
      "metadata": {
        "id": "djOA_-P5QTQC"
      },
      "source": [
        "Un modelo de aprendizaje automático es una *función*, con entradas y salidas. Para esta discusión, trataremos a las entradas como un vector de dimensión *i* $\\vec{x}$, con elementos $x_{i}$. Entonces podemos expresar el modelo, *M*, como una función vectorial de la entrada: $\\vec{y} = \\vec{M}(\\vec{x})$. (Tratamos el valor de la salida de M como un vector porque, en general, un modelo puede tener cualquier número de salidas).\n",
        "\n",
        "Dado que principalmente hablaremos de autograd en el contexto del entrenamiento, nuestro resultado de interés será la pérdida del modelo. La *función de pérdida* L($\\vec{y}$) = L($\\vec{M}$($\\vec{x}$)) es una función escalar de valor único que depende de la salida del modelo. Esta función expresa qué tan lejos estaba la predicción de nuestro modelo de la salida *ideal* de una entrada en particular. *Nota: después de este punto, a menudo omitiremos el signo del vector donde debería ser contextualmente claro, por ejemplo,* $y$ en lugar de $\\vec y$.\n",
        "\n",
        "Al entrenar un modelo, queremos minimizar la pérdida. En el caso idealizado de un modelo perfecto, eso significa ajustar sus pesos de aprendizaje, es decir, los parámetros ajustables de la función, de modo que la pérdida sea cero para todas las entradas. En el mundo real, significa un proceso iterativo de empujar los pesos de aprendizaje hasta que veamos que obtenemos una pérdida tolerable para una amplia variedad de entradas.\n",
        "\n",
        "¿Cómo decidimos hasta dónde y en qué dirección empujar los pesos? Queremos *minimizar* la pérdida, lo que significa hacer que su primera derivada con respecto a la entrada sea igual a 0:\n",
        "$\\frac{\\partial L}{\\partial x} = 0$.\n",
        "\n",
        "Sin embargo, recuerde que la pérdida no se deriva *directamente* de la entrada, sino que es una función de la salida del modelo (que es una función directa de la entrada), $\\frac{\\partial L}{\\partial x}$ =\n",
        "$\\frac{\\partial {L({\\vec y})}}{\\partial x}$. \n",
        "\n",
        "Por la regla de la cadena del cálculo diferencial, tenemos\n",
        "\n",
        "$$\\frac{\\partial {L({\\vec y})}}{\\partial x} =\n",
        "\\frac{\\partial L}{\\partial y}\\frac{\\partial y}{\\partial x} =\n",
        "\\frac{\\partial L}{\\partial y}\\frac{\\partial M(x)}{\\partial x}$$\n",
        "\n",
        "$\\frac{\\partial M(x)}{\\partial x}$ es donde las cosas se ponen complejas.\n",
        "Las derivadas parciales de las salidas del modelo con respecto a sus entradas, si tuviéramos que expandir la expresión usando la regla de la cadena nuevamente, involucrarían muchas derivadas parciales locales sobre cada peso de aprendizaje multiplicado, cada función de activación y cualquier otra transformación matemática en el modelo. La expresión completa para cada derivada parcial es la suma de los productos del gradiente local de *todas las rutas posibles* a través del grafo computacional que termina con la variable cuyo gradiente estamos tratando de medir.\n",
        "\n",
        "En particular, los gradientes sobre los pesos de aprendizaje nos interesan: nos dicen *en qué dirección cambiar cada peso* para acercar la función de pérdida a cero. Dado que el número de tales derivadas locales (cada uno correspondiente a una ruta separada a través del grafo commputacional del modelo) tenderá a aumentar exponencialmente con la profundidad de una red neuronal, también lo hace la complejidad de calcularlas. \n",
        "\n",
        "![Imgur](https://i.imgur.com/vnYfIrR.png)\n",
        "\n",
        "\n",
        "Aquí es donde entra en juego autograd: realiza un seguimiento del historial de cada cálculo. Cada tensor calculado en su modelo PyTorch lleva un historial de sus tensores de entrada y la función utilizada para crearlo. Combinado con el hecho de que las funciones de PyTorch destinadas a actuar sobre tensores tienen una implementación integrada para calcular sus propias derivadas, esto acelera enormemente el cálculo de las derivadas locales necesarias para el aprendizaje.\n",
        "\n",
        "\n",
        "\n",
        "\n"
      ]
    },
    {
      "cell_type": "markdown",
      "source": [
        "Un ejemplo sencillo\n",
        "----------------\n",
        "\n",
        "Eso fue mucha teoría, pero ¿cómo se ve usar autograd en\n",
        "¿práctica?\n",
        "\n",
        "Comencemos con un ejemplo sencillo. Primero, haremos algunas importaciones.\n",
        "para graficar nuestros resultados:"
      ],
      "metadata": {
        "id": "bstZ-pRZTmx9"
      }
    },
    {
      "cell_type": "code",
      "execution_count": null,
      "metadata": {
        "id": "AKgYQnoHQTQJ"
      },
      "outputs": [],
      "source": [
        "# %matplotlib inline\n",
        "\n",
        "import torch\n",
        "\n",
        "import matplotlib.pyplot as plt\n",
        "import matplotlib.ticker as ticker\n",
        "import math"
      ]
    },
    {
      "cell_type": "markdown",
      "metadata": {
        "id": "yGhicQtRQTQM"
      },
      "source": [
        "A continuación, crearemos un tensor de entrada lleno de valores espaciados uniformemente en el intervalo $[0, 2{\\pi}]$ y especificaremos ``requires_grad=True``. (Como la mayoría de las funciones que crean tensores, ``torch.linspace()`` acepta una opción ``requires_grad`` opcional). Establecer este indicador significa que en cada cálculo que sigue, autograd acumulará el historial del cálculo en el tensores de salida de ese cálculo.\n"
      ]
    },
    {
      "cell_type": "code",
      "execution_count": null,
      "metadata": {
        "id": "AU2DEN4wQTQP",
        "colab": {
          "base_uri": "https://localhost:8080/"
        },
        "outputId": "756c99fd-04c3-4c31-8210-fac961309bcd"
      },
      "outputs": [
        {
          "output_type": "stream",
          "name": "stdout",
          "text": [
            "tensor([0.0000, 0.2618, 0.5236, 0.7854, 1.0472, 1.3090, 1.5708, 1.8326, 2.0944,\n",
            "        2.3562, 2.6180, 2.8798, 3.1416, 3.4034, 3.6652, 3.9270, 4.1888, 4.4506,\n",
            "        4.7124, 4.9742, 5.2360, 5.4978, 5.7596, 6.0214, 6.2832],\n",
            "       requires_grad=True)\n"
          ]
        }
      ],
      "source": [
        "a = torch.linspace(0., 2. * math.pi, steps=25, requires_grad=True)\n",
        "print(a)"
      ]
    },
    {
      "cell_type": "markdown",
      "metadata": {
        "id": "qffuIrPNQTQS"
      },
      "source": [
        "\n",
        "A continuación, realizaremos un cálculo y graficaremos su salida en términos de sus entradas:\n",
        "\n"
      ]
    },
    {
      "cell_type": "code",
      "execution_count": null,
      "metadata": {
        "id": "zhseerqjQTQU",
        "colab": {
          "base_uri": "https://localhost:8080/",
          "height": 282
        },
        "outputId": "a0969fe2-5b7e-43a0-e48d-3926af8af331"
      },
      "outputs": [
        {
          "output_type": "execute_result",
          "data": {
            "text/plain": [
              "[<matplotlib.lines.Line2D at 0x7fce8086f8d0>]"
            ]
          },
          "metadata": {},
          "execution_count": 10
        },
        {
          "output_type": "display_data",
          "data": {
            "text/plain": [
              "<Figure size 432x288 with 1 Axes>"
            ],
            "image/png": "[encoded data removed]"
          },
          "metadata": {
            "needs_background": "light"
          }
        }
      ],
      "source": [
        "b = torch.sin(a)\n",
        "plt.plot(a.detach(), b.detach())"
      ]
    },
    {
      "cell_type": "markdown",
      "metadata": {
        "id": "B0DtTzTWQTQX"
      },
      "source": [
        "\n",
        "Echemos un vistazo más de cerca al tensor ``b``. Cuando lo imprimimos, vemos un indicador de que está rastreando su historial de cómputo:\n",
        "\n"
      ]
    },
    {
      "cell_type": "code",
      "execution_count": null,
      "metadata": {
        "id": "XGxfMSEaQTQa",
        "colab": {
          "base_uri": "https://localhost:8080/"
        },
        "outputId": "7ad0257a-7821-4a05-a9a6-b5626dbc106a"
      },
      "outputs": [
        {
          "output_type": "stream",
          "name": "stdout",
          "text": [
            "tensor([ 0.0000e+00,  2.5882e-01,  5.0000e-01,  7.0711e-01,  8.6603e-01,\n",
            "         9.6593e-01,  1.0000e+00,  9.6593e-01,  8.6603e-01,  7.0711e-01,\n",
            "         5.0000e-01,  2.5882e-01, -8.7423e-08, -2.5882e-01, -5.0000e-01,\n",
            "        -7.0711e-01, -8.6603e-01, -9.6593e-01, -1.0000e+00, -9.6593e-01,\n",
            "        -8.6603e-01, -7.0711e-01, -5.0000e-01, -2.5882e-01,  1.7485e-07],\n",
            "       grad_fn=<SinBackward0>)\n"
          ]
        }
      ],
      "source": [
        "print(b)"
      ]
    },
    {
      "cell_type": "markdown",
      "metadata": {
        "id": "WWS0OvMoQTQb"
      },
      "source": [
        "Este ``grad_fn`` nos da una pista de que cuando ejecutemos el\n",
        "paso de backpropagation y calculemos los gradientes, necesitaremos calcular la derivada de $sin(x)$ para todas las entradas de este tensor.\n",
        "\n",
        "Realicemos algunos cálculos más:\n",
        "\n",
        "\n"
      ]
    },
    {
      "cell_type": "code",
      "execution_count": null,
      "metadata": {
        "id": "iXraQMurQTQd",
        "colab": {
          "base_uri": "https://localhost:8080/"
        },
        "outputId": "9da1a888-bb02-4a32-af1a-6071ca698f09"
      },
      "outputs": [
        {
          "output_type": "stream",
          "name": "stdout",
          "text": [
            "tensor([ 0.0000e+00,  5.1764e-01,  1.0000e+00,  1.4142e+00,  1.7321e+00,\n",
            "         1.9319e+00,  2.0000e+00,  1.9319e+00,  1.7321e+00,  1.4142e+00,\n",
            "         1.0000e+00,  5.1764e-01, -1.7485e-07, -5.1764e-01, -1.0000e+00,\n",
            "        -1.4142e+00, -1.7321e+00, -1.9319e+00, -2.0000e+00, -1.9319e+00,\n",
            "        -1.7321e+00, -1.4142e+00, -1.0000e+00, -5.1764e-01,  3.4969e-07],\n",
            "       grad_fn=<MulBackward0>)\n",
            "tensor([ 1.0000e+00,  1.5176e+00,  2.0000e+00,  2.4142e+00,  2.7321e+00,\n",
            "         2.9319e+00,  3.0000e+00,  2.9319e+00,  2.7321e+00,  2.4142e+00,\n",
            "         2.0000e+00,  1.5176e+00,  1.0000e+00,  4.8236e-01, -3.5763e-07,\n",
            "        -4.1421e-01, -7.3205e-01, -9.3185e-01, -1.0000e+00, -9.3185e-01,\n",
            "        -7.3205e-01, -4.1421e-01,  4.7684e-07,  4.8236e-01,  1.0000e+00],\n",
            "       grad_fn=<AddBackward0>)\n"
          ]
        }
      ],
      "source": [
        "c = 2 * b\n",
        "print(c)\n",
        "\n",
        "d = c + 1\n",
        "print(d)"
      ]
    },
    {
      "cell_type": "markdown",
      "metadata": {
        "id": "avBQLVYJQTQf"
      },
      "source": [
        "Finalmente, calculemos una salida de un solo elemento. Cuando llamas a ``.backward()`` en un tensor sin argumentos, se espera que el tensor de llamada contenga solo un elemento, como es el caso cuando se calcula una función de pérdida.\n",
        "\n",
        "\n"
      ]
    },
    {
      "cell_type": "code",
      "execution_count": null,
      "metadata": {
        "id": "fsCwlYZDQTQg",
        "colab": {
          "base_uri": "https://localhost:8080/"
        },
        "outputId": "5ae0ede2-ecc4-4319-93d5-50ad020afc20"
      },
      "outputs": [
        {
          "output_type": "stream",
          "name": "stdout",
          "text": [
            "tensor(25., grad_fn=<SumBackward0>)\n"
          ]
        }
      ],
      "source": [
        "out = d.sum()\n",
        "print(out)"
      ]
    },
    {
      "cell_type": "markdown",
      "metadata": {
        "id": "nl9xZMM0QTQi"
      },
      "source": [
        "Cada ``grad_fn`` almacenado con nuestros tensores le permite recorrer el cálculo hasta sus entradas con su atributo ``next_functions``. Podemos ver a continuación que profundizar en este atributo en ``d`` nos muestra las funciones de gradiente para todos los tensores anteriores. Tenga en cuenta que ``a.grad_fn`` se informa como ``None``, lo que indica que esta fue una entrada a la función sin historial propio.\n",
        "\n",
        "\n"
      ]
    },
    {
      "cell_type": "code",
      "execution_count": null,
      "metadata": {
        "id": "hG2MNmhwQTQi",
        "colab": {
          "base_uri": "https://localhost:8080/"
        },
        "outputId": "e3cd8a7b-a34e-4a3f-9425-2f3d066eeabe"
      },
      "outputs": [
        {
          "output_type": "stream",
          "name": "stdout",
          "text": [
            "d:\n",
            "<AddBackward0 object at 0x7fce807cf190>\n",
            "((<MulBackward0 object at 0x7fce807cf910>, 0), (None, 0))\n",
            "((<SinBackward0 object at 0x7fce807cf190>, 0), (None, 0))\n",
            "((<AccumulateGrad object at 0x7fce807cf1d0>, 0),)\n",
            "()\n",
            "\n",
            "c:\n",
            "<MulBackward0 object at 0x7fce807cf190>\n",
            "\n",
            "b:\n",
            "<SinBackward0 object at 0x7fce807cf190>\n",
            "\n",
            "a:\n",
            "None\n"
          ]
        }
      ],
      "source": [
        "print('d:')\n",
        "print(d.grad_fn)\n",
        "print(d.grad_fn.next_functions)\n",
        "print(d.grad_fn.next_functions[0][0].next_functions)\n",
        "print(d.grad_fn.next_functions[0][0].next_functions[0][0].next_functions)\n",
        "print(d.grad_fn.next_functions[0][0].next_functions[0][0].next_functions[0][0].next_functions)\n",
        "print('\\nc:')\n",
        "print(c.grad_fn)\n",
        "print('\\nb:')\n",
        "print(b.grad_fn)\n",
        "print('\\na:')\n",
        "print(a.grad_fn)"
      ]
    },
    {
      "cell_type": "markdown",
      "metadata": {
        "id": "z5mugMTzQTQk"
      },
      "source": [
        "Con toda esta maquinaria en su lugar, ¿cómo sacamos las derivadas? Llama al método ``backward()`` en la salida y verifica el atributo ``grad`` de la entrada para inspeccionar los gradientes:\n",
        "\n",
        "\n"
      ]
    },
    {
      "cell_type": "code",
      "execution_count": null,
      "metadata": {
        "id": "seWNIEx7QTQl",
        "colab": {
          "base_uri": "https://localhost:8080/",
          "height": 369
        },
        "outputId": "83888928-8e31-4a75-9cd9-6eae717e0114"
      },
      "outputs": [
        {
          "output_type": "stream",
          "name": "stdout",
          "text": [
            "tensor([ 2.0000e+00,  1.9319e+00,  1.7321e+00,  1.4142e+00,  1.0000e+00,\n",
            "         5.1764e-01, -8.7423e-08, -5.1764e-01, -1.0000e+00, -1.4142e+00,\n",
            "        -1.7321e+00, -1.9319e+00, -2.0000e+00, -1.9319e+00, -1.7321e+00,\n",
            "        -1.4142e+00, -1.0000e+00, -5.1764e-01,  2.3850e-08,  5.1764e-01,\n",
            "         1.0000e+00,  1.4142e+00,  1.7321e+00,  1.9319e+00,  2.0000e+00])\n"
          ]
        },
        {
          "output_type": "execute_result",
          "data": {
            "text/plain": [
              "[<matplotlib.lines.Line2D at 0x7fce80751690>]"
            ]
          },
          "metadata": {},
          "execution_count": 15
        },
        {
          "output_type": "display_data",
          "data": {
            "text/plain": [
              "<Figure size 432x288 with 1 Axes>"
            ],
            "image/png": "[encoded data removed]"
          },
          "metadata": {
            "needs_background": "light"
          }
        }
      ],
      "source": [
        "out.backward()\n",
        "print(a.grad)\n",
        "plt.plot(a.detach(), a.grad.detach())"
      ]
    },
    {
      "cell_type": "markdown",
      "source": [
        "Recuerde los pasos de cálculo que tomamos para llegar aquí:"
      ],
      "metadata": {
        "id": "Yj5UBa0cWuF0"
      }
    },
    {
      "cell_type": "code",
      "source": [
        "a = torch.linspace(0., 2. * math.pi, steps=25, requires_grad=True)\n",
        "b = torch.sin(a)\n",
        "c = 2 * b\n",
        "d = c + 1\n",
        "out = d.sum()"
      ],
      "metadata": {
        "id": "9WIkGZqdWtKl"
      },
      "execution_count": null,
      "outputs": []
    },
    {
      "cell_type": "markdown",
      "metadata": {
        "id": "erlzTn2UQTQm"
      },
      "source": [
        "Sumar una constante, como hicimos para calcular ``d``, no cambia la derivada. Eso deja $c = 2 * b = 2 * sin(a)$, cuya derivada debería ser $2 * cos(a)$. Mirando el gráfico de arriba, eso es justo lo que vemos.\n",
        "\n",
        "Tenga en cuenta que solo los *nodos hoja* del cálculo tienen sus gradientes calculados. Si intentara, por ejemplo, ``print(c.grad)`` obtendría ``None``. En este ejemplo simple, solo la entrada es un nodo de hoja, por lo que solo ella tiene gradientes calculados.\n",
        "\n",
        "\n",
        "\n",
        "\n",
        "\n"
      ]
    },
    {
      "cell_type": "markdown",
      "metadata": {
        "id": "D86Ixuy_QTQw"
      },
      "source": [
        "\n",
        "Activar y desactivar Autograd\n",
        "---------------------------\n",
        "\n",
        "Hay situaciones en las que necesitará un control detallado sobre\n",
        "si autograd está habilitado. Hay varias formas de hacer esto, dependiendo de la situación.\n",
        "\n",
        "El más simple es cambiar el indicador ``requires_grad`` en un tensor\n",
        "directamente:\n",
        "\n",
        "\n"
      ]
    },
    {
      "cell_type": "code",
      "execution_count": null,
      "metadata": {
        "id": "O0QuAyXoQTQx",
        "colab": {
          "base_uri": "https://localhost:8080/"
        },
        "outputId": "40edbe1e-f819-4ad1-c78c-73b235b02f16"
      },
      "outputs": [
        {
          "output_type": "stream",
          "name": "stdout",
          "text": [
            "tensor([[1., 1., 1.],\n",
            "        [1., 1., 1.]], requires_grad=True)\n",
            "tensor([[2., 2., 2.],\n",
            "        [2., 2., 2.]], grad_fn=<MulBackward0>)\n",
            "tensor([[2., 2., 2.],\n",
            "        [2., 2., 2.]])\n"
          ]
        }
      ],
      "source": [
        "a = torch.ones(2, 3, requires_grad=True)\n",
        "print(a)\n",
        "\n",
        "b1 = 2 * a\n",
        "print(b1)\n",
        "\n",
        "a.requires_grad = False\n",
        "b2 = 2 * a\n",
        "print(b2)"
      ]
    },
    {
      "cell_type": "markdown",
      "metadata": {
        "id": "mMHNVP8GQTQz"
      },
      "source": [
        "\n",
        "En la celda de arriba, vemos que ``b1`` tiene un ``grad_fn`` (es decir, un historial de cálculo rastreado), que es lo que esperamos, ya que se derivó de un tensor, ``a``, que tenía activado el autograd. Cuando desactivamos autograd explícitamente con ``a.requires_grad = False``, ya no se rastrea el historial de cálculo, como vemos cuando calculamos ``b2``.\n",
        "\n",
        "Si solo necesita que Autograd se apague temporalmente, una mejor manera es usar ``torch.no_grad()``:\n",
        "\n"
      ]
    },
    {
      "cell_type": "code",
      "execution_count": null,
      "metadata": {
        "id": "5ltQDXV7QTQ1",
        "colab": {
          "base_uri": "https://localhost:8080/"
        },
        "outputId": "317b0be3-2b26-41ca-a2d6-965633c401ca"
      },
      "outputs": [
        {
          "output_type": "stream",
          "name": "stdout",
          "text": [
            "tensor([[5., 5., 5.],\n",
            "        [5., 5., 5.]], grad_fn=<AddBackward0>)\n",
            "tensor([[5., 5., 5.],\n",
            "        [5., 5., 5.]])\n",
            "tensor([[6., 6., 6.],\n",
            "        [6., 6., 6.]], grad_fn=<MulBackward0>)\n"
          ]
        }
      ],
      "source": [
        "a = torch.ones(2, 3, requires_grad=True) * 2\n",
        "b = torch.ones(2, 3, requires_grad=True) * 3\n",
        "\n",
        "c1 = a + b\n",
        "print(c1)\n",
        "\n",
        "with torch.no_grad():\n",
        "    c2 = a + b\n",
        "\n",
        "print(c2)\n",
        "\n",
        "c3 = a * b\n",
        "print(c3)"
      ]
    },
    {
      "cell_type": "markdown",
      "metadata": {
        "id": "IXKzLmzbQTQ3"
      },
      "source": [
        "``torch.no_grad()`` también se puede usar como decorador de funciones o métodos:\n",
        "\n",
        "\n"
      ]
    },
    {
      "cell_type": "code",
      "execution_count": null,
      "metadata": {
        "id": "ASri_YekQTQ3",
        "colab": {
          "base_uri": "https://localhost:8080/"
        },
        "outputId": "a72cd15e-c907-4e0d-f3ee-2da93271c1b9"
      },
      "outputs": [
        {
          "output_type": "stream",
          "name": "stdout",
          "text": [
            "tensor([[5., 5., 5.],\n",
            "        [5., 5., 5.]], grad_fn=<AddBackward0>)\n",
            "tensor([[5., 5., 5.],\n",
            "        [5., 5., 5.]])\n"
          ]
        }
      ],
      "source": [
        "def add_tensors1(x, y):\n",
        "    return x + y\n",
        "\n",
        "@torch.no_grad()\n",
        "def add_tensors2(x, y):\n",
        "    return x + y\n",
        "\n",
        "\n",
        "a = torch.ones(2, 3, requires_grad=True) * 2\n",
        "b = torch.ones(2, 3, requires_grad=True) * 3\n",
        "\n",
        "c1 = add_tensors1(a, b)\n",
        "print(c1)\n",
        "\n",
        "c2 = add_tensors2(a, b)\n",
        "print(c2)"
      ]
    },
    {
      "cell_type": "markdown",
      "metadata": {
        "id": "w9M-iOOzQTQ4"
      },
      "source": [
        "Hay un administrador de contexto correspondiente, ``torch.enable_grad()``, para activar la graduación automática cuando aún no lo está. También se puede utilizar como decorador.\n",
        "\n",
        "Finalmente, puede tener un tensor que requiera seguimiento de gradiente, pero desea una copia que no lo requiera. Para esto tenemos el método ``detach()`` del objeto ``Tensor`` - crea una copia del tensor que se *separa* del historial de cálculo:\n",
        "\n",
        "\n"
      ]
    },
    {
      "cell_type": "code",
      "execution_count": null,
      "metadata": {
        "id": "QKqb9j7YQTQ6",
        "colab": {
          "base_uri": "https://localhost:8080/"
        },
        "outputId": "2641b83d-69f7-40f7-f6b7-e2e975a32b59"
      },
      "outputs": [
        {
          "output_type": "stream",
          "name": "stdout",
          "text": [
            "tensor([0.7383, 0.3592, 0.3865, 0.6531, 0.1412], requires_grad=True)\n",
            "tensor([0.7383, 0.3592, 0.3865, 0.6531, 0.1412])\n"
          ]
        }
      ],
      "source": [
        "  x = torch.rand(5, requires_grad=True)\n",
        "  y = x.detach()\n",
        "\n",
        "  print(x)\n",
        "  print(y)"
      ]
    },
    {
      "cell_type": "markdown",
      "source": [
        "Hicimos esto arriba cuando queríamos graficar algunos de nuestros tensores. Esto se debe a que ``matplotlib`` espera una matriz NumPy como entrada, y la conversión implícita de un tensor PyTorch a una matriz NumPy no está habilitada para tensores con require_grad=True. Hacer una copia separada nos permite avanzar."
      ],
      "metadata": {
        "id": "NvJgO8a-ffFp"
      }
    },
    {
      "cell_type": "markdown",
      "metadata": {
        "id": "VMAJyRfEQTQ6"
      },
      "source": [
        "\n",
        "## Autograd y las Operaciones in situ\n",
        "\n",
        "\n",
        "En todos los ejemplos de este cuaderno hasta ahora, hemos usado variables para capturar los valores intermedios de un cálculo. Autograd necesita estos valores intermedios para realizar cálculos de gradiente. ***Por esta razón, debe tener cuidado al usar operaciones in situ cuando use autograd.*** Si lo hace, puede destruir la información que necesita para calcular las derivadas en la llamada ``backward()``. PyTorch incluso lo detendrá si intenta una operación in situ en la variable de hoja que requiere autograduación, como se muestra a continuación.\n",
        "\n"
      ]
    },
    {
      "cell_type": "code",
      "source": [
        "a = torch.linspace(0., 2. * math.pi, steps=25, requires_grad=True)\n",
        "torch.sin_(a)"
      ],
      "metadata": {
        "colab": {
          "base_uri": "https://localhost:8080/",
          "height": 186
        },
        "id": "eI3AXIilgPYm",
        "outputId": "08ca1960-32d0-4257-f00d-6b1fb1240cca"
      },
      "execution_count": null,
      "outputs": [
        {
          "output_type": "error",
          "ename": "RuntimeError",
          "evalue": "ignored",
          "traceback": [
            "\u001b[0;31m---------------------------------------------------------------------------\u001b[0m",
            "\u001b[0;31mRuntimeError\u001b[0m                              Traceback (most recent call last)",
            "\u001b[0;32m<ipython-input-14-cffbbcd7d649>\u001b[0m in \u001b[0;36m<module>\u001b[0;34m()\u001b[0m\n\u001b[1;32m      1\u001b[0m \u001b[0ma\u001b[0m \u001b[0;34m=\u001b[0m \u001b[0mtorch\u001b[0m\u001b[0;34m.\u001b[0m\u001b[0mlinspace\u001b[0m\u001b[0;34m(\u001b[0m\u001b[0;36m0.\u001b[0m\u001b[0;34m,\u001b[0m \u001b[0;36m2.\u001b[0m \u001b[0;34m*\u001b[0m \u001b[0mmath\u001b[0m\u001b[0;34m.\u001b[0m\u001b[0mpi\u001b[0m\u001b[0;34m,\u001b[0m \u001b[0msteps\u001b[0m\u001b[0;34m=\u001b[0m\u001b[0;36m25\u001b[0m\u001b[0;34m,\u001b[0m \u001b[0mrequires_grad\u001b[0m\u001b[0;34m=\u001b[0m\u001b[0;32mTrue\u001b[0m\u001b[0;34m)\u001b[0m\u001b[0;34m\u001b[0m\u001b[0;34m\u001b[0m\u001b[0m\n\u001b[0;32m----> 2\u001b[0;31m \u001b[0mtorch\u001b[0m\u001b[0;34m.\u001b[0m\u001b[0msin_\u001b[0m\u001b[0;34m(\u001b[0m\u001b[0ma\u001b[0m\u001b[0;34m)\u001b[0m\u001b[0;34m\u001b[0m\u001b[0;34m\u001b[0m\u001b[0m\n\u001b[0m",
            "\u001b[0;31mRuntimeError\u001b[0m: a leaf Variable that requires grad is being used in an in-place operation."
          ]
        }
      ]
    },
    {
      "cell_type": "code",
      "source": [
        "import numpy as np\n",
        "import matplotlib.pyplot as plt\n",
        "\n",
        "# Datos de 10 personas -> [edad, ahorro]\n",
        "\n",
        "personas = np.array([[0.3, 0.4], [0.4, 0.3],\n",
        "                     [0.3, 0.2], [0.4, 0.1], \n",
        "                     [0.5, 0.2], [0.4, 0.8],\n",
        "                     [0.6, 0.8], [0.5, 0.6], \n",
        "                     [0.7, 0.6], [0.8, 0.5]])\n",
        "\n",
        "# 1 : aprobrada    0 : denegada\n",
        "\n",
        "clases = np.array([0, 0, 0, 0, 0, 1, 1, 1, 1, 1])\n",
        "\n",
        "# Gráfica de dispersión (edad, ahorro)\n",
        "plt.figure(figsize=(7, 7))\n",
        "plt.title(\"¿Tarjeta Platinum?\", fontsize=20)\n",
        "plt.scatter(personas[clases == 0].T[0], \n",
        "            personas[clases == 0].T[1], \n",
        "            marker=\"x\", s=180, color=\"red\",\n",
        "            linewidths=5, label=\"Denegada\")\n",
        "plt.scatter(personas[clases == 1].T[0],\n",
        "            personas[clases == 1].T[1], \n",
        "            marker=\"o\", s=180, color=\"blue\",\n",
        "            linewidths=5, label=\"Aprobada\")\n",
        "plt.xlabel(\"Edad\", fontsize=15)\n",
        "plt.ylabel(\"Ahorro\", fontsize=15)\n",
        "plt.legend(bbox_to_anchor=(1.3, 0.15))\n",
        "plt.box(False)\n",
        "plt.xlim((0, 1.01))\n",
        "plt.ylim((0, 1.01))\n",
        "plt.grid()\n",
        "plt.show()"
      ],
      "metadata": {
        "colab": {
          "base_uri": "https://localhost:8080/",
          "height": 468
        },
        "id": "pfbVi2Apa_53",
        "outputId": "a5eb64a7-20cb-44a7-aac6-bfab8933f0d6"
      },
      "execution_count": null,
      "outputs": [
        {
          "output_type": "display_data",
          "data": {
            "text/plain": [
              "<Figure size 504x504 with 1 Axes>"
            ],
            "image/png": "[encoded data removed]"
          },
          "metadata": {
            "needs_background": "light"
          }
        }
      ]
    },
    {
      "cell_type": "code",
      "source": [
        "# w1*x1 + w2*x2 + ⋯ + wn*xn\n",
        "\n",
        "def activacion(pesos, x, b):\n",
        "    z = pesos * x\n",
        "    if z.sum() + b > 0:\n",
        "        return 1\n",
        "    else:\n",
        "        return 0\n",
        "\n",
        "pesos = np.random.uniform(-1, 1, size=2)\n",
        "b = np.random.uniform(-1, 1)\n",
        "\n",
        "pesos, b, activacion(pesos, [0.5, 0.4], b)"
      ],
      "metadata": {
        "colab": {
          "base_uri": "https://localhost:8080/"
        },
        "id": "ndlpYRHIbIYc",
        "outputId": "85ddfea7-0c87-4748-b84c-365262322e50"
      },
      "execution_count": null,
      "outputs": [
        {
          "output_type": "execute_result",
          "data": {
            "text/plain": [
              "(array([-0.8124167 ,  0.42163744]), 0.6076774829329059, 1)"
            ]
          },
          "metadata": {},
          "execution_count": 3
        }
      ]
    },
    {
      "cell_type": "code",
      "source": [
        "_pesos = np.random.uniform(-1, 1, size=2)\n",
        "_b = np.random.uniform(-1, 1)\n",
        "tasa_de_aprendizaje = 0.01\n",
        "epocas = 100\n"
      ],
      "metadata": {
        "id": "QXQzQ4rMbK_-"
      },
      "execution_count": null,
      "outputs": []
    },
    {
      "cell_type": "code",
      "source": [
        "_pesos, _b"
      ],
      "metadata": {
        "colab": {
          "base_uri": "https://localhost:8080/"
        },
        "id": "3nkMpIdxbPAP",
        "outputId": "fad55dbd-c641-4cc6-b216-195a0402e851"
      },
      "execution_count": null,
      "outputs": [
        {
          "output_type": "execute_result",
          "data": {
            "text/plain": [
              "(array([0.38669401, 0.03776164]), -0.8757872188996649)"
            ]
          },
          "metadata": {},
          "execution_count": 5
        }
      ]
    },
    {
      "cell_type": "code",
      "source": [
        "clases"
      ],
      "metadata": {
        "colab": {
          "base_uri": "https://localhost:8080/"
        },
        "id": "jI7LVdG9bcCE",
        "outputId": "517a6423-c023-4b77-fc9e-d7517e686a92"
      },
      "execution_count": null,
      "outputs": [
        {
          "output_type": "execute_result",
          "data": {
            "text/plain": [
              "array([0, 0, 0, 0, 0, 1, 1, 1, 1, 1])"
            ]
          },
          "metadata": {},
          "execution_count": 6
        }
      ]
    },
    {
      "cell_type": "code",
      "source": [
        "personas[0]*_pesos"
      ],
      "metadata": {
        "colab": {
          "base_uri": "https://localhost:8080/"
        },
        "id": "4Ora1ibQbwm7",
        "outputId": "d532a48f-f36a-4de8-c171-bdde7198314f"
      },
      "execution_count": null,
      "outputs": [
        {
          "output_type": "execute_result",
          "data": {
            "text/plain": [
              "array([0.1160082 , 0.01510466])"
            ]
          },
          "metadata": {},
          "execution_count": 7
        }
      ]
    },
    {
      "cell_type": "code",
      "source": [
        "activacion(_pesos, personas[0], _b)"
      ],
      "metadata": {
        "colab": {
          "base_uri": "https://localhost:8080/"
        },
        "id": "XDqCi5AbbjoY",
        "outputId": "dace2ad7-3d76-4611-c076-cdb3ebcb5703"
      },
      "execution_count": null,
      "outputs": [
        {
          "output_type": "execute_result",
          "data": {
            "text/plain": [
              "0"
            ]
          },
          "metadata": {},
          "execution_count": 8
        }
      ]
    },
    {
      "cell_type": "code",
      "source": [
        "personas"
      ],
      "metadata": {
        "colab": {
          "base_uri": "https://localhost:8080/"
        },
        "id": "6CZT-oAQg45B",
        "outputId": "dba32df0-be8e-4a4f-929a-35977d7b41e4"
      },
      "execution_count": null,
      "outputs": [
        {
          "output_type": "execute_result",
          "data": {
            "text/plain": [
              "array([[0.3, 0.4],\n",
              "       [0.4, 0.3],\n",
              "       [0.3, 0.2],\n",
              "       [0.4, 0.1],\n",
              "       [0.5, 0.2],\n",
              "       [0.4, 0.8],\n",
              "       [0.6, 0.8],\n",
              "       [0.5, 0.6],\n",
              "       [0.7, 0.6],\n",
              "       [0.8, 0.5]])"
            ]
          },
          "metadata": {},
          "execution_count": 9
        }
      ]
    },
    {
      "cell_type": "code",
      "source": [
        "for i in range(len(personas)):\n",
        "  print(activacion(_pesos, personas[i], _b))\n",
        "  print(\"error\", clases[i]-activacion(_pesos, personas[i], _b))"
      ],
      "metadata": {
        "colab": {
          "base_uri": "https://localhost:8080/"
        },
        "id": "Iog-OAPaelJT",
        "outputId": "c22b5c1c-9f53-4090-b218-758bb82be6c6"
      },
      "execution_count": null,
      "outputs": [
        {
          "output_type": "stream",
          "name": "stdout",
          "text": [
            "0\n",
            "error 0\n",
            "0\n",
            "error 0\n",
            "0\n",
            "error 0\n",
            "0\n",
            "error 0\n",
            "0\n",
            "error 0\n",
            "0\n",
            "error 1\n",
            "0\n",
            "error 1\n",
            "0\n",
            "error 1\n",
            "0\n",
            "error 1\n",
            "0\n",
            "error 1\n"
          ]
        }
      ]
    },
    {
      "cell_type": "code",
      "source": [
        "pesos = _pesos.copy()\n",
        "b = _b\n",
        "pesos = np.zeros((2,1))\n",
        "b= 0\n",
        "\n",
        "pesos = np.array([[1.1],[ 1. ]])\n",
        "b= -1\n",
        "for epoca in range(epocas):\n",
        "    error_total = 0\n",
        "    for i in range(len(personas)):\n",
        "        prediccion = activacion(pesos, personas[i], b)\n",
        "        error = clases[i] - prediccion\n",
        "        error_total += error**2\n",
        "        pesos[0] += tasa_de_aprendizaje * personas[i][0] * error\n",
        "        pesos[1] += tasa_de_aprendizaje * personas[i][1] * error\n",
        "        b += tasa_de_aprendizaje * error \n",
        "    print(error_total, end=\" \")\n",
        "\n"
      ],
      "metadata": {
        "colab": {
          "base_uri": "https://localhost:8080/"
        },
        "id": "JGfbUvYRbObM",
        "outputId": "a3fd0e41-f8ec-4b66-89b3-c7beb598ae81"
      },
      "execution_count": null,
      "outputs": [
        {
          "output_type": "stream",
          "name": "stdout",
          "text": [
            "5 3 3 3 3 3 3 3 3 3 0 0 0 0 0 0 0 0 0 0 0 0 0 0 0 0 0 0 0 0 0 0 0 0 0 0 0 0 0 0 0 0 0 0 0 0 0 0 0 0 0 0 0 0 0 0 0 0 0 0 0 0 0 0 0 0 0 0 0 0 0 0 0 0 0 0 0 0 0 0 0 0 0 0 0 0 0 0 0 0 0 0 0 0 0 0 0 0 0 0 "
          ]
        }
      ]
    },
    {
      "cell_type": "code",
      "source": [
        "pesos,b"
      ],
      "metadata": {
        "colab": {
          "base_uri": "https://localhost:8080/"
        },
        "id": "qbPP_kbdhsOI",
        "outputId": "4ab8843b-4be2-4c8e-f51d-57a7c03b0346"
      },
      "execution_count": null,
      "outputs": [
        {
          "output_type": "execute_result",
          "data": {
            "text/plain": [
              "(array([[0.   ],\n",
              "        [0.013]]), -0.01)"
            ]
          },
          "metadata": {},
          "execution_count": 12
        }
      ]
    },
    {
      "cell_type": "code",
      "source": [
        "pesos,b"
      ],
      "metadata": {
        "colab": {
          "base_uri": "https://localhost:8080/"
        },
        "id": "73ES1Un7hzIM",
        "outputId": "470a30eb-9db3-4f87-f97b-7036f466882d"
      },
      "execution_count": null,
      "outputs": [
        {
          "output_type": "execute_result",
          "data": {
            "text/plain": [
              "(array([[0.973],\n",
              "        [0.907]]), -1.3200000000000003)"
            ]
          },
          "metadata": {},
          "execution_count": 22
        }
      ]
    },
    {
      "cell_type": "code",
      "source": [
        "plt.figure(figsize=(6, 5), dpi=200)\n",
        "plt.title(\"¿Tarjeta Platinum?\", fontsize=20)\n",
        "\n",
        "plt.scatter(personas[clases == 0].T[0], \n",
        "            personas[clases == 0].T[1], \n",
        "            marker=\"x\", s=180, color=\"red\",\n",
        "            linewidths=5, label=\"Denegada\")\n",
        "\n",
        "plt.scatter(personas[clases == 1].T[0],\n",
        "            personas[clases == 1].T[1], \n",
        "            marker=\"o\", s=180, color=\"blue\",\n",
        "            linewidths=5, label=\"Aprobada\")\n",
        "\n",
        "for edad in np.arange(0, 1, 0.05):\n",
        "    for ahorro in np.arange(0, 1, 0.05):\n",
        "        color = activacion(pesos, [edad, ahorro], b)\n",
        "        if color == 1:\n",
        "            plt.scatter(edad, ahorro, marker=\"s\", s=110,\n",
        "                        color=\"blue\", alpha=0.2, linewidths=0)\n",
        "        else:\n",
        "            plt.scatter(edad, ahorro, marker=\"s\", s=110, \n",
        "                        color=\"red\", alpha=0.2, linewidths=0)\n",
        "            \n",
        "plt.xlabel(\"Edad\", fontsize=15)\n",
        "plt.ylabel(\"Ahorro\", fontsize=15)\n",
        "plt.legend(bbox_to_anchor=(1.3, 0.15))\n",
        "plt.box(False)\n",
        "plt.xlim((0, 1.01))\n",
        "plt.ylim((0, 1.01))\n",
        "plt.show()"
      ],
      "metadata": {
        "colab": {
          "base_uri": "https://localhost:8080/",
          "height": 971
        },
        "id": "pXvi6jCndHEz",
        "outputId": "c555845e-6b95-4e1f-8ac5-56e6db3d7b2b"
      },
      "execution_count": null,
      "outputs": [
        {
          "output_type": "display_data",
          "data": {
            "text/plain": [
              "<Figure size 1200x1000 with 1 Axes>"
            ],
            "image/png": "[encoded data removed]"
          },
          "metadata": {
            "needs_background": "light"
          }
        }
      ]
    },
    {
      "cell_type": "code",
      "source": [
        "from sklearn.linear_model import Perceptron\n",
        "perceptron = Perceptron().fit(personas, clases)\n",
        "perceptron.predict([[0.2, 0.2]])"
      ],
      "metadata": {
        "colab": {
          "base_uri": "https://localhost:8080/",
          "height": 398
        },
        "id": "25s4UeVKcx5S",
        "outputId": "09bd7593-d9c4-4bb5-d3d3-834bf06b35eb"
      },
      "execution_count": null,
      "outputs": [
        {
          "output_type": "error",
          "ename": "ValueError",
          "evalue": "ignored",
          "traceback": [
            "\u001b[0;31m---------------------------------------------------------------------------\u001b[0m",
            "\u001b[0;31mValueError\u001b[0m                                Traceback (most recent call last)",
            "\u001b[0;32m<ipython-input-25-4c70572d310f>\u001b[0m in \u001b[0;36m<module>\u001b[0;34m\u001b[0m\n\u001b[1;32m      1\u001b[0m \u001b[0;32mfrom\u001b[0m \u001b[0msklearn\u001b[0m\u001b[0;34m.\u001b[0m\u001b[0mlinear_model\u001b[0m \u001b[0;32mimport\u001b[0m \u001b[0mPerceptron\u001b[0m\u001b[0;34m\u001b[0m\u001b[0;34m\u001b[0m\u001b[0m\n\u001b[1;32m      2\u001b[0m \u001b[0mperceptron\u001b[0m \u001b[0;34m=\u001b[0m \u001b[0mPerceptron\u001b[0m\u001b[0;34m(\u001b[0m\u001b[0;34m)\u001b[0m\u001b[0;34m.\u001b[0m\u001b[0mfit\u001b[0m\u001b[0;34m(\u001b[0m\u001b[0mpersonas\u001b[0m\u001b[0;34m,\u001b[0m \u001b[0mclases\u001b[0m\u001b[0;34m)\u001b[0m\u001b[0;34m\u001b[0m\u001b[0;34m\u001b[0m\u001b[0m\n\u001b[0;32m----> 3\u001b[0;31m \u001b[0mperceptron\u001b[0m\u001b[0;34m.\u001b[0m\u001b[0mpredict\u001b[0m\u001b[0;34m(\u001b[0m\u001b[0;34m[\u001b[0m\u001b[0;36m0.2\u001b[0m\u001b[0;34m,\u001b[0m \u001b[0;36m0.2\u001b[0m\u001b[0;34m]\u001b[0m\u001b[0;34m)\u001b[0m\u001b[0;34m\u001b[0m\u001b[0;34m\u001b[0m\u001b[0m\n\u001b[0m",
            "\u001b[0;32m/usr/local/lib/python3.7/dist-packages/sklearn/linear_model/_base.py\u001b[0m in \u001b[0;36mpredict\u001b[0;34m(self, X)\u001b[0m\n\u001b[1;32m    423\u001b[0m             \u001b[0mVector\u001b[0m \u001b[0mcontaining\u001b[0m \u001b[0mthe\u001b[0m \u001b[0;32mclass\u001b[0m \u001b[0mlabels\u001b[0m \u001b[0;32mfor\u001b[0m \u001b[0meach\u001b[0m \u001b[0msample\u001b[0m\u001b[0;34m.\u001b[0m\u001b[0;34m\u001b[0m\u001b[0;34m\u001b[0m\u001b[0m\n\u001b[1;32m    424\u001b[0m         \"\"\"\n\u001b[0;32m--> 425\u001b[0;31m         \u001b[0mscores\u001b[0m \u001b[0;34m=\u001b[0m \u001b[0mself\u001b[0m\u001b[0;34m.\u001b[0m\u001b[0mdecision_function\u001b[0m\u001b[0;34m(\u001b[0m\u001b[0mX\u001b[0m\u001b[0;34m)\u001b[0m\u001b[0;34m\u001b[0m\u001b[0;34m\u001b[0m\u001b[0m\n\u001b[0m\u001b[1;32m    426\u001b[0m         \u001b[0;32mif\u001b[0m \u001b[0mlen\u001b[0m\u001b[0;34m(\u001b[0m\u001b[0mscores\u001b[0m\u001b[0;34m.\u001b[0m\u001b[0mshape\u001b[0m\u001b[0;34m)\u001b[0m \u001b[0;34m==\u001b[0m \u001b[0;36m1\u001b[0m\u001b[0;34m:\u001b[0m\u001b[0;34m\u001b[0m\u001b[0;34m\u001b[0m\u001b[0m\n\u001b[1;32m    427\u001b[0m             \u001b[0mindices\u001b[0m \u001b[0;34m=\u001b[0m \u001b[0;34m(\u001b[0m\u001b[0mscores\u001b[0m \u001b[0;34m>\u001b[0m \u001b[0;36m0\u001b[0m\u001b[0;34m)\u001b[0m\u001b[0;34m.\u001b[0m\u001b[0mastype\u001b[0m\u001b[0;34m(\u001b[0m\u001b[0mint\u001b[0m\u001b[0;34m)\u001b[0m\u001b[0;34m\u001b[0m\u001b[0;34m\u001b[0m\u001b[0m\n",
            "\u001b[0;32m/usr/local/lib/python3.7/dist-packages/sklearn/linear_model/_base.py\u001b[0m in \u001b[0;36mdecision_function\u001b[0;34m(self, X)\u001b[0m\n\u001b[1;32m    405\u001b[0m         \u001b[0mcheck_is_fitted\u001b[0m\u001b[0;34m(\u001b[0m\u001b[0mself\u001b[0m\u001b[0;34m)\u001b[0m\u001b[0;34m\u001b[0m\u001b[0;34m\u001b[0m\u001b[0m\n\u001b[1;32m    406\u001b[0m \u001b[0;34m\u001b[0m\u001b[0m\n\u001b[0;32m--> 407\u001b[0;31m         \u001b[0mX\u001b[0m \u001b[0;34m=\u001b[0m \u001b[0mself\u001b[0m\u001b[0;34m.\u001b[0m\u001b[0m_validate_data\u001b[0m\u001b[0;34m(\u001b[0m\u001b[0mX\u001b[0m\u001b[0;34m,\u001b[0m \u001b[0maccept_sparse\u001b[0m\u001b[0;34m=\u001b[0m\u001b[0;34m\"csr\"\u001b[0m\u001b[0;34m,\u001b[0m \u001b[0mreset\u001b[0m\u001b[0;34m=\u001b[0m\u001b[0;32mFalse\u001b[0m\u001b[0;34m)\u001b[0m\u001b[0;34m\u001b[0m\u001b[0;34m\u001b[0m\u001b[0m\n\u001b[0m\u001b[1;32m    408\u001b[0m         \u001b[0mscores\u001b[0m \u001b[0;34m=\u001b[0m \u001b[0msafe_sparse_dot\u001b[0m\u001b[0;34m(\u001b[0m\u001b[0mX\u001b[0m\u001b[0;34m,\u001b[0m \u001b[0mself\u001b[0m\u001b[0;34m.\u001b[0m\u001b[0mcoef_\u001b[0m\u001b[0;34m.\u001b[0m\u001b[0mT\u001b[0m\u001b[0;34m,\u001b[0m \u001b[0mdense_output\u001b[0m\u001b[0;34m=\u001b[0m\u001b[0;32mTrue\u001b[0m\u001b[0;34m)\u001b[0m \u001b[0;34m+\u001b[0m \u001b[0mself\u001b[0m\u001b[0;34m.\u001b[0m\u001b[0mintercept_\u001b[0m\u001b[0;34m\u001b[0m\u001b[0;34m\u001b[0m\u001b[0m\n\u001b[1;32m    409\u001b[0m         \u001b[0;32mreturn\u001b[0m \u001b[0mscores\u001b[0m\u001b[0;34m.\u001b[0m\u001b[0mravel\u001b[0m\u001b[0;34m(\u001b[0m\u001b[0;34m)\u001b[0m \u001b[0;32mif\u001b[0m \u001b[0mscores\u001b[0m\u001b[0;34m.\u001b[0m\u001b[0mshape\u001b[0m\u001b[0;34m[\u001b[0m\u001b[0;36m1\u001b[0m\u001b[0;34m]\u001b[0m \u001b[0;34m==\u001b[0m \u001b[0;36m1\u001b[0m \u001b[0;32melse\u001b[0m \u001b[0mscores\u001b[0m\u001b[0;34m\u001b[0m\u001b[0;34m\u001b[0m\u001b[0m\n",
            "\u001b[0;32m/usr/local/lib/python3.7/dist-packages/sklearn/base.py\u001b[0m in \u001b[0;36m_validate_data\u001b[0;34m(self, X, y, reset, validate_separately, **check_params)\u001b[0m\n\u001b[1;32m    564\u001b[0m             \u001b[0;32mraise\u001b[0m \u001b[0mValueError\u001b[0m\u001b[0;34m(\u001b[0m\u001b[0;34m\"Validation should be done on X, y or both.\"\u001b[0m\u001b[0;34m)\u001b[0m\u001b[0;34m\u001b[0m\u001b[0;34m\u001b[0m\u001b[0m\n\u001b[1;32m    565\u001b[0m         \u001b[0;32melif\u001b[0m \u001b[0;32mnot\u001b[0m \u001b[0mno_val_X\u001b[0m \u001b[0;32mand\u001b[0m \u001b[0mno_val_y\u001b[0m\u001b[0;34m:\u001b[0m\u001b[0;34m\u001b[0m\u001b[0;34m\u001b[0m\u001b[0m\n\u001b[0;32m--> 566\u001b[0;31m             \u001b[0mX\u001b[0m \u001b[0;34m=\u001b[0m \u001b[0mcheck_array\u001b[0m\u001b[0;34m(\u001b[0m\u001b[0mX\u001b[0m\u001b[0;34m,\u001b[0m \u001b[0;34m**\u001b[0m\u001b[0mcheck_params\u001b[0m\u001b[0;34m)\u001b[0m\u001b[0;34m\u001b[0m\u001b[0;34m\u001b[0m\u001b[0m\n\u001b[0m\u001b[1;32m    567\u001b[0m             \u001b[0mout\u001b[0m \u001b[0;34m=\u001b[0m \u001b[0mX\u001b[0m\u001b[0;34m\u001b[0m\u001b[0;34m\u001b[0m\u001b[0m\n\u001b[1;32m    568\u001b[0m         \u001b[0;32melif\u001b[0m \u001b[0mno_val_X\u001b[0m \u001b[0;32mand\u001b[0m \u001b[0;32mnot\u001b[0m \u001b[0mno_val_y\u001b[0m\u001b[0;34m:\u001b[0m\u001b[0;34m\u001b[0m\u001b[0;34m\u001b[0m\u001b[0m\n",
            "\u001b[0;32m/usr/local/lib/python3.7/dist-packages/sklearn/utils/validation.py\u001b[0m in \u001b[0;36mcheck_array\u001b[0;34m(array, accept_sparse, accept_large_sparse, dtype, order, copy, force_all_finite, ensure_2d, allow_nd, ensure_min_samples, ensure_min_features, estimator)\u001b[0m\n\u001b[1;32m    771\u001b[0m                     \u001b[0;34m\"Reshape your data either using array.reshape(-1, 1) if \"\u001b[0m\u001b[0;34m\u001b[0m\u001b[0;34m\u001b[0m\u001b[0m\n\u001b[1;32m    772\u001b[0m                     \u001b[0;34m\"your data has a single feature or array.reshape(1, -1) \"\u001b[0m\u001b[0;34m\u001b[0m\u001b[0;34m\u001b[0m\u001b[0m\n\u001b[0;32m--> 773\u001b[0;31m                     \u001b[0;34m\"if it contains a single sample.\"\u001b[0m\u001b[0;34m.\u001b[0m\u001b[0mformat\u001b[0m\u001b[0;34m(\u001b[0m\u001b[0marray\u001b[0m\u001b[0;34m)\u001b[0m\u001b[0;34m\u001b[0m\u001b[0;34m\u001b[0m\u001b[0m\n\u001b[0m\u001b[1;32m    774\u001b[0m                 )\n\u001b[1;32m    775\u001b[0m \u001b[0;34m\u001b[0m\u001b[0m\n",
            "\u001b[0;31mValueError\u001b[0m: Expected 2D array, got 1D array instead:\narray=[0.2 0.2].\nReshape your data either using array.reshape(-1, 1) if your data has a single feature or array.reshape(1, -1) if it contains a single sample."
          ]
        }
      ]
    },
    {
      "cell_type": "code",
      "source": [
        "perceptron.intercept_, perceptron.coef_"
      ],
      "metadata": {
        "colab": {
          "base_uri": "https://localhost:8080/"
        },
        "id": "5W4eoi2pGgXv",
        "outputId": "e7579fc6-f9e4-4994-d05a-5669d3c2a5ae"
      },
      "execution_count": null,
      "outputs": [
        {
          "output_type": "execute_result",
          "data": {
            "text/plain": [
              "(array([-1.]), array([[1.1, 1. ]]))"
            ]
          },
          "metadata": {},
          "execution_count": 18
        }
      ]
    },
    {
      "cell_type": "code",
      "source": [
        "perceptron.coef_"
      ],
      "metadata": {
        "colab": {
          "base_uri": "https://localhost:8080/"
        },
        "id": "L8ALidvLHht-",
        "outputId": "97e72e1a-15ff-4334-be1c-5a7a513b0cfc"
      },
      "execution_count": null,
      "outputs": [
        {
          "output_type": "execute_result",
          "data": {
            "text/plain": [
              "array([[1.1, 1. ]])"
            ]
          },
          "metadata": {},
          "execution_count": 20
        }
      ]
    },
    {
      "cell_type": "code",
      "source": [
        "-b"
      ],
      "metadata": {
        "id": "9Ssg98dUSUsU"
      },
      "execution_count": null,
      "outputs": []
    },
    {
      "cell_type": "code",
      "source": [
        "plt.figure(figsize=(6, 5), dpi=200)\n",
        "plt.title(\"¿Tarjeta Platinum?\", fontsize=20)\n",
        "\n",
        "plt.scatter(personas[clases == 0].T[0], \n",
        "            personas[clases == 0].T[1], \n",
        "            marker=\"x\", s=180, color=\"red\",\n",
        "            linewidths=5, label=\"Denegada\")\n",
        "\n",
        "plt.scatter(personas[clases == 1].T[0],\n",
        "            personas[clases == 1].T[1], \n",
        "            marker=\"o\", s=180, color=\"blue\",\n",
        "            linewidths=5, label=\"Aprobada\")\n",
        "\n",
        "for edad in np.arange(0, 1, 0.05):\n",
        "    for ahorro in np.arange(0, 1, 0.05):\n",
        "        color = perceptron.predict([[edad,ahorro]]) \n",
        "        if color == 1:\n",
        "            plt.scatter(edad, ahorro, marker=\"s\", s=110,\n",
        "                        color=\"blue\", alpha=0.2, linewidths=0)\n",
        "        else:\n",
        "            plt.scatter(edad, ahorro, marker=\"s\", s=110, \n",
        "                        color=\"red\", alpha=0.2, linewidths=0)\n",
        "            \n",
        "plt.xlabel(\"Edad\", fontsize=15)\n",
        "plt.ylabel(\"Ahorro\", fontsize=15)\n",
        "plt.legend(bbox_to_anchor=(1.3, 0.15))\n",
        "plt.box(False)\n",
        "plt.xlim((0, 1.01))\n",
        "plt.ylim((0, 1.01))\n",
        "plt.show()"
      ],
      "metadata": {
        "colab": {
          "base_uri": "https://localhost:8080/",
          "height": 971
        },
        "id": "Rm_J37joSI6N",
        "outputId": "7b70c99b-6e22-4500-c7c9-df0939dd788f"
      },
      "execution_count": null,
      "outputs": [
        {
          "output_type": "display_data",
          "data": {
            "text/plain": [
              "<Figure size 1200x1000 with 1 Axes>"
            ],
            "image/png": "[encoded data removed]"
          },
          "metadata": {
            "needs_background": "light"
          }
        }
      ]
    }
  ],
  "metadata": {
    "kernelspec": {
      "display_name": "Python 3",
      "language": "python",
      "name": "python3"
    },
    "language_info": {
      "codemirror_mode": {
        "name": "ipython",
        "version": 3
      },
      "file_extension": ".py",
      "mimetype": "text/x-python",
      "name": "python",
      "nbconvert_exporter": "python",
      "pygments_lexer": "ipython3",
      "version": "3.7.13"
    },
    "colab": {
      "provenance": [],
      "collapsed_sections": [
        "E_SbqrakTMvC",
        "2OxFMHIaTMvH",
        "zaQyonB-TMvO",
        "g-ZsXeZLTMvQ"
      ],
      "include_colab_link": true
    },
    "widgets": {
      "application/vnd.jupyter.widget-state+json": {
        "6170dfb9f21f48a39fb1645eaeecfd55": {
          "model_module": "@jupyter-widgets/controls",
          "model_name": "HBoxModel",
          "model_module_version": "1.5.0",
          "state": {
            "_dom_classes": [],
            "_model_module": "@jupyter-widgets/controls",
            "_model_module_version": "1.5.0",
            "_model_name": "HBoxModel",
            "_view_count": null,
            "_view_module": "@jupyter-widgets/controls",
            "_view_module_version": "1.5.0",
            "_view_name": "HBoxView",
            "box_style": "",
            "children": [
              "IPY_MODEL_d9e365b4fcb442989293cf8b9467a8fa",
              "IPY_MODEL_5164d195368f4f4cafd5255af9318e08",
              "IPY_MODEL_1deff5f304ee4a62aac9a822c6e9e2f9"
            ],
            "layout": "IPY_MODEL_8156effc82c843a286d51ed2e29f1c50"
          }
        },
        "d9e365b4fcb442989293cf8b9467a8fa": {
          "model_module": "@jupyter-widgets/controls",
          "model_name": "HTMLModel",
          "model_module_version": "1.5.0",
          "state": {
            "_dom_classes": [],
            "_model_module": "@jupyter-widgets/controls",
            "_model_module_version": "1.5.0",
            "_model_name": "HTMLModel",
            "_view_count": null,
            "_view_module": "@jupyter-widgets/controls",
            "_view_module_version": "1.5.0",
            "_view_name": "HTMLView",
            "description": "",
            "description_tooltip": null,
            "layout": "IPY_MODEL_decb7e8b32fd4135a671cff5a772422e",
            "placeholder": "​",
            "style": "IPY_MODEL_2e7c68f0cc5143f18c4c69b6244876b0",
            "value": "100%"
          }
        },
        "5164d195368f4f4cafd5255af9318e08": {
          "model_module": "@jupyter-widgets/controls",
          "model_name": "FloatProgressModel",
          "model_module_version": "1.5.0",
          "state": {
            "_dom_classes": [],
            "_model_module": "@jupyter-widgets/controls",
            "_model_module_version": "1.5.0",
            "_model_name": "FloatProgressModel",
            "_view_count": null,
            "_view_module": "@jupyter-widgets/controls",
            "_view_module_version": "1.5.0",
            "_view_name": "ProgressView",
            "bar_style": "success",
            "description": "",
            "description_tooltip": null,
            "layout": "IPY_MODEL_2f7127a2e6ab433aa9acc4b06d1bf11e",
            "max": 26421880,
            "min": 0,
            "orientation": "horizontal",
            "style": "IPY_MODEL_44c4d3753ee94cd6a721121dfc619602",
            "value": 26421880
          }
        },
        "1deff5f304ee4a62aac9a822c6e9e2f9": {
          "model_module": "@jupyter-widgets/controls",
          "model_name": "HTMLModel",
          "model_module_version": "1.5.0",
          "state": {
            "_dom_classes": [],
            "_model_module": "@jupyter-widgets/controls",
            "_model_module_version": "1.5.0",
            "_model_name": "HTMLModel",
            "_view_count": null,
            "_view_module": "@jupyter-widgets/controls",
            "_view_module_version": "1.5.0",
            "_view_name": "HTMLView",
            "description": "",
            "description_tooltip": null,
            "layout": "IPY_MODEL_4ee31e6eef14468eaabb08db457358f1",
            "placeholder": "​",
            "style": "IPY_MODEL_433f9122a9344255942dfa948ddd8363",
            "value": " 26421880/26421880 [00:01&lt;00:00, 23155546.68it/s]"
          }
        },
        "8156effc82c843a286d51ed2e29f1c50": {
          "model_module": "@jupyter-widgets/base",
          "model_name": "LayoutModel",
          "model_module_version": "1.2.0",
          "state": {
            "_model_module": "@jupyter-widgets/base",
            "_model_module_version": "1.2.0",
            "_model_name": "LayoutModel",
            "_view_count": null,
            "_view_module": "@jupyter-widgets/base",
            "_view_module_version": "1.2.0",
            "_view_name": "LayoutView",
            "align_content": null,
            "align_items": null,
            "align_self": null,
            "border": null,
            "bottom": null,
            "display": null,
            "flex": null,
            "flex_flow": null,
            "grid_area": null,
            "grid_auto_columns": null,
            "grid_auto_flow": null,
            "grid_auto_rows": null,
            "grid_column": null,
            "grid_gap": null,
            "grid_row": null,
            "grid_template_areas": null,
            "grid_template_columns": null,
            "grid_template_rows": null,
            "height": null,
            "justify_content": null,
            "justify_items": null,
            "left": null,
            "margin": null,
            "max_height": null,
            "max_width": null,
            "min_height": null,
            "min_width": null,
            "object_fit": null,
            "object_position": null,
            "order": null,
            "overflow": null,
            "overflow_x": null,
            "overflow_y": null,
            "padding": null,
            "right": null,
            "top": null,
            "visibility": null,
            "width": null
          }
        },
        "decb7e8b32fd4135a671cff5a772422e": {
          "model_module": "@jupyter-widgets/base",
          "model_name": "LayoutModel",
          "model_module_version": "1.2.0",
          "state": {
            "_model_module": "@jupyter-widgets/base",
            "_model_module_version": "1.2.0",
            "_model_name": "LayoutModel",
            "_view_count": null,
            "_view_module": "@jupyter-widgets/base",
            "_view_module_version": "1.2.0",
            "_view_name": "LayoutView",
            "align_content": null,
            "align_items": null,
            "align_self": null,
            "border": null,
            "bottom": null,
            "display": null,
            "flex": null,
            "flex_flow": null,
            "grid_area": null,
            "grid_auto_columns": null,
            "grid_auto_flow": null,
            "grid_auto_rows": null,
            "grid_column": null,
            "grid_gap": null,
            "grid_row": null,
            "grid_template_areas": null,
            "grid_template_columns": null,
            "grid_template_rows": null,
            "height": null,
            "justify_content": null,
            "justify_items": null,
            "left": null,
            "margin": null,
            "max_height": null,
            "max_width": null,
            "min_height": null,
            "min_width": null,
            "object_fit": null,
            "object_position": null,
            "order": null,
            "overflow": null,
            "overflow_x": null,
            "overflow_y": null,
            "padding": null,
            "right": null,
            "top": null,
            "visibility": null,
            "width": null
          }
        },
        "2e7c68f0cc5143f18c4c69b6244876b0": {
          "model_module": "@jupyter-widgets/controls",
          "model_name": "DescriptionStyleModel",
          "model_module_version": "1.5.0",
          "state": {
            "_model_module": "@jupyter-widgets/controls",
            "_model_module_version": "1.5.0",
            "_model_name": "DescriptionStyleModel",
            "_view_count": null,
            "_view_module": "@jupyter-widgets/base",
            "_view_module_version": "1.2.0",
            "_view_name": "StyleView",
            "description_width": ""
          }
        },
        "2f7127a2e6ab433aa9acc4b06d1bf11e": {
          "model_module": "@jupyter-widgets/base",
          "model_name": "LayoutModel",
          "model_module_version": "1.2.0",
          "state": {
            "_model_module": "@jupyter-widgets/base",
            "_model_module_version": "1.2.0",
            "_model_name": "LayoutModel",
            "_view_count": null,
            "_view_module": "@jupyter-widgets/base",
            "_view_module_version": "1.2.0",
            "_view_name": "LayoutView",
            "align_content": null,
            "align_items": null,
            "align_self": null,
            "border": null,
            "bottom": null,
            "display": null,
            "flex": null,
            "flex_flow": null,
            "grid_area": null,
            "grid_auto_columns": null,
            "grid_auto_flow": null,
            "grid_auto_rows": null,
            "grid_column": null,
            "grid_gap": null,
            "grid_row": null,
            "grid_template_areas": null,
            "grid_template_columns": null,
            "grid_template_rows": null,
            "height": null,
            "justify_content": null,
            "justify_items": null,
            "left": null,
            "margin": null,
            "max_height": null,
            "max_width": null,
            "min_height": null,
            "min_width": null,
            "object_fit": null,
            "object_position": null,
            "order": null,
            "overflow": null,
            "overflow_x": null,
            "overflow_y": null,
            "padding": null,
            "right": null,
            "top": null,
            "visibility": null,
            "width": null
          }
        },
        "44c4d3753ee94cd6a721121dfc619602": {
          "model_module": "@jupyter-widgets/controls",
          "model_name": "ProgressStyleModel",
          "model_module_version": "1.5.0",
          "state": {
            "_model_module": "@jupyter-widgets/controls",
            "_model_module_version": "1.5.0",
            "_model_name": "ProgressStyleModel",
            "_view_count": null,
            "_view_module": "@jupyter-widgets/base",
            "_view_module_version": "1.2.0",
            "_view_name": "StyleView",
            "bar_color": null,
            "description_width": ""
          }
        },
        "4ee31e6eef14468eaabb08db457358f1": {
          "model_module": "@jupyter-widgets/base",
          "model_name": "LayoutModel",
          "model_module_version": "1.2.0",
          "state": {
            "_model_module": "@jupyter-widgets/base",
            "_model_module_version": "1.2.0",
            "_model_name": "LayoutModel",
            "_view_count": null,
            "_view_module": "@jupyter-widgets/base",
            "_view_module_version": "1.2.0",
            "_view_name": "LayoutView",
            "align_content": null,
            "align_items": null,
            "align_self": null,
            "border": null,
            "bottom": null,
            "display": null,
            "flex": null,
            "flex_flow": null,
            "grid_area": null,
            "grid_auto_columns": null,
            "grid_auto_flow": null,
            "grid_auto_rows": null,
            "grid_column": null,
            "grid_gap": null,
            "grid_row": null,
            "grid_template_areas": null,
            "grid_template_columns": null,
            "grid_template_rows": null,
            "height": null,
            "justify_content": null,
            "justify_items": null,
            "left": null,
            "margin": null,
            "max_height": null,
            "max_width": null,
            "min_height": null,
            "min_width": null,
            "object_fit": null,
            "object_position": null,
            "order": null,
            "overflow": null,
            "overflow_x": null,
            "overflow_y": null,
            "padding": null,
            "right": null,
            "top": null,
            "visibility": null,
            "width": null
          }
        },
        "433f9122a9344255942dfa948ddd8363": {
          "model_module": "@jupyter-widgets/controls",
          "model_name": "DescriptionStyleModel",
          "model_module_version": "1.5.0",
          "state": {
            "_model_module": "@jupyter-widgets/controls",
            "_model_module_version": "1.5.0",
            "_model_name": "DescriptionStyleModel",
            "_view_count": null,
            "_view_module": "@jupyter-widgets/base",
            "_view_module_version": "1.2.0",
            "_view_name": "StyleView",
            "description_width": ""
          }
        },
        "6a09eb426ec34895b2ed586b90992d6f": {
          "model_module": "@jupyter-widgets/controls",
          "model_name": "HBoxModel",
          "model_module_version": "1.5.0",
          "state": {
            "_dom_classes": [],
            "_model_module": "@jupyter-widgets/controls",
            "_model_module_version": "1.5.0",
            "_model_name": "HBoxModel",
            "_view_count": null,
            "_view_module": "@jupyter-widgets/controls",
            "_view_module_version": "1.5.0",
            "_view_name": "HBoxView",
            "box_style": "",
            "children": [
              "IPY_MODEL_37d28b1ad1b846d48b4ef4362ba35b7f",
              "IPY_MODEL_8dfd8d2363924c67b4eba01cd07a8306",
              "IPY_MODEL_c47475e485e947c293c67c34f8c54d36"
            ],
            "layout": "IPY_MODEL_ae67d5fa44eb420ea0c9c3bca80f2246"
          }
        },
        "37d28b1ad1b846d48b4ef4362ba35b7f": {
          "model_module": "@jupyter-widgets/controls",
          "model_name": "HTMLModel",
          "model_module_version": "1.5.0",
          "state": {
            "_dom_classes": [],
            "_model_module": "@jupyter-widgets/controls",
            "_model_module_version": "1.5.0",
            "_model_name": "HTMLModel",
            "_view_count": null,
            "_view_module": "@jupyter-widgets/controls",
            "_view_module_version": "1.5.0",
            "_view_name": "HTMLView",
            "description": "",
            "description_tooltip": null,
            "layout": "IPY_MODEL_2bd15fd7324f43cf9165a5b3babfd6dc",
            "placeholder": "​",
            "style": "IPY_MODEL_9c694fc59d104dbda8300f18f2d51b3c",
            "value": "100%"
          }
        },
        "8dfd8d2363924c67b4eba01cd07a8306": {
          "model_module": "@jupyter-widgets/controls",
          "model_name": "FloatProgressModel",
          "model_module_version": "1.5.0",
          "state": {
            "_dom_classes": [],
            "_model_module": "@jupyter-widgets/controls",
            "_model_module_version": "1.5.0",
            "_model_name": "FloatProgressModel",
            "_view_count": null,
            "_view_module": "@jupyter-widgets/controls",
            "_view_module_version": "1.5.0",
            "_view_name": "ProgressView",
            "bar_style": "success",
            "description": "",
            "description_tooltip": null,
            "layout": "IPY_MODEL_2b3ed4e3aa6e4cbfbac0c098e644e9a2",
            "max": 29515,
            "min": 0,
            "orientation": "horizontal",
            "style": "IPY_MODEL_2b5a2bb00f424d768130a7021f36a238",
            "value": 29515
          }
        },
        "c47475e485e947c293c67c34f8c54d36": {
          "model_module": "@jupyter-widgets/controls",
          "model_name": "HTMLModel",
          "model_module_version": "1.5.0",
          "state": {
            "_dom_classes": [],
            "_model_module": "@jupyter-widgets/controls",
            "_model_module_version": "1.5.0",
            "_model_name": "HTMLModel",
            "_view_count": null,
            "_view_module": "@jupyter-widgets/controls",
            "_view_module_version": "1.5.0",
            "_view_name": "HTMLView",
            "description": "",
            "description_tooltip": null,
            "layout": "IPY_MODEL_dcc9ffb0529e4c56822dcc7bacbcd94d",
            "placeholder": "​",
            "style": "IPY_MODEL_05bce64c800846ce8d6ef2570ba37e59",
            "value": " 29515/29515 [00:00&lt;00:00, 295824.55it/s]"
          }
        },
        "ae67d5fa44eb420ea0c9c3bca80f2246": {
          "model_module": "@jupyter-widgets/base",
          "model_name": "LayoutModel",
          "model_module_version": "1.2.0",
          "state": {
            "_model_module": "@jupyter-widgets/base",
            "_model_module_version": "1.2.0",
            "_model_name": "LayoutModel",
            "_view_count": null,
            "_view_module": "@jupyter-widgets/base",
            "_view_module_version": "1.2.0",
            "_view_name": "LayoutView",
            "align_content": null,
            "align_items": null,
            "align_self": null,
            "border": null,
            "bottom": null,
            "display": null,
            "flex": null,
            "flex_flow": null,
            "grid_area": null,
            "grid_auto_columns": null,
            "grid_auto_flow": null,
            "grid_auto_rows": null,
            "grid_column": null,
            "grid_gap": null,
            "grid_row": null,
            "grid_template_areas": null,
            "grid_template_columns": null,
            "grid_template_rows": null,
            "height": null,
            "justify_content": null,
            "justify_items": null,
            "left": null,
            "margin": null,
            "max_height": null,
            "max_width": null,
            "min_height": null,
            "min_width": null,
            "object_fit": null,
            "object_position": null,
            "order": null,
            "overflow": null,
            "overflow_x": null,
            "overflow_y": null,
            "padding": null,
            "right": null,
            "top": null,
            "visibility": null,
            "width": null
          }
        },
        "2bd15fd7324f43cf9165a5b3babfd6dc": {
          "model_module": "@jupyter-widgets/base",
          "model_name": "LayoutModel",
          "model_module_version": "1.2.0",
          "state": {
            "_model_module": "@jupyter-widgets/base",
            "_model_module_version": "1.2.0",
            "_model_name": "LayoutModel",
            "_view_count": null,
            "_view_module": "@jupyter-widgets/base",
            "_view_module_version": "1.2.0",
            "_view_name": "LayoutView",
            "align_content": null,
            "align_items": null,
            "align_self": null,
            "border": null,
            "bottom": null,
            "display": null,
            "flex": null,
            "flex_flow": null,
            "grid_area": null,
            "grid_auto_columns": null,
            "grid_auto_flow": null,
            "grid_auto_rows": null,
            "grid_column": null,
            "grid_gap": null,
            "grid_row": null,
            "grid_template_areas": null,
            "grid_template_columns": null,
            "grid_template_rows": null,
            "height": null,
            "justify_content": null,
            "justify_items": null,
            "left": null,
            "margin": null,
            "max_height": null,
            "max_width": null,
            "min_height": null,
            "min_width": null,
            "object_fit": null,
            "object_position": null,
            "order": null,
            "overflow": null,
            "overflow_x": null,
            "overflow_y": null,
            "padding": null,
            "right": null,
            "top": null,
            "visibility": null,
            "width": null
          }
        },
        "9c694fc59d104dbda8300f18f2d51b3c": {
          "model_module": "@jupyter-widgets/controls",
          "model_name": "DescriptionStyleModel",
          "model_module_version": "1.5.0",
          "state": {
            "_model_module": "@jupyter-widgets/controls",
            "_model_module_version": "1.5.0",
            "_model_name": "DescriptionStyleModel",
            "_view_count": null,
            "_view_module": "@jupyter-widgets/base",
            "_view_module_version": "1.2.0",
            "_view_name": "StyleView",
            "description_width": ""
          }
        },
        "2b3ed4e3aa6e4cbfbac0c098e644e9a2": {
          "model_module": "@jupyter-widgets/base",
          "model_name": "LayoutModel",
          "model_module_version": "1.2.0",
          "state": {
            "_model_module": "@jupyter-widgets/base",
            "_model_module_version": "1.2.0",
            "_model_name": "LayoutModel",
            "_view_count": null,
            "_view_module": "@jupyter-widgets/base",
            "_view_module_version": "1.2.0",
            "_view_name": "LayoutView",
            "align_content": null,
            "align_items": null,
            "align_self": null,
            "border": null,
            "bottom": null,
            "display": null,
            "flex": null,
            "flex_flow": null,
            "grid_area": null,
            "grid_auto_columns": null,
            "grid_auto_flow": null,
            "grid_auto_rows": null,
            "grid_column": null,
            "grid_gap": null,
            "grid_row": null,
            "grid_template_areas": null,
            "grid_template_columns": null,
            "grid_template_rows": null,
            "height": null,
            "justify_content": null,
            "justify_items": null,
            "left": null,
            "margin": null,
            "max_height": null,
            "max_width": null,
            "min_height": null,
            "min_width": null,
            "object_fit": null,
            "object_position": null,
            "order": null,
            "overflow": null,
            "overflow_x": null,
            "overflow_y": null,
            "padding": null,
            "right": null,
            "top": null,
            "visibility": null,
            "width": null
          }
        },
        "2b5a2bb00f424d768130a7021f36a238": {
          "model_module": "@jupyter-widgets/controls",
          "model_name": "ProgressStyleModel",
          "model_module_version": "1.5.0",
          "state": {
            "_model_module": "@jupyter-widgets/controls",
            "_model_module_version": "1.5.0",
            "_model_name": "ProgressStyleModel",
            "_view_count": null,
            "_view_module": "@jupyter-widgets/base",
            "_view_module_version": "1.2.0",
            "_view_name": "StyleView",
            "bar_color": null,
            "description_width": ""
          }
        },
        "dcc9ffb0529e4c56822dcc7bacbcd94d": {
          "model_module": "@jupyter-widgets/base",
          "model_name": "LayoutModel",
          "model_module_version": "1.2.0",
          "state": {
            "_model_module": "@jupyter-widgets/base",
            "_model_module_version": "1.2.0",
            "_model_name": "LayoutModel",
            "_view_count": null,
            "_view_module": "@jupyter-widgets/base",
            "_view_module_version": "1.2.0",
            "_view_name": "LayoutView",
            "align_content": null,
            "align_items": null,
            "align_self": null,
            "border": null,
            "bottom": null,
            "display": null,
            "flex": null,
            "flex_flow": null,
            "grid_area": null,
            "grid_auto_columns": null,
            "grid_auto_flow": null,
            "grid_auto_rows": null,
            "grid_column": null,
            "grid_gap": null,
            "grid_row": null,
            "grid_template_areas": null,
            "grid_template_columns": null,
            "grid_template_rows": null,
            "height": null,
            "justify_content": null,
            "justify_items": null,
            "left": null,
            "margin": null,
            "max_height": null,
            "max_width": null,
            "min_height": null,
            "min_width": null,
            "object_fit": null,
            "object_position": null,
            "order": null,
            "overflow": null,
            "overflow_x": null,
            "overflow_y": null,
            "padding": null,
            "right": null,
            "top": null,
            "visibility": null,
            "width": null
          }
        },
        "05bce64c800846ce8d6ef2570ba37e59": {
          "model_module": "@jupyter-widgets/controls",
          "model_name": "DescriptionStyleModel",
          "model_module_version": "1.5.0",
          "state": {
            "_model_module": "@jupyter-widgets/controls",
            "_model_module_version": "1.5.0",
            "_model_name": "DescriptionStyleModel",
            "_view_count": null,
            "_view_module": "@jupyter-widgets/base",
            "_view_module_version": "1.2.0",
            "_view_name": "StyleView",
            "description_width": ""
          }
        },
        "cd1810982c9648cfa46e8b0e1b6ca800": {
          "model_module": "@jupyter-widgets/controls",
          "model_name": "HBoxModel",
          "model_module_version": "1.5.0",
          "state": {
            "_dom_classes": [],
            "_model_module": "@jupyter-widgets/controls",
            "_model_module_version": "1.5.0",
            "_model_name": "HBoxModel",
            "_view_count": null,
            "_view_module": "@jupyter-widgets/controls",
            "_view_module_version": "1.5.0",
            "_view_name": "HBoxView",
            "box_style": "",
            "children": [
              "IPY_MODEL_275c12154d674999803f332f6449bd51",
              "IPY_MODEL_999e0b4328494e8ba48f5d6181caf181",
              "IPY_MODEL_773fda4cef5e448ba32e5b32df842922"
            ],
            "layout": "IPY_MODEL_e46e5f26ee5c43aeaf7421c394894593"
          }
        },
        "275c12154d674999803f332f6449bd51": {
          "model_module": "@jupyter-widgets/controls",
          "model_name": "HTMLModel",
          "model_module_version": "1.5.0",
          "state": {
            "_dom_classes": [],
            "_model_module": "@jupyter-widgets/controls",
            "_model_module_version": "1.5.0",
            "_model_name": "HTMLModel",
            "_view_count": null,
            "_view_module": "@jupyter-widgets/controls",
            "_view_module_version": "1.5.0",
            "_view_name": "HTMLView",
            "description": "",
            "description_tooltip": null,
            "layout": "IPY_MODEL_6ee6764df5b1477dbf5c8e2f64144609",
            "placeholder": "​",
            "style": "IPY_MODEL_7d34b47b8c224a0f89ec2c89db10b3d6",
            "value": "100%"
          }
        },
        "999e0b4328494e8ba48f5d6181caf181": {
          "model_module": "@jupyter-widgets/controls",
          "model_name": "FloatProgressModel",
          "model_module_version": "1.5.0",
          "state": {
            "_dom_classes": [],
            "_model_module": "@jupyter-widgets/controls",
            "_model_module_version": "1.5.0",
            "_model_name": "FloatProgressModel",
            "_view_count": null,
            "_view_module": "@jupyter-widgets/controls",
            "_view_module_version": "1.5.0",
            "_view_name": "ProgressView",
            "bar_style": "success",
            "description": "",
            "description_tooltip": null,
            "layout": "IPY_MODEL_6aa6c3876d6d40a880db02f67d65dee2",
            "max": 4422102,
            "min": 0,
            "orientation": "horizontal",
            "style": "IPY_MODEL_4ba680d6d46049de860f691cea7895ab",
            "value": 4422102
          }
        },
        "773fda4cef5e448ba32e5b32df842922": {
          "model_module": "@jupyter-widgets/controls",
          "model_name": "HTMLModel",
          "model_module_version": "1.5.0",
          "state": {
            "_dom_classes": [],
            "_model_module": "@jupyter-widgets/controls",
            "_model_module_version": "1.5.0",
            "_model_name": "HTMLModel",
            "_view_count": null,
            "_view_module": "@jupyter-widgets/controls",
            "_view_module_version": "1.5.0",
            "_view_name": "HTMLView",
            "description": "",
            "description_tooltip": null,
            "layout": "IPY_MODEL_89be9723e2b74281835760906c968ff5",
            "placeholder": "​",
            "style": "IPY_MODEL_9af91e46dfc34e8e85cb63b80fdd5b58",
            "value": " 4422102/4422102 [00:00&lt;00:00, 9481157.80it/s]"
          }
        },
        "e46e5f26ee5c43aeaf7421c394894593": {
          "model_module": "@jupyter-widgets/base",
          "model_name": "LayoutModel",
          "model_module_version": "1.2.0",
          "state": {
            "_model_module": "@jupyter-widgets/base",
            "_model_module_version": "1.2.0",
            "_model_name": "LayoutModel",
            "_view_count": null,
            "_view_module": "@jupyter-widgets/base",
            "_view_module_version": "1.2.0",
            "_view_name": "LayoutView",
            "align_content": null,
            "align_items": null,
            "align_self": null,
            "border": null,
            "bottom": null,
            "display": null,
            "flex": null,
            "flex_flow": null,
            "grid_area": null,
            "grid_auto_columns": null,
            "grid_auto_flow": null,
            "grid_auto_rows": null,
            "grid_column": null,
            "grid_gap": null,
            "grid_row": null,
            "grid_template_areas": null,
            "grid_template_columns": null,
            "grid_template_rows": null,
            "height": null,
            "justify_content": null,
            "justify_items": null,
            "left": null,
            "margin": null,
            "max_height": null,
            "max_width": null,
            "min_height": null,
            "min_width": null,
            "object_fit": null,
            "object_position": null,
            "order": null,
            "overflow": null,
            "overflow_x": null,
            "overflow_y": null,
            "padding": null,
            "right": null,
            "top": null,
            "visibility": null,
            "width": null
          }
        },
        "6ee6764df5b1477dbf5c8e2f64144609": {
          "model_module": "@jupyter-widgets/base",
          "model_name": "LayoutModel",
          "model_module_version": "1.2.0",
          "state": {
            "_model_module": "@jupyter-widgets/base",
            "_model_module_version": "1.2.0",
            "_model_name": "LayoutModel",
            "_view_count": null,
            "_view_module": "@jupyter-widgets/base",
            "_view_module_version": "1.2.0",
            "_view_name": "LayoutView",
            "align_content": null,
            "align_items": null,
            "align_self": null,
            "border": null,
            "bottom": null,
            "display": null,
            "flex": null,
            "flex_flow": null,
            "grid_area": null,
            "grid_auto_columns": null,
            "grid_auto_flow": null,
            "grid_auto_rows": null,
            "grid_column": null,
            "grid_gap": null,
            "grid_row": null,
            "grid_template_areas": null,
            "grid_template_columns": null,
            "grid_template_rows": null,
            "height": null,
            "justify_content": null,
            "justify_items": null,
            "left": null,
            "margin": null,
            "max_height": null,
            "max_width": null,
            "min_height": null,
            "min_width": null,
            "object_fit": null,
            "object_position": null,
            "order": null,
            "overflow": null,
            "overflow_x": null,
            "overflow_y": null,
            "padding": null,
            "right": null,
            "top": null,
            "visibility": null,
            "width": null
          }
        },
        "7d34b47b8c224a0f89ec2c89db10b3d6": {
          "model_module": "@jupyter-widgets/controls",
          "model_name": "DescriptionStyleModel",
          "model_module_version": "1.5.0",
          "state": {
            "_model_module": "@jupyter-widgets/controls",
            "_model_module_version": "1.5.0",
            "_model_name": "DescriptionStyleModel",
            "_view_count": null,
            "_view_module": "@jupyter-widgets/base",
            "_view_module_version": "1.2.0",
            "_view_name": "StyleView",
            "description_width": ""
          }
        },
        "6aa6c3876d6d40a880db02f67d65dee2": {
          "model_module": "@jupyter-widgets/base",
          "model_name": "LayoutModel",
          "model_module_version": "1.2.0",
          "state": {
            "_model_module": "@jupyter-widgets/base",
            "_model_module_version": "1.2.0",
            "_model_name": "LayoutModel",
            "_view_count": null,
            "_view_module": "@jupyter-widgets/base",
            "_view_module_version": "1.2.0",
            "_view_name": "LayoutView",
            "align_content": null,
            "align_items": null,
            "align_self": null,
            "border": null,
            "bottom": null,
            "display": null,
            "flex": null,
            "flex_flow": null,
            "grid_area": null,
            "grid_auto_columns": null,
            "grid_auto_flow": null,
            "grid_auto_rows": null,
            "grid_column": null,
            "grid_gap": null,
            "grid_row": null,
            "grid_template_areas": null,
            "grid_template_columns": null,
            "grid_template_rows": null,
            "height": null,
            "justify_content": null,
            "justify_items": null,
            "left": null,
            "margin": null,
            "max_height": null,
            "max_width": null,
            "min_height": null,
            "min_width": null,
            "object_fit": null,
            "object_position": null,
            "order": null,
            "overflow": null,
            "overflow_x": null,
            "overflow_y": null,
            "padding": null,
            "right": null,
            "top": null,
            "visibility": null,
            "width": null
          }
        },
        "4ba680d6d46049de860f691cea7895ab": {
          "model_module": "@jupyter-widgets/controls",
          "model_name": "ProgressStyleModel",
          "model_module_version": "1.5.0",
          "state": {
            "_model_module": "@jupyter-widgets/controls",
            "_model_module_version": "1.5.0",
            "_model_name": "ProgressStyleModel",
            "_view_count": null,
            "_view_module": "@jupyter-widgets/base",
            "_view_module_version": "1.2.0",
            "_view_name": "StyleView",
            "bar_color": null,
            "description_width": ""
          }
        },
        "89be9723e2b74281835760906c968ff5": {
          "model_module": "@jupyter-widgets/base",
          "model_name": "LayoutModel",
          "model_module_version": "1.2.0",
          "state": {
            "_model_module": "@jupyter-widgets/base",
            "_model_module_version": "1.2.0",
            "_model_name": "LayoutModel",
            "_view_count": null,
            "_view_module": "@jupyter-widgets/base",
            "_view_module_version": "1.2.0",
            "_view_name": "LayoutView",
            "align_content": null,
            "align_items": null,
            "align_self": null,
            "border": null,
            "bottom": null,
            "display": null,
            "flex": null,
            "flex_flow": null,
            "grid_area": null,
            "grid_auto_columns": null,
            "grid_auto_flow": null,
            "grid_auto_rows": null,
            "grid_column": null,
            "grid_gap": null,
            "grid_row": null,
            "grid_template_areas": null,
            "grid_template_columns": null,
            "grid_template_rows": null,
            "height": null,
            "justify_content": null,
            "justify_items": null,
            "left": null,
            "margin": null,
            "max_height": null,
            "max_width": null,
            "min_height": null,
            "min_width": null,
            "object_fit": null,
            "object_position": null,
            "order": null,
            "overflow": null,
            "overflow_x": null,
            "overflow_y": null,
            "padding": null,
            "right": null,
            "top": null,
            "visibility": null,
            "width": null
          }
        },
        "9af91e46dfc34e8e85cb63b80fdd5b58": {
          "model_module": "@jupyter-widgets/controls",
          "model_name": "DescriptionStyleModel",
          "model_module_version": "1.5.0",
          "state": {
            "_model_module": "@jupyter-widgets/controls",
            "_model_module_version": "1.5.0",
            "_model_name": "DescriptionStyleModel",
            "_view_count": null,
            "_view_module": "@jupyter-widgets/base",
            "_view_module_version": "1.2.0",
            "_view_name": "StyleView",
            "description_width": ""
          }
        },
        "cb13183c79bd40b38095264a60d05394": {
          "model_module": "@jupyter-widgets/controls",
          "model_name": "HBoxModel",
          "model_module_version": "1.5.0",
          "state": {
            "_dom_classes": [],
            "_model_module": "@jupyter-widgets/controls",
            "_model_module_version": "1.5.0",
            "_model_name": "HBoxModel",
            "_view_count": null,
            "_view_module": "@jupyter-widgets/controls",
            "_view_module_version": "1.5.0",
            "_view_name": "HBoxView",
            "box_style": "",
            "children": [
              "IPY_MODEL_078e32237d4f4fd8bc2d972d97db4568",
              "IPY_MODEL_26f25c59a15d4082a771fa866972c4fd",
              "IPY_MODEL_b9863d6b89834e4c94863e1853d9b8c3"
            ],
            "layout": "IPY_MODEL_8a0949a2c95542ff853fbc93849badd9"
          }
        },
        "078e32237d4f4fd8bc2d972d97db4568": {
          "model_module": "@jupyter-widgets/controls",
          "model_name": "HTMLModel",
          "model_module_version": "1.5.0",
          "state": {
            "_dom_classes": [],
            "_model_module": "@jupyter-widgets/controls",
            "_model_module_version": "1.5.0",
            "_model_name": "HTMLModel",
            "_view_count": null,
            "_view_module": "@jupyter-widgets/controls",
            "_view_module_version": "1.5.0",
            "_view_name": "HTMLView",
            "description": "",
            "description_tooltip": null,
            "layout": "IPY_MODEL_3953f43aca2f46d8ae793c81ce35d46e",
            "placeholder": "​",
            "style": "IPY_MODEL_639f9a2f42b74c0abdcd6c4eb5db8290",
            "value": "100%"
          }
        },
        "26f25c59a15d4082a771fa866972c4fd": {
          "model_module": "@jupyter-widgets/controls",
          "model_name": "FloatProgressModel",
          "model_module_version": "1.5.0",
          "state": {
            "_dom_classes": [],
            "_model_module": "@jupyter-widgets/controls",
            "_model_module_version": "1.5.0",
            "_model_name": "FloatProgressModel",
            "_view_count": null,
            "_view_module": "@jupyter-widgets/controls",
            "_view_module_version": "1.5.0",
            "_view_name": "ProgressView",
            "bar_style": "success",
            "description": "",
            "description_tooltip": null,
            "layout": "IPY_MODEL_6c4671052f5e484eb15e8f7b9f45095e",
            "max": 5148,
            "min": 0,
            "orientation": "horizontal",
            "style": "IPY_MODEL_299bdc1d19b94d4489de7c46b399fd86",
            "value": 5148
          }
        },
        "b9863d6b89834e4c94863e1853d9b8c3": {
          "model_module": "@jupyter-widgets/controls",
          "model_name": "HTMLModel",
          "model_module_version": "1.5.0",
          "state": {
            "_dom_classes": [],
            "_model_module": "@jupyter-widgets/controls",
            "_model_module_version": "1.5.0",
            "_model_name": "HTMLModel",
            "_view_count": null,
            "_view_module": "@jupyter-widgets/controls",
            "_view_module_version": "1.5.0",
            "_view_name": "HTMLView",
            "description": "",
            "description_tooltip": null,
            "layout": "IPY_MODEL_3e04741ca61c475c87e53b1c6ea32952",
            "placeholder": "​",
            "style": "IPY_MODEL_cf06725f271746f1b3ceb1088875f143",
            "value": " 5148/5148 [00:00&lt;00:00, 98094.10it/s]"
          }
        },
        "8a0949a2c95542ff853fbc93849badd9": {
          "model_module": "@jupyter-widgets/base",
          "model_name": "LayoutModel",
          "model_module_version": "1.2.0",
          "state": {
            "_model_module": "@jupyter-widgets/base",
            "_model_module_version": "1.2.0",
            "_model_name": "LayoutModel",
            "_view_count": null,
            "_view_module": "@jupyter-widgets/base",
            "_view_module_version": "1.2.0",
            "_view_name": "LayoutView",
            "align_content": null,
            "align_items": null,
            "align_self": null,
            "border": null,
            "bottom": null,
            "display": null,
            "flex": null,
            "flex_flow": null,
            "grid_area": null,
            "grid_auto_columns": null,
            "grid_auto_flow": null,
            "grid_auto_rows": null,
            "grid_column": null,
            "grid_gap": null,
            "grid_row": null,
            "grid_template_areas": null,
            "grid_template_columns": null,
            "grid_template_rows": null,
            "height": null,
            "justify_content": null,
            "justify_items": null,
            "left": null,
            "margin": null,
            "max_height": null,
            "max_width": null,
            "min_height": null,
            "min_width": null,
            "object_fit": null,
            "object_position": null,
            "order": null,
            "overflow": null,
            "overflow_x": null,
            "overflow_y": null,
            "padding": null,
            "right": null,
            "top": null,
            "visibility": null,
            "width": null
          }
        },
        "3953f43aca2f46d8ae793c81ce35d46e": {
          "model_module": "@jupyter-widgets/base",
          "model_name": "LayoutModel",
          "model_module_version": "1.2.0",
          "state": {
            "_model_module": "@jupyter-widgets/base",
            "_model_module_version": "1.2.0",
            "_model_name": "LayoutModel",
            "_view_count": null,
            "_view_module": "@jupyter-widgets/base",
            "_view_module_version": "1.2.0",
            "_view_name": "LayoutView",
            "align_content": null,
            "align_items": null,
            "align_self": null,
            "border": null,
            "bottom": null,
            "display": null,
            "flex": null,
            "flex_flow": null,
            "grid_area": null,
            "grid_auto_columns": null,
            "grid_auto_flow": null,
            "grid_auto_rows": null,
            "grid_column": null,
            "grid_gap": null,
            "grid_row": null,
            "grid_template_areas": null,
            "grid_template_columns": null,
            "grid_template_rows": null,
            "height": null,
            "justify_content": null,
            "justify_items": null,
            "left": null,
            "margin": null,
            "max_height": null,
            "max_width": null,
            "min_height": null,
            "min_width": null,
            "object_fit": null,
            "object_position": null,
            "order": null,
            "overflow": null,
            "overflow_x": null,
            "overflow_y": null,
            "padding": null,
            "right": null,
            "top": null,
            "visibility": null,
            "width": null
          }
        },
        "639f9a2f42b74c0abdcd6c4eb5db8290": {
          "model_module": "@jupyter-widgets/controls",
          "model_name": "DescriptionStyleModel",
          "model_module_version": "1.5.0",
          "state": {
            "_model_module": "@jupyter-widgets/controls",
            "_model_module_version": "1.5.0",
            "_model_name": "DescriptionStyleModel",
            "_view_count": null,
            "_view_module": "@jupyter-widgets/base",
            "_view_module_version": "1.2.0",
            "_view_name": "StyleView",
            "description_width": ""
          }
        },
        "6c4671052f5e484eb15e8f7b9f45095e": {
          "model_module": "@jupyter-widgets/base",
          "model_name": "LayoutModel",
          "model_module_version": "1.2.0",
          "state": {
            "_model_module": "@jupyter-widgets/base",
            "_model_module_version": "1.2.0",
            "_model_name": "LayoutModel",
            "_view_count": null,
            "_view_module": "@jupyter-widgets/base",
            "_view_module_version": "1.2.0",
            "_view_name": "LayoutView",
            "align_content": null,
            "align_items": null,
            "align_self": null,
            "border": null,
            "bottom": null,
            "display": null,
            "flex": null,
            "flex_flow": null,
            "grid_area": null,
            "grid_auto_columns": null,
            "grid_auto_flow": null,
            "grid_auto_rows": null,
            "grid_column": null,
            "grid_gap": null,
            "grid_row": null,
            "grid_template_areas": null,
            "grid_template_columns": null,
            "grid_template_rows": null,
            "height": null,
            "justify_content": null,
            "justify_items": null,
            "left": null,
            "margin": null,
            "max_height": null,
            "max_width": null,
            "min_height": null,
            "min_width": null,
            "object_fit": null,
            "object_position": null,
            "order": null,
            "overflow": null,
            "overflow_x": null,
            "overflow_y": null,
            "padding": null,
            "right": null,
            "top": null,
            "visibility": null,
            "width": null
          }
        },
        "299bdc1d19b94d4489de7c46b399fd86": {
          "model_module": "@jupyter-widgets/controls",
          "model_name": "ProgressStyleModel",
          "model_module_version": "1.5.0",
          "state": {
            "_model_module": "@jupyter-widgets/controls",
            "_model_module_version": "1.5.0",
            "_model_name": "ProgressStyleModel",
            "_view_count": null,
            "_view_module": "@jupyter-widgets/base",
            "_view_module_version": "1.2.0",
            "_view_name": "StyleView",
            "bar_color": null,
            "description_width": ""
          }
        },
        "3e04741ca61c475c87e53b1c6ea32952": {
          "model_module": "@jupyter-widgets/base",
          "model_name": "LayoutModel",
          "model_module_version": "1.2.0",
          "state": {
            "_model_module": "@jupyter-widgets/base",
            "_model_module_version": "1.2.0",
            "_model_name": "LayoutModel",
            "_view_count": null,
            "_view_module": "@jupyter-widgets/base",
            "_view_module_version": "1.2.0",
            "_view_name": "LayoutView",
            "align_content": null,
            "align_items": null,
            "align_self": null,
            "border": null,
            "bottom": null,
            "display": null,
            "flex": null,
            "flex_flow": null,
            "grid_area": null,
            "grid_auto_columns": null,
            "grid_auto_flow": null,
            "grid_auto_rows": null,
            "grid_column": null,
            "grid_gap": null,
            "grid_row": null,
            "grid_template_areas": null,
            "grid_template_columns": null,
            "grid_template_rows": null,
            "height": null,
            "justify_content": null,
            "justify_items": null,
            "left": null,
            "margin": null,
            "max_height": null,
            "max_width": null,
            "min_height": null,
            "min_width": null,
            "object_fit": null,
            "object_position": null,
            "order": null,
            "overflow": null,
            "overflow_x": null,
            "overflow_y": null,
            "padding": null,
            "right": null,
            "top": null,
            "visibility": null,
            "width": null
          }
        },
        "cf06725f271746f1b3ceb1088875f143": {
          "model_module": "@jupyter-widgets/controls",
          "model_name": "DescriptionStyleModel",
          "model_module_version": "1.5.0",
          "state": {
            "_model_module": "@jupyter-widgets/controls",
            "_model_module_version": "1.5.0",
            "_model_name": "DescriptionStyleModel",
            "_view_count": null,
            "_view_module": "@jupyter-widgets/base",
            "_view_module_version": "1.2.0",
            "_view_name": "StyleView",
            "description_width": ""
          }
        }
      }
    }
  },
  "nbformat": 4,
  "nbformat_minor": 0
}