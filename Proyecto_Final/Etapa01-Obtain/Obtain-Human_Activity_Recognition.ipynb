{
  "nbformat": 4,
  "nbformat_minor": 0,
  "metadata": {
    "colab": {
      "provenance": [],
      "authorship_tag": "ABX9TyP2llo0rEwLBkzmD6Nw8jWZ",
      "include_colab_link": true
    },
    "kernelspec": {
      "name": "python3",
      "display_name": "Python 3"
    },
    "language_info": {
      "name": "python"
    }
  },
  "cells": [
    {
      "cell_type": "markdown",
      "metadata": {
        "id": "view-in-github",
        "colab_type": "text"
      },
      "source": [
        "<a href=\"https://colab.research.google.com/github/VictorSepulveda1994/Minor-Machine-Learning/blob/main/Proyecto_Final/Etapa01-Obtain/Obtain-Human_Activity_Recognition.ipynb\" target=\"_parent\"><img src=\"https://colab.research.google.com/assets/colab-badge.svg\" alt=\"Open In Colab\"/></a>"
      ]
    },
    {
      "cell_type": "markdown",
      "source": [
        "# Primera Etapa: Obtención de los datos\n"
      ],
      "metadata": {
        "id": "h5vr523QfMs8"
      }
    },
    {
      "cell_type": "markdown",
      "source": [
        "\n",
        "## Breve Descripción\n",
        "En esta etapa del proyecto será necesario obtener los datos de las fuentes disponibles. En este caso se utilizará un conjunto de datos públicos de reconocimiento de actividad humana, disponible en los links entregados en el enunciado del proyecto.\n",
        "\n",
        "\n"
      ],
      "metadata": {
        "id": "v3NpAATVf6UE"
      }
    },
    {
      "cell_type": "markdown",
      "source": [
        "## Procedimiento\n",
        " \n",
        " A continuación, se detallan los pasos realizados en ésta etapa."
      ],
      "metadata": {
        "id": "nX0VKfbEhvyO"
      }
    },
    {
      "cell_type": "markdown",
      "source": [
        "### Comprobación de los links\n",
        "\n",
        "*   El primer link en el enunciado de [cis.fordham.edu](https://www.cis.fordham.edu/wisdm/dataset.php) funciona correctamente.\n",
        "\n",
        "\n",
        "*   El segundo link [archive.ics.uci.edu](https://archive.ics.uci.edu/ml/datasets/WISDM+Smartphone+and+Smartwatch+Activity+and+Biometrics+Dataset) no funciona correctamente y aparece un mensaje mencionando que los datos no aparecen o no existen.\n",
        "\n",
        "Por lo tanto, se utilizará la fuente del primer link."
      ],
      "metadata": {
        "id": "ZzShdOIsoylS"
      }
    },
    {
      "cell_type": "markdown",
      "source": [
        "### Descarga de los datos\n",
        "Dado que los archivos están comprimidos en formato \"tar.gz\", y la plataforma de github solo soporta archivo de hasta 25Mb, se pueden emplear dos métodos para utilizarlos en Colab.\n",
        "\n",
        "1. Método Automático\n",
        "\n",
        "\n",
        "2. Método Manual\n",
        " * Ir a [cis.fordham.edu](https://www.cis.fordham.edu/wisdm/dataset.php)\n",
        " * En la sección \"Activity Prediction\", hacer click en el botón \"Download Latest Version\" para descargar el archivo comprimido al computador.\n",
        " * Descomprimir el archivo.tar.gz\n",
        " * Subir el archivo \"WISDM_ar_v1.1_raw.txt\" al almacenamiento de sesión de Colab.\n",
        " * Esperar a que se suba el \".txt\", ya que, éste contiene una gran cantidad de datos (49Mb aproximadamente)."
      ],
      "metadata": {
        "id": "bErDFt7jpxs6"
      }
    }
  ]
}