{
  "nbformat": 4,
  "nbformat_minor": 0,
  "metadata": {
    "colab": {
      "provenance": [],
      "authorship_tag": "ABX9TyO9b7EEk7fR+TCiaTbkfEjs",
      "include_colab_link": true
    },
    "kernelspec": {
      "name": "python3",
      "display_name": "Python 3"
    },
    "language_info": {
      "name": "python"
    }
  },
  "cells": [
    {
      "cell_type": "markdown",
      "metadata": {
        "id": "view-in-github",
        "colab_type": "text"
      },
      "source": [
        "<a href=\"https://colab.research.google.com/github/VictorSepulveda1994/Minor-Machine-Learning/blob/main/Proyecto_Final/Etapa03-Explore/Explore-Human_Activity_Recognition.ipynb\" target=\"_parent\"><img src=\"https://colab.research.google.com/assets/colab-badge.svg\" alt=\"Open In Colab\"/></a>"
      ]
    },
    {
      "cell_type": "markdown",
      "source": [
        "# Proyecto Final - Reconocimiento de Actividad Humana (HAR)"
      ],
      "metadata": {
        "id": "T2w7fPI1ja9I"
      }
    },
    {
      "cell_type": "code",
      "source": [
        "# Librerías más utilizadas\n",
        "import tensorflow as tf\n",
        "import pandas as pd\n",
        "import numpy as np\n",
        "import matplotlib.pyplot as plt\n",
        "from sklearn.preprocessing import StandardScaler, LabelEncoder"
      ],
      "metadata": {
        "id": "h0KqDyXQmlFl"
      },
      "execution_count": null,
      "outputs": []
    },
    {
      "cell_type": "markdown",
      "source": [
        "## **Entrega 01: OBTAIN**"
      ],
      "metadata": {
        "id": "h5vr523QfMs8"
      }
    },
    {
      "cell_type": "markdown",
      "source": [
        "En esta etapa del proyecto será necesario obtener los datos de las fuentes disponibles. En este caso se utilizará un conjunto de datos públicos de reconocimiento de actividad humana, disponible en los links entregados en el enunciado del proyecto."
      ],
      "metadata": {
        "id": "pbFFbD1KCWtq"
      }
    },
    {
      "cell_type": "markdown",
      "source": [
        "### Procedimiento\n",
        " \n",
        " A continuación, se detallan los pasos realizados en ésta etapa."
      ],
      "metadata": {
        "id": "nX0VKfbEhvyO"
      }
    },
    {
      "cell_type": "markdown",
      "source": [
        "#### 1. Comprobación de los links\n",
        "\n"
      ],
      "metadata": {
        "id": "ZzShdOIsoylS"
      }
    },
    {
      "cell_type": "markdown",
      "source": [
        "*   El primer link en el enunciado de [cis.fordham.edu](https://www.cis.fordham.edu/wisdm/dataset.php) funciona correctamente.\n",
        "\n",
        "\n",
        "*   El segundo link [archive.ics.uci.edu](https://archive.ics.uci.edu/ml/datasets/WISDM+Smartphone+and+Smartwatch+Activity+and+Biometrics+Dataset) no funciona correctamente y aparece un mensaje mencionando que los datos no aparecen o no existen.\n",
        "\n",
        "Por lo tanto, se utilizará la fuente del primer link."
      ],
      "metadata": {
        "id": "skpVXs4Q_cuW"
      }
    },
    {
      "cell_type": "markdown",
      "source": [
        "#### 2. Descarga de los datos\n",
        "\n"
      ],
      "metadata": {
        "id": "bErDFt7jpxs6"
      }
    },
    {
      "cell_type": "markdown",
      "source": [
        "Dado que los archivos están comprimidos en formato \"tar.gz\", y la plataforma de github solo soporta archivo de hasta 25Mb, para este caso se emplearán dos métodos para utilizarlos en Colab:"
      ],
      "metadata": {
        "id": "D8JTqrWD8UAO"
      }
    },
    {
      "cell_type": "markdown",
      "source": [
        "##### 2.1. Método Automático (*Recomendado*)"
      ],
      "metadata": {
        "id": "GTtOGJKD72pc"
      }
    },
    {
      "cell_type": "code",
      "source": [
        "#Se instala el módulo \"wget\" con el siguiente comando\n",
        "!pip install wget"
      ],
      "metadata": {
        "colab": {
          "base_uri": "https://localhost:8080/"
        },
        "id": "ulyXY6Tn72OM",
        "outputId": "8f927d4d-83a9-4051-c10e-c4be12b3f600"
      },
      "execution_count": null,
      "outputs": [
        {
          "output_type": "stream",
          "name": "stdout",
          "text": [
            "Looking in indexes: https://pypi.org/simple, https://us-python.pkg.dev/colab-wheels/public/simple/\n",
            "Requirement already satisfied: wget in /usr/local/lib/python3.7/dist-packages (3.2)\n"
          ]
        }
      ]
    },
    {
      "cell_type": "code",
      "source": [
        "#Se importa el módulo \"wget\"\n",
        "import wget"
      ],
      "metadata": {
        "id": "XeaEcWVC9O-b"
      },
      "execution_count": null,
      "outputs": []
    },
    {
      "cell_type": "code",
      "source": [
        "#Se asigna el link del botón de descarga de la página cis.fordham.edu\n",
        "url = \"https://www.cis.fordham.edu/wisdm/includes/datasets/latest/WISDM_ar_latest.tar.gz\""
      ],
      "metadata": {
        "id": "MwuQozXS9ENC"
      },
      "execution_count": null,
      "outputs": []
    },
    {
      "cell_type": "code",
      "source": [
        "#Se descarga el \"archivo.tar.gz\" con todo su contenido\n",
        "wget.download(url, '/content/WISDM_ar_v1.1_raw.tar.gz')"
      ],
      "metadata": {
        "id": "V-yAZN9FD2mX",
        "colab": {
          "base_uri": "https://localhost:8080/"
        },
        "outputId": "9430c70e-361f-48e8-fcb6-f3ea68ccad6b"
      },
      "execution_count": null,
      "outputs": [
        {
          "output_type": "execute_result",
          "data": {
            "text/plain": [
              "'/content/WISDM_ar_v1.1_raw.tar (1).gz'"
            ],
            "application/vnd.google.colaboratory.intrinsic+json": {
              "type": "string"
            }
          },
          "metadata": {},
          "execution_count": 13
        }
      ]
    },
    {
      "cell_type": "code",
      "source": [
        "#Se descomprime el archivo \"WISDM_ar_v1.1_raw.tar.gz\"\n",
        "import tarfile \n",
        "file = tarfile.open('WISDM_ar_v1.1_raw.tar.gz') \n",
        "print(file.getnames()) \n",
        "file.extractall('./')\n",
        "file.close() "
      ],
      "metadata": {
        "id": "NWJlN_ZRAMvh",
        "outputId": "dd90360a-07f4-43e9-8cb0-337e374a0a2b",
        "colab": {
          "base_uri": "https://localhost:8080/"
        }
      },
      "execution_count": null,
      "outputs": [
        {
          "output_type": "stream",
          "name": "stdout",
          "text": [
            "['WISDM_ar_v1.1', 'WISDM_ar_v1.1/readme.txt', 'WISDM_ar_v1.1/WISDM_ar_v1.1_raw.txt', 'WISDM_ar_v1.1/WISDM_ar_v1.1_raw_about.txt', 'WISDM_ar_v1.1/WISDM_ar_v1.1_transformed.arff', 'WISDM_ar_v1.1/WISDM_ar_v1.1_trans_about.txt']\n"
          ]
        }
      ]
    },
    {
      "cell_type": "markdown",
      "source": [
        "\n",
        "\n",
        "> **NOTA:** El archivo de texto que se utilizará \"WISDM_ar_v1.1_raw.txt\", estará dentro de la carpeta \"WISDM_ar_v1.1\"."
      ],
      "metadata": {
        "id": "jTzRnSeQFDEe"
      }
    },
    {
      "cell_type": "markdown",
      "source": [
        "##### 2.2. Método Manual (*Omitir si usó el Método Automático*)"
      ],
      "metadata": {
        "id": "zZfNiAMr7l76"
      }
    },
    {
      "cell_type": "markdown",
      "source": [
        "* Ir a [cis.fordham.edu](https://www.cis.fordham.edu/wisdm/dataset.php)\n"
      ],
      "metadata": {
        "id": "do51zfpZ-LA-"
      }
    },
    {
      "cell_type": "markdown",
      "source": [
        "* En la sección \"Activity Prediction\", hacer click en el botón \"Download Latest Version\" para descargar el archivo comprimido al computador."
      ],
      "metadata": {
        "id": "Mh0jYiILghyX"
      }
    },
    {
      "cell_type": "markdown",
      "source": [
        "* Descomprimir el archivo.tar.gz"
      ],
      "metadata": {
        "id": "cc-P6uTggmZO"
      }
    },
    {
      "cell_type": "markdown",
      "source": [
        "* Subir el archivo \"WISDM_ar_v1.1_raw.txt\" al almacenamiento de sesión de Colab con el siguiente código."
      ],
      "metadata": {
        "id": "yDDiMiPmgrAe"
      }
    },
    {
      "cell_type": "code",
      "source": [
        "#from google.colab import files #Descomentar si es necesario.\n",
        "#files.upload()                 #Descomentar si es necesario."
      ],
      "metadata": {
        "id": "n4u8eiU57d5P"
      },
      "execution_count": null,
      "outputs": []
    },
    {
      "cell_type": "markdown",
      "source": [
        "* Esperar a que se suba el \".txt\", ya que, éste contiene una gran cantidad de datos (49Mb aproximadamente)."
      ],
      "metadata": {
        "id": "se6JEcG-7UKh"
      }
    },
    {
      "cell_type": "markdown",
      "source": [
        "#### 3. Vista de los datos"
      ],
      "metadata": {
        "id": "593AVJKPxZBA"
      }
    },
    {
      "cell_type": "markdown",
      "source": [
        "Ahora que los datos ya están descargados y subidos a Colab, es posible utilizarlos. Para ello, se realizará una vista general de los datos antes de continuar con la siguiente etapa."
      ],
      "metadata": {
        "id": "9G4U4WYw-JPZ"
      }
    },
    {
      "cell_type": "code",
      "source": [
        "# Cargar el archivo de texto. La ruta dependerá de como el archivo se descargó (método automático o manual).\n",
        "df = pd.read_table(\"./WISDM_ar_v1.1/WISDM_ar_v1.1_raw.txt\", header=None)"
      ],
      "metadata": {
        "id": "KpdYFCb7Pqbl"
      },
      "execution_count": null,
      "outputs": []
    },
    {
      "cell_type": "code",
      "source": [
        "# Dataframe con los datos\n",
        "df.head()"
      ],
      "metadata": {
        "colab": {
          "base_uri": "https://localhost:8080/"
        },
        "id": "ObBILefQp2sX",
        "outputId": "a7b540d7-2d26-4710-e1ec-725220c2a694"
      },
      "execution_count": null,
      "outputs": [
        {
          "output_type": "execute_result",
          "data": {
            "text/plain": [
              "                                                   0\n",
              "0  33,Jogging,49105962326000,-0.6946377,12.680544...\n",
              "1  33,Jogging,49106062271000,5.012288,11.264028,0...\n",
              "2  33,Jogging,49106112167000,4.903325,10.882658,-...\n",
              "3  33,Jogging,49106222305000,-0.61291564,18.49643...\n",
              "4  33,Jogging,49106332290000,-1.1849703,12.108489..."
            ],
            "text/html": [
              "\n",
              "  <div id=\"df-12beefe1-e31a-4f49-8640-0e8289ad2de8\">\n",
              "    <div class=\"colab-df-container\">\n",
              "      <div>\n",
              "<style scoped>\n",
              "    .dataframe tbody tr th:only-of-type {\n",
              "        vertical-align: middle;\n",
              "    }\n",
              "\n",
              "    .dataframe tbody tr th {\n",
              "        vertical-align: top;\n",
              "    }\n",
              "\n",
              "    .dataframe thead th {\n",
              "        text-align: right;\n",
              "    }\n",
              "</style>\n",
              "<table border=\"1\" class=\"dataframe\">\n",
              "  <thead>\n",
              "    <tr style=\"text-align: right;\">\n",
              "      <th></th>\n",
              "      <th>0</th>\n",
              "    </tr>\n",
              "  </thead>\n",
              "  <tbody>\n",
              "    <tr>\n",
              "      <th>0</th>\n",
              "      <td>33,Jogging,49105962326000,-0.6946377,12.680544...</td>\n",
              "    </tr>\n",
              "    <tr>\n",
              "      <th>1</th>\n",
              "      <td>33,Jogging,49106062271000,5.012288,11.264028,0...</td>\n",
              "    </tr>\n",
              "    <tr>\n",
              "      <th>2</th>\n",
              "      <td>33,Jogging,49106112167000,4.903325,10.882658,-...</td>\n",
              "    </tr>\n",
              "    <tr>\n",
              "      <th>3</th>\n",
              "      <td>33,Jogging,49106222305000,-0.61291564,18.49643...</td>\n",
              "    </tr>\n",
              "    <tr>\n",
              "      <th>4</th>\n",
              "      <td>33,Jogging,49106332290000,-1.1849703,12.108489...</td>\n",
              "    </tr>\n",
              "  </tbody>\n",
              "</table>\n",
              "</div>\n",
              "      <button class=\"colab-df-convert\" onclick=\"convertToInteractive('df-12beefe1-e31a-4f49-8640-0e8289ad2de8')\"\n",
              "              title=\"Convert this dataframe to an interactive table.\"\n",
              "              style=\"display:none;\">\n",
              "        \n",
              "  <svg xmlns=\"http://www.w3.org/2000/svg\" height=\"24px\"viewBox=\"0 0 24 24\"\n",
              "       width=\"24px\">\n",
              "    <path d=\"M0 0h24v24H0V0z\" fill=\"none\"/>\n",
              "    <path d=\"M18.56 5.44l.94 2.06.94-2.06 2.06-.94-2.06-.94-.94-2.06-.94 2.06-2.06.94zm-11 1L8.5 8.5l.94-2.06 2.06-.94-2.06-.94L8.5 2.5l-.94 2.06-2.06.94zm10 10l.94 2.06.94-2.06 2.06-.94-2.06-.94-.94-2.06-.94 2.06-2.06.94z\"/><path d=\"M17.41 7.96l-1.37-1.37c-.4-.4-.92-.59-1.43-.59-.52 0-1.04.2-1.43.59L10.3 9.45l-7.72 7.72c-.78.78-.78 2.05 0 2.83L4 21.41c.39.39.9.59 1.41.59.51 0 1.02-.2 1.41-.59l7.78-7.78 2.81-2.81c.8-.78.8-2.07 0-2.86zM5.41 20L4 18.59l7.72-7.72 1.47 1.35L5.41 20z\"/>\n",
              "  </svg>\n",
              "      </button>\n",
              "      \n",
              "  <style>\n",
              "    .colab-df-container {\n",
              "      display:flex;\n",
              "      flex-wrap:wrap;\n",
              "      gap: 12px;\n",
              "    }\n",
              "\n",
              "    .colab-df-convert {\n",
              "      background-color: #E8F0FE;\n",
              "      border: none;\n",
              "      border-radius: 50%;\n",
              "      cursor: pointer;\n",
              "      display: none;\n",
              "      fill: #1967D2;\n",
              "      height: 32px;\n",
              "      padding: 0 0 0 0;\n",
              "      width: 32px;\n",
              "    }\n",
              "\n",
              "    .colab-df-convert:hover {\n",
              "      background-color: #E2EBFA;\n",
              "      box-shadow: 0px 1px 2px rgba(60, 64, 67, 0.3), 0px 1px 3px 1px rgba(60, 64, 67, 0.15);\n",
              "      fill: #174EA6;\n",
              "    }\n",
              "\n",
              "    [theme=dark] .colab-df-convert {\n",
              "      background-color: #3B4455;\n",
              "      fill: #D2E3FC;\n",
              "    }\n",
              "\n",
              "    [theme=dark] .colab-df-convert:hover {\n",
              "      background-color: #434B5C;\n",
              "      box-shadow: 0px 1px 3px 1px rgba(0, 0, 0, 0.15);\n",
              "      filter: drop-shadow(0px 1px 2px rgba(0, 0, 0, 0.3));\n",
              "      fill: #FFFFFF;\n",
              "    }\n",
              "  </style>\n",
              "\n",
              "      <script>\n",
              "        const buttonEl =\n",
              "          document.querySelector('#df-12beefe1-e31a-4f49-8640-0e8289ad2de8 button.colab-df-convert');\n",
              "        buttonEl.style.display =\n",
              "          google.colab.kernel.accessAllowed ? 'block' : 'none';\n",
              "\n",
              "        async function convertToInteractive(key) {\n",
              "          const element = document.querySelector('#df-12beefe1-e31a-4f49-8640-0e8289ad2de8');\n",
              "          const dataTable =\n",
              "            await google.colab.kernel.invokeFunction('convertToInteractive',\n",
              "                                                     [key], {});\n",
              "          if (!dataTable) return;\n",
              "\n",
              "          const docLinkHtml = 'Like what you see? Visit the ' +\n",
              "            '<a target=\"_blank\" href=https://colab.research.google.com/notebooks/data_table.ipynb>data table notebook</a>'\n",
              "            + ' to learn more about interactive tables.';\n",
              "          element.innerHTML = '';\n",
              "          dataTable['output_type'] = 'display_data';\n",
              "          await google.colab.output.renderOutput(dataTable, element);\n",
              "          const docLink = document.createElement('div');\n",
              "          docLink.innerHTML = docLinkHtml;\n",
              "          element.appendChild(docLink);\n",
              "        }\n",
              "      </script>\n",
              "    </div>\n",
              "  </div>\n",
              "  "
            ]
          },
          "metadata": {},
          "execution_count": 17
        }
      ]
    },
    {
      "cell_type": "markdown",
      "source": [
        "## **Entrega 02: SCRUB**"
      ],
      "metadata": {
        "id": "HQvBf_GRZjFb"
      }
    },
    {
      "cell_type": "markdown",
      "source": [
        "En esta etapa del proyecto será necesario limpiar y filtrar los datos."
      ],
      "metadata": {
        "id": "TjotYtPeCqmI"
      }
    },
    {
      "cell_type": "markdown",
      "source": [
        "### Procedimiento\n",
        " A continuación, se detallan los pasos realizados en ésta etapa."
      ],
      "metadata": {
        "id": "6ip5-676dZTx"
      }
    },
    {
      "cell_type": "markdown",
      "source": [
        "#### 1. Eliminar filas con datos faltantes"
      ],
      "metadata": {
        "id": "M4Y8w9x0qwEt"
      }
    },
    {
      "cell_type": "markdown",
      "source": [
        "Uno de los pasos iniciales en la limpieza de datos consiste en eliminar aquellas filas que contengan datos faltantes. Estas líneas generalmente no aportan información y pueden complicar la etapa de entrenamiento y validación de muchos modelos predictivos."
      ],
      "metadata": {
        "id": "VKIDBlCW6lSY"
      }
    },
    {
      "cell_type": "code",
      "source": [
        "#Se vuelve a procesar el archivo \"WISDM_ar_v1.1_raw.txt\"\n",
        "file = open(\"./WISDM_ar_v1.1/WISDM_ar_v1.1_raw.txt\")\n",
        "lines = file.readlines()\n",
        "\n",
        "processedList = []\n",
        "\n",
        "# Se recorre el archivo, eliminando filas con datos faltantes y separando las \"columnas\"\n",
        "for i, line in enumerate(lines):\n",
        "    try:\n",
        "        line = line.split(',')\n",
        "        last = line[5].split(';')[0]\n",
        "        last = last.strip()\n",
        "        if last == '':\n",
        "            break;\n",
        "        temp = [line[0], line[1], line[2], line[3], line[4], last]\n",
        "        processedList.append(temp)\n",
        "    except:\n",
        "        print('Error at line number: ', i)"
      ],
      "metadata": {
        "colab": {
          "base_uri": "https://localhost:8080/"
        },
        "id": "3pSyxk9yrL0U",
        "outputId": "d61cd6ee-a4e8-475c-9a1d-6798a982e873"
      },
      "execution_count": null,
      "outputs": [
        {
          "output_type": "stream",
          "name": "stdout",
          "text": [
            "Error at line number:  281873\n",
            "Error at line number:  281874\n",
            "Error at line number:  281875\n"
          ]
        }
      ]
    },
    {
      "cell_type": "markdown",
      "source": [
        "#### 2. Agregar al DataFrame los nombres de las columnas"
      ],
      "metadata": {
        "id": "pFhkZa_R1Gti"
      }
    },
    {
      "cell_type": "markdown",
      "source": [
        "En ocasiones al crear los data frames el sistema asigna nombres genéricos y correlativos a las columnas. Es recomendable renombrar las columnas por nombres significativos para favorecer el análisis posterior de los datos."
      ],
      "metadata": {
        "id": "tR-Rj04T6fQa"
      }
    },
    {
      "cell_type": "code",
      "source": [
        "# Se crea un array con los nombres de las columnas\n",
        "columns = ['user', 'activity', 'time', 'x', 'y', 'z']\n",
        "# Los nombres de las columnas y la lista procesada son insertadas en un nuevo dataframe\n",
        "data = pd.DataFrame(data = processedList, columns = columns)"
      ],
      "metadata": {
        "id": "PEehpOM81eJK"
      },
      "execution_count": null,
      "outputs": []
    },
    {
      "cell_type": "markdown",
      "source": [
        "#### 3. Visualizar las 5 primeras filas del DataFrame (.head())"
      ],
      "metadata": {
        "id": "HW1k34163Xpy"
      }
    },
    {
      "cell_type": "markdown",
      "source": [
        "Siempre es buena medida visualizar algunas líneas del dataframe para tener una idea concreta del contenido."
      ],
      "metadata": {
        "id": "WcRishlb6VxT"
      }
    },
    {
      "cell_type": "code",
      "source": [
        "data.head(5)"
      ],
      "metadata": {
        "colab": {
          "base_uri": "https://localhost:8080/"
        },
        "id": "7woZc7JS3Dk2",
        "outputId": "4cf7243a-84a5-499a-f8aa-47f3ef35d9a1"
      },
      "execution_count": null,
      "outputs": [
        {
          "output_type": "execute_result",
          "data": {
            "text/plain": [
              "  user activity            time            x          y            z\n",
              "0   33  Jogging  49105962326000   -0.6946377  12.680544   0.50395286\n",
              "1   33  Jogging  49106062271000     5.012288  11.264028   0.95342433\n",
              "2   33  Jogging  49106112167000     4.903325  10.882658  -0.08172209\n",
              "3   33  Jogging  49106222305000  -0.61291564  18.496431    3.0237172\n",
              "4   33  Jogging  49106332290000   -1.1849703  12.108489     7.205164"
            ],
            "text/html": [
              "\n",
              "  <div id=\"df-683ca0a3-520b-4ba4-abf2-4b2bc3512b69\">\n",
              "    <div class=\"colab-df-container\">\n",
              "      <div>\n",
              "<style scoped>\n",
              "    .dataframe tbody tr th:only-of-type {\n",
              "        vertical-align: middle;\n",
              "    }\n",
              "\n",
              "    .dataframe tbody tr th {\n",
              "        vertical-align: top;\n",
              "    }\n",
              "\n",
              "    .dataframe thead th {\n",
              "        text-align: right;\n",
              "    }\n",
              "</style>\n",
              "<table border=\"1\" class=\"dataframe\">\n",
              "  <thead>\n",
              "    <tr style=\"text-align: right;\">\n",
              "      <th></th>\n",
              "      <th>user</th>\n",
              "      <th>activity</th>\n",
              "      <th>time</th>\n",
              "      <th>x</th>\n",
              "      <th>y</th>\n",
              "      <th>z</th>\n",
              "    </tr>\n",
              "  </thead>\n",
              "  <tbody>\n",
              "    <tr>\n",
              "      <th>0</th>\n",
              "      <td>33</td>\n",
              "      <td>Jogging</td>\n",
              "      <td>49105962326000</td>\n",
              "      <td>-0.6946377</td>\n",
              "      <td>12.680544</td>\n",
              "      <td>0.50395286</td>\n",
              "    </tr>\n",
              "    <tr>\n",
              "      <th>1</th>\n",
              "      <td>33</td>\n",
              "      <td>Jogging</td>\n",
              "      <td>49106062271000</td>\n",
              "      <td>5.012288</td>\n",
              "      <td>11.264028</td>\n",
              "      <td>0.95342433</td>\n",
              "    </tr>\n",
              "    <tr>\n",
              "      <th>2</th>\n",
              "      <td>33</td>\n",
              "      <td>Jogging</td>\n",
              "      <td>49106112167000</td>\n",
              "      <td>4.903325</td>\n",
              "      <td>10.882658</td>\n",
              "      <td>-0.08172209</td>\n",
              "    </tr>\n",
              "    <tr>\n",
              "      <th>3</th>\n",
              "      <td>33</td>\n",
              "      <td>Jogging</td>\n",
              "      <td>49106222305000</td>\n",
              "      <td>-0.61291564</td>\n",
              "      <td>18.496431</td>\n",
              "      <td>3.0237172</td>\n",
              "    </tr>\n",
              "    <tr>\n",
              "      <th>4</th>\n",
              "      <td>33</td>\n",
              "      <td>Jogging</td>\n",
              "      <td>49106332290000</td>\n",
              "      <td>-1.1849703</td>\n",
              "      <td>12.108489</td>\n",
              "      <td>7.205164</td>\n",
              "    </tr>\n",
              "  </tbody>\n",
              "</table>\n",
              "</div>\n",
              "      <button class=\"colab-df-convert\" onclick=\"convertToInteractive('df-683ca0a3-520b-4ba4-abf2-4b2bc3512b69')\"\n",
              "              title=\"Convert this dataframe to an interactive table.\"\n",
              "              style=\"display:none;\">\n",
              "        \n",
              "  <svg xmlns=\"http://www.w3.org/2000/svg\" height=\"24px\"viewBox=\"0 0 24 24\"\n",
              "       width=\"24px\">\n",
              "    <path d=\"M0 0h24v24H0V0z\" fill=\"none\"/>\n",
              "    <path d=\"M18.56 5.44l.94 2.06.94-2.06 2.06-.94-2.06-.94-.94-2.06-.94 2.06-2.06.94zm-11 1L8.5 8.5l.94-2.06 2.06-.94-2.06-.94L8.5 2.5l-.94 2.06-2.06.94zm10 10l.94 2.06.94-2.06 2.06-.94-2.06-.94-.94-2.06-.94 2.06-2.06.94z\"/><path d=\"M17.41 7.96l-1.37-1.37c-.4-.4-.92-.59-1.43-.59-.52 0-1.04.2-1.43.59L10.3 9.45l-7.72 7.72c-.78.78-.78 2.05 0 2.83L4 21.41c.39.39.9.59 1.41.59.51 0 1.02-.2 1.41-.59l7.78-7.78 2.81-2.81c.8-.78.8-2.07 0-2.86zM5.41 20L4 18.59l7.72-7.72 1.47 1.35L5.41 20z\"/>\n",
              "  </svg>\n",
              "      </button>\n",
              "      \n",
              "  <style>\n",
              "    .colab-df-container {\n",
              "      display:flex;\n",
              "      flex-wrap:wrap;\n",
              "      gap: 12px;\n",
              "    }\n",
              "\n",
              "    .colab-df-convert {\n",
              "      background-color: #E8F0FE;\n",
              "      border: none;\n",
              "      border-radius: 50%;\n",
              "      cursor: pointer;\n",
              "      display: none;\n",
              "      fill: #1967D2;\n",
              "      height: 32px;\n",
              "      padding: 0 0 0 0;\n",
              "      width: 32px;\n",
              "    }\n",
              "\n",
              "    .colab-df-convert:hover {\n",
              "      background-color: #E2EBFA;\n",
              "      box-shadow: 0px 1px 2px rgba(60, 64, 67, 0.3), 0px 1px 3px 1px rgba(60, 64, 67, 0.15);\n",
              "      fill: #174EA6;\n",
              "    }\n",
              "\n",
              "    [theme=dark] .colab-df-convert {\n",
              "      background-color: #3B4455;\n",
              "      fill: #D2E3FC;\n",
              "    }\n",
              "\n",
              "    [theme=dark] .colab-df-convert:hover {\n",
              "      background-color: #434B5C;\n",
              "      box-shadow: 0px 1px 3px 1px rgba(0, 0, 0, 0.15);\n",
              "      filter: drop-shadow(0px 1px 2px rgba(0, 0, 0, 0.3));\n",
              "      fill: #FFFFFF;\n",
              "    }\n",
              "  </style>\n",
              "\n",
              "      <script>\n",
              "        const buttonEl =\n",
              "          document.querySelector('#df-683ca0a3-520b-4ba4-abf2-4b2bc3512b69 button.colab-df-convert');\n",
              "        buttonEl.style.display =\n",
              "          google.colab.kernel.accessAllowed ? 'block' : 'none';\n",
              "\n",
              "        async function convertToInteractive(key) {\n",
              "          const element = document.querySelector('#df-683ca0a3-520b-4ba4-abf2-4b2bc3512b69');\n",
              "          const dataTable =\n",
              "            await google.colab.kernel.invokeFunction('convertToInteractive',\n",
              "                                                     [key], {});\n",
              "          if (!dataTable) return;\n",
              "\n",
              "          const docLinkHtml = 'Like what you see? Visit the ' +\n",
              "            '<a target=\"_blank\" href=https://colab.research.google.com/notebooks/data_table.ipynb>data table notebook</a>'\n",
              "            + ' to learn more about interactive tables.';\n",
              "          element.innerHTML = '';\n",
              "          dataTable['output_type'] = 'display_data';\n",
              "          await google.colab.output.renderOutput(dataTable, element);\n",
              "          const docLink = document.createElement('div');\n",
              "          docLink.innerHTML = docLinkHtml;\n",
              "          element.appendChild(docLink);\n",
              "        }\n",
              "      </script>\n",
              "    </div>\n",
              "  </div>\n",
              "  "
            ]
          },
          "metadata": {},
          "execution_count": 20
        }
      ]
    },
    {
      "cell_type": "markdown",
      "source": [
        "#### 4. Buscar datos nulos y eliminarlos si es que existen"
      ],
      "metadata": {
        "id": "5SikmYM44Nob"
      }
    },
    {
      "cell_type": "code",
      "source": [
        "data.isnull().sum()"
      ],
      "metadata": {
        "colab": {
          "base_uri": "https://localhost:8080/"
        },
        "id": "EqvTLD0e5vaa",
        "outputId": "4b55c74d-5bfd-400f-830f-3475ebd1e44f"
      },
      "execution_count": null,
      "outputs": [
        {
          "output_type": "execute_result",
          "data": {
            "text/plain": [
              "user        0\n",
              "activity    0\n",
              "time        0\n",
              "x           0\n",
              "y           0\n",
              "z           0\n",
              "dtype: int64"
            ]
          },
          "metadata": {},
          "execution_count": 21
        }
      ]
    },
    {
      "cell_type": "markdown",
      "source": [
        "> **NOTA:** No hay datos nulos.\n",
        "\n"
      ],
      "metadata": {
        "id": "RS8gEU8CAdix"
      }
    },
    {
      "cell_type": "markdown",
      "source": [
        "#### 5. Visualizar los tipo de datos a los que pertenece cada columna (.info())"
      ],
      "metadata": {
        "id": "eWfnHc6L56hf"
      }
    },
    {
      "cell_type": "markdown",
      "source": [
        "Es necesario tener un detalle de cuantas variables están considerando y el tipo de datos que pertenecen para verificar si es posible utilizarla directamente para el modelo predictivo o si es necesario realizar una transformación del tipo de dato."
      ],
      "metadata": {
        "id": "HSHZumIa6LQF"
      }
    },
    {
      "cell_type": "code",
      "source": [
        "data.info()"
      ],
      "metadata": {
        "colab": {
          "base_uri": "https://localhost:8080/"
        },
        "id": "b9EVDZ4c6qdl",
        "outputId": "5b36e906-9d26-4dba-e60e-f9879391d7b5"
      },
      "execution_count": null,
      "outputs": [
        {
          "output_type": "stream",
          "name": "stdout",
          "text": [
            "<class 'pandas.core.frame.DataFrame'>\n",
            "RangeIndex: 343416 entries, 0 to 343415\n",
            "Data columns (total 6 columns):\n",
            " #   Column    Non-Null Count   Dtype \n",
            "---  ------    --------------   ----- \n",
            " 0   user      343416 non-null  object\n",
            " 1   activity  343416 non-null  object\n",
            " 2   time      343416 non-null  object\n",
            " 3   x         343416 non-null  object\n",
            " 4   y         343416 non-null  object\n",
            " 5   z         343416 non-null  object\n",
            "dtypes: object(6)\n",
            "memory usage: 15.7+ MB\n"
          ]
        }
      ]
    },
    {
      "cell_type": "markdown",
      "source": [
        "#### 6. Cambiar el tipo de datos de las variables predictoras a valores reales, para realizar la clasificación"
      ],
      "metadata": {
        "id": "ab9wEssFD0-c"
      }
    },
    {
      "cell_type": "markdown",
      "source": [
        "*Muchas de las variables contenidas en el DataFrame originalmente se encuentran en el tipo de dato 'object'. En ese formato las variables no pueden ser interpretadas como vectores. Recordemos que la mayoría de los modelos de Machine Learning estudiados operan en el espacio vectorial. Por esta razón las variables que formarán parte del modelo predictivo deben ser transformadas a un formato numérico como 'Float' o 'integer'.*\n",
        "\n",
        "Para este proyecto en particular se pide transformar  al tipo de dato Float, las variables del acelerómetro en el eje $x$, $y$ y $z$\n"
      ],
      "metadata": {
        "id": "VwjYtdk0EE7_"
      }
    },
    {
      "cell_type": "code",
      "source": [
        "data['x'] = data['x'].astype('float')\n",
        "data['y'] = data['y'].astype('float')\n",
        "data['z'] = data['z'].astype('float')"
      ],
      "metadata": {
        "id": "EaQOa4TkEqsf"
      },
      "execution_count": null,
      "outputs": []
    },
    {
      "cell_type": "markdown",
      "source": [
        "#### 7. Imprimir los tipos de datos de las variables del DataFrame"
      ],
      "metadata": {
        "id": "si95NP7yFbDe"
      }
    },
    {
      "cell_type": "markdown",
      "source": [
        "*Se recomienda volver a ejecutar el comando info para verificar que efectivamente las variables cambiaron su tipo de dato y que ahora se pueden procesar con los modelos predictivos.*"
      ],
      "metadata": {
        "id": "B3cJme3RFf9v"
      }
    },
    {
      "cell_type": "code",
      "source": [
        "data.info()"
      ],
      "metadata": {
        "colab": {
          "base_uri": "https://localhost:8080/"
        },
        "id": "XugW9tUdF3mH",
        "outputId": "64cd0900-907e-4db0-a8ba-408a0020a0d1"
      },
      "execution_count": null,
      "outputs": [
        {
          "output_type": "stream",
          "name": "stdout",
          "text": [
            "<class 'pandas.core.frame.DataFrame'>\n",
            "RangeIndex: 343416 entries, 0 to 343415\n",
            "Data columns (total 6 columns):\n",
            " #   Column    Non-Null Count   Dtype  \n",
            "---  ------    --------------   -----  \n",
            " 0   user      343416 non-null  object \n",
            " 1   activity  343416 non-null  object \n",
            " 2   time      343416 non-null  object \n",
            " 3   x         343416 non-null  float64\n",
            " 4   y         343416 non-null  float64\n",
            " 5   z         343416 non-null  float64\n",
            "dtypes: float64(3), object(3)\n",
            "memory usage: 15.7+ MB\n"
          ]
        }
      ]
    },
    {
      "cell_type": "markdown",
      "source": [
        "#### 8. Eliminar las columnas que no se utilizaran para la clasificación"
      ],
      "metadata": {
        "id": "TvQZxsdPGmcv"
      }
    },
    {
      "cell_type": "markdown",
      "source": [
        "*En este caso deberíamos conservar la actividad respectiva y las variables asociadas al acelerómetro*"
      ],
      "metadata": {
        "id": "qCeWWXs7HUXM"
      }
    },
    {
      "cell_type": "code",
      "source": [
        "df = data.drop(['user', 'time'], axis = 1).copy()\n",
        "df.head()"
      ],
      "metadata": {
        "colab": {
          "base_uri": "https://localhost:8080/"
        },
        "id": "IjEXQqC-Gr5Y",
        "outputId": "c16a4ac0-a29c-479d-8ead-7176f4557b52"
      },
      "execution_count": null,
      "outputs": [
        {
          "output_type": "execute_result",
          "data": {
            "text/plain": [
              "  activity         x          y         z\n",
              "0  Jogging -0.694638  12.680544  0.503953\n",
              "1  Jogging  5.012288  11.264028  0.953424\n",
              "2  Jogging  4.903325  10.882658 -0.081722\n",
              "3  Jogging -0.612916  18.496431  3.023717\n",
              "4  Jogging -1.184970  12.108489  7.205164"
            ],
            "text/html": [
              "\n",
              "  <div id=\"df-88b7ff5b-a46f-46ff-99d0-9bbb989bd978\">\n",
              "    <div class=\"colab-df-container\">\n",
              "      <div>\n",
              "<style scoped>\n",
              "    .dataframe tbody tr th:only-of-type {\n",
              "        vertical-align: middle;\n",
              "    }\n",
              "\n",
              "    .dataframe tbody tr th {\n",
              "        vertical-align: top;\n",
              "    }\n",
              "\n",
              "    .dataframe thead th {\n",
              "        text-align: right;\n",
              "    }\n",
              "</style>\n",
              "<table border=\"1\" class=\"dataframe\">\n",
              "  <thead>\n",
              "    <tr style=\"text-align: right;\">\n",
              "      <th></th>\n",
              "      <th>activity</th>\n",
              "      <th>x</th>\n",
              "      <th>y</th>\n",
              "      <th>z</th>\n",
              "    </tr>\n",
              "  </thead>\n",
              "  <tbody>\n",
              "    <tr>\n",
              "      <th>0</th>\n",
              "      <td>Jogging</td>\n",
              "      <td>-0.694638</td>\n",
              "      <td>12.680544</td>\n",
              "      <td>0.503953</td>\n",
              "    </tr>\n",
              "    <tr>\n",
              "      <th>1</th>\n",
              "      <td>Jogging</td>\n",
              "      <td>5.012288</td>\n",
              "      <td>11.264028</td>\n",
              "      <td>0.953424</td>\n",
              "    </tr>\n",
              "    <tr>\n",
              "      <th>2</th>\n",
              "      <td>Jogging</td>\n",
              "      <td>4.903325</td>\n",
              "      <td>10.882658</td>\n",
              "      <td>-0.081722</td>\n",
              "    </tr>\n",
              "    <tr>\n",
              "      <th>3</th>\n",
              "      <td>Jogging</td>\n",
              "      <td>-0.612916</td>\n",
              "      <td>18.496431</td>\n",
              "      <td>3.023717</td>\n",
              "    </tr>\n",
              "    <tr>\n",
              "      <th>4</th>\n",
              "      <td>Jogging</td>\n",
              "      <td>-1.184970</td>\n",
              "      <td>12.108489</td>\n",
              "      <td>7.205164</td>\n",
              "    </tr>\n",
              "  </tbody>\n",
              "</table>\n",
              "</div>\n",
              "      <button class=\"colab-df-convert\" onclick=\"convertToInteractive('df-88b7ff5b-a46f-46ff-99d0-9bbb989bd978')\"\n",
              "              title=\"Convert this dataframe to an interactive table.\"\n",
              "              style=\"display:none;\">\n",
              "        \n",
              "  <svg xmlns=\"http://www.w3.org/2000/svg\" height=\"24px\"viewBox=\"0 0 24 24\"\n",
              "       width=\"24px\">\n",
              "    <path d=\"M0 0h24v24H0V0z\" fill=\"none\"/>\n",
              "    <path d=\"M18.56 5.44l.94 2.06.94-2.06 2.06-.94-2.06-.94-.94-2.06-.94 2.06-2.06.94zm-11 1L8.5 8.5l.94-2.06 2.06-.94-2.06-.94L8.5 2.5l-.94 2.06-2.06.94zm10 10l.94 2.06.94-2.06 2.06-.94-2.06-.94-.94-2.06-.94 2.06-2.06.94z\"/><path d=\"M17.41 7.96l-1.37-1.37c-.4-.4-.92-.59-1.43-.59-.52 0-1.04.2-1.43.59L10.3 9.45l-7.72 7.72c-.78.78-.78 2.05 0 2.83L4 21.41c.39.39.9.59 1.41.59.51 0 1.02-.2 1.41-.59l7.78-7.78 2.81-2.81c.8-.78.8-2.07 0-2.86zM5.41 20L4 18.59l7.72-7.72 1.47 1.35L5.41 20z\"/>\n",
              "  </svg>\n",
              "      </button>\n",
              "      \n",
              "  <style>\n",
              "    .colab-df-container {\n",
              "      display:flex;\n",
              "      flex-wrap:wrap;\n",
              "      gap: 12px;\n",
              "    }\n",
              "\n",
              "    .colab-df-convert {\n",
              "      background-color: #E8F0FE;\n",
              "      border: none;\n",
              "      border-radius: 50%;\n",
              "      cursor: pointer;\n",
              "      display: none;\n",
              "      fill: #1967D2;\n",
              "      height: 32px;\n",
              "      padding: 0 0 0 0;\n",
              "      width: 32px;\n",
              "    }\n",
              "\n",
              "    .colab-df-convert:hover {\n",
              "      background-color: #E2EBFA;\n",
              "      box-shadow: 0px 1px 2px rgba(60, 64, 67, 0.3), 0px 1px 3px 1px rgba(60, 64, 67, 0.15);\n",
              "      fill: #174EA6;\n",
              "    }\n",
              "\n",
              "    [theme=dark] .colab-df-convert {\n",
              "      background-color: #3B4455;\n",
              "      fill: #D2E3FC;\n",
              "    }\n",
              "\n",
              "    [theme=dark] .colab-df-convert:hover {\n",
              "      background-color: #434B5C;\n",
              "      box-shadow: 0px 1px 3px 1px rgba(0, 0, 0, 0.15);\n",
              "      filter: drop-shadow(0px 1px 2px rgba(0, 0, 0, 0.3));\n",
              "      fill: #FFFFFF;\n",
              "    }\n",
              "  </style>\n",
              "\n",
              "      <script>\n",
              "        const buttonEl =\n",
              "          document.querySelector('#df-88b7ff5b-a46f-46ff-99d0-9bbb989bd978 button.colab-df-convert');\n",
              "        buttonEl.style.display =\n",
              "          google.colab.kernel.accessAllowed ? 'block' : 'none';\n",
              "\n",
              "        async function convertToInteractive(key) {\n",
              "          const element = document.querySelector('#df-88b7ff5b-a46f-46ff-99d0-9bbb989bd978');\n",
              "          const dataTable =\n",
              "            await google.colab.kernel.invokeFunction('convertToInteractive',\n",
              "                                                     [key], {});\n",
              "          if (!dataTable) return;\n",
              "\n",
              "          const docLinkHtml = 'Like what you see? Visit the ' +\n",
              "            '<a target=\"_blank\" href=https://colab.research.google.com/notebooks/data_table.ipynb>data table notebook</a>'\n",
              "            + ' to learn more about interactive tables.';\n",
              "          element.innerHTML = '';\n",
              "          dataTable['output_type'] = 'display_data';\n",
              "          await google.colab.output.renderOutput(dataTable, element);\n",
              "          const docLink = document.createElement('div');\n",
              "          docLink.innerHTML = docLinkHtml;\n",
              "          element.appendChild(docLink);\n",
              "        }\n",
              "      </script>\n",
              "    </div>\n",
              "  </div>\n",
              "  "
            ]
          },
          "metadata": {},
          "execution_count": 25
        }
      ]
    },
    {
      "cell_type": "markdown",
      "source": [
        "#### 9. Balanceo de datos"
      ],
      "metadata": {
        "id": "M-qjpWwiG1Sp"
      }
    },
    {
      "cell_type": "markdown",
      "source": [
        "Utilizar el comando value_counts para obtener un detalle de cuantas instancias se tienen por actividad. El objetivo consiste en identificar la presencia del balance o desbalance en las categorías a modelar"
      ],
      "metadata": {
        "id": "S4lYXZC8H6vY"
      }
    },
    {
      "cell_type": "code",
      "source": [
        "data['activity'].value_counts()"
      ],
      "metadata": {
        "colab": {
          "base_uri": "https://localhost:8080/"
        },
        "id": "ubEvR9YuHXSh",
        "outputId": "6d3dc9f5-3a69-413d-a1e6-aec81fec39bd"
      },
      "execution_count": null,
      "outputs": [
        {
          "output_type": "execute_result",
          "data": {
            "text/plain": [
              "Walking       137375\n",
              "Jogging       129392\n",
              "Upstairs       35137\n",
              "Downstairs     33358\n",
              "Sitting         4599\n",
              "Standing        3555\n",
              "Name: activity, dtype: int64"
            ]
          },
          "metadata": {},
          "execution_count": 26
        }
      ]
    },
    {
      "cell_type": "markdown",
      "source": [
        "Este proyecto considera datos con un desbalance de clases. Es necesario balancearlos para que los modelos operen de manera adecuada. Existen muchas maneras de realizar un balance, pero en este proyecto utilizaremos una estrategia sencilla e intuitiva. Simplemente debe identificar la actividad que contenga el número menor de instancias. Se debe realizar un muestreo para las otras actividades utilizando ese valor. De esta manera todas las clases tendrán la misma cantidad de instancias."
      ],
      "metadata": {
        "id": "1NBlT0ocJb9f"
      }
    },
    {
      "cell_type": "code",
      "source": [
        "Walking = df[df['activity']=='Walking'].head(3555).copy()\n",
        "Jogging = df[df['activity']=='Jogging'].head(3555).copy()\n",
        "Upstairs = df[df['activity']=='Upstairs'].head(3555).copy()\n",
        "Downstairs = df[df['activity']=='Downstairs'].head(3555).copy()\n",
        "Sitting = df[df['activity']=='Sitting'].head(3555).copy()\n",
        "Standing = df[df['activity']=='Standing'].copy()"
      ],
      "metadata": {
        "id": "ulLMYAJhJs56"
      },
      "execution_count": null,
      "outputs": []
    },
    {
      "cell_type": "markdown",
      "source": [
        "Establecer el número de instancias y dimensiones del data frame resultante *(shape)*."
      ],
      "metadata": {
        "id": "kkpKfmJxMltW"
      }
    },
    {
      "cell_type": "code",
      "source": [
        "balanced_data = pd.DataFrame()\n",
        "balanced_data = balanced_data.append([Walking, Jogging, Upstairs, Downstairs, Sitting, Standing])\n",
        "balanced_data.shape"
      ],
      "metadata": {
        "colab": {
          "base_uri": "https://localhost:8080/"
        },
        "id": "Cqf5aWJxKz_V",
        "outputId": "ad185c02-1c39-4e0f-ecf1-2b99183b6f7c"
      },
      "execution_count": null,
      "outputs": [
        {
          "output_type": "execute_result",
          "data": {
            "text/plain": [
              "(21330, 4)"
            ]
          },
          "metadata": {},
          "execution_count": 28
        }
      ]
    },
    {
      "cell_type": "markdown",
      "source": [
        "Volver a imprimir la cantidad de instancias por categoría para verificar que todo esté en orden. *(value_counts)*."
      ],
      "metadata": {
        "id": "H5XsJqo0McaE"
      }
    },
    {
      "cell_type": "code",
      "source": [
        "balanced_data['activity'].value_counts()"
      ],
      "metadata": {
        "colab": {
          "base_uri": "https://localhost:8080/"
        },
        "id": "jNnzNQrjLSf_",
        "outputId": "6a46e04f-e450-4de9-cf3a-65102618929c"
      },
      "execution_count": null,
      "outputs": [
        {
          "output_type": "execute_result",
          "data": {
            "text/plain": [
              "Walking       3555\n",
              "Jogging       3555\n",
              "Upstairs      3555\n",
              "Downstairs    3555\n",
              "Sitting       3555\n",
              "Standing      3555\n",
              "Name: activity, dtype: int64"
            ]
          },
          "metadata": {},
          "execution_count": 29
        }
      ]
    },
    {
      "cell_type": "markdown",
      "source": [
        "Volver a visualizar las cinco primeras líneas del DataFrame para revisar que todo esté en orden *(head)*."
      ],
      "metadata": {
        "id": "Fi52ACHfMH_h"
      }
    },
    {
      "cell_type": "code",
      "source": [
        "balanced_data.head()"
      ],
      "metadata": {
        "colab": {
          "base_uri": "https://localhost:8080/",
          "height": 206
        },
        "id": "07-CDrltLti_",
        "outputId": "1c4e681c-a7de-4837-8bd9-dd660e16eb01"
      },
      "execution_count": null,
      "outputs": [
        {
          "output_type": "execute_result",
          "data": {
            "text/plain": [
              "    activity         x          y         z\n",
              "597  Walking  0.844462   8.008764  2.792171\n",
              "598  Walking  1.116869   8.621680  3.786457\n",
              "599  Walking -0.503953  16.657684  1.307553\n",
              "600  Walking  4.794363  10.760075 -1.184970\n",
              "601  Walking -0.040861   9.234595 -0.694638"
            ],
            "text/html": [
              "\n",
              "  <div id=\"df-c876eb84-0d68-4be4-b0c7-ab95d89cdc08\">\n",
              "    <div class=\"colab-df-container\">\n",
              "      <div>\n",
              "<style scoped>\n",
              "    .dataframe tbody tr th:only-of-type {\n",
              "        vertical-align: middle;\n",
              "    }\n",
              "\n",
              "    .dataframe tbody tr th {\n",
              "        vertical-align: top;\n",
              "    }\n",
              "\n",
              "    .dataframe thead th {\n",
              "        text-align: right;\n",
              "    }\n",
              "</style>\n",
              "<table border=\"1\" class=\"dataframe\">\n",
              "  <thead>\n",
              "    <tr style=\"text-align: right;\">\n",
              "      <th></th>\n",
              "      <th>activity</th>\n",
              "      <th>x</th>\n",
              "      <th>y</th>\n",
              "      <th>z</th>\n",
              "    </tr>\n",
              "  </thead>\n",
              "  <tbody>\n",
              "    <tr>\n",
              "      <th>597</th>\n",
              "      <td>Walking</td>\n",
              "      <td>0.844462</td>\n",
              "      <td>8.008764</td>\n",
              "      <td>2.792171</td>\n",
              "    </tr>\n",
              "    <tr>\n",
              "      <th>598</th>\n",
              "      <td>Walking</td>\n",
              "      <td>1.116869</td>\n",
              "      <td>8.621680</td>\n",
              "      <td>3.786457</td>\n",
              "    </tr>\n",
              "    <tr>\n",
              "      <th>599</th>\n",
              "      <td>Walking</td>\n",
              "      <td>-0.503953</td>\n",
              "      <td>16.657684</td>\n",
              "      <td>1.307553</td>\n",
              "    </tr>\n",
              "    <tr>\n",
              "      <th>600</th>\n",
              "      <td>Walking</td>\n",
              "      <td>4.794363</td>\n",
              "      <td>10.760075</td>\n",
              "      <td>-1.184970</td>\n",
              "    </tr>\n",
              "    <tr>\n",
              "      <th>601</th>\n",
              "      <td>Walking</td>\n",
              "      <td>-0.040861</td>\n",
              "      <td>9.234595</td>\n",
              "      <td>-0.694638</td>\n",
              "    </tr>\n",
              "  </tbody>\n",
              "</table>\n",
              "</div>\n",
              "      <button class=\"colab-df-convert\" onclick=\"convertToInteractive('df-c876eb84-0d68-4be4-b0c7-ab95d89cdc08')\"\n",
              "              title=\"Convert this dataframe to an interactive table.\"\n",
              "              style=\"display:none;\">\n",
              "        \n",
              "  <svg xmlns=\"http://www.w3.org/2000/svg\" height=\"24px\"viewBox=\"0 0 24 24\"\n",
              "       width=\"24px\">\n",
              "    <path d=\"M0 0h24v24H0V0z\" fill=\"none\"/>\n",
              "    <path d=\"M18.56 5.44l.94 2.06.94-2.06 2.06-.94-2.06-.94-.94-2.06-.94 2.06-2.06.94zm-11 1L8.5 8.5l.94-2.06 2.06-.94-2.06-.94L8.5 2.5l-.94 2.06-2.06.94zm10 10l.94 2.06.94-2.06 2.06-.94-2.06-.94-.94-2.06-.94 2.06-2.06.94z\"/><path d=\"M17.41 7.96l-1.37-1.37c-.4-.4-.92-.59-1.43-.59-.52 0-1.04.2-1.43.59L10.3 9.45l-7.72 7.72c-.78.78-.78 2.05 0 2.83L4 21.41c.39.39.9.59 1.41.59.51 0 1.02-.2 1.41-.59l7.78-7.78 2.81-2.81c.8-.78.8-2.07 0-2.86zM5.41 20L4 18.59l7.72-7.72 1.47 1.35L5.41 20z\"/>\n",
              "  </svg>\n",
              "      </button>\n",
              "      \n",
              "  <style>\n",
              "    .colab-df-container {\n",
              "      display:flex;\n",
              "      flex-wrap:wrap;\n",
              "      gap: 12px;\n",
              "    }\n",
              "\n",
              "    .colab-df-convert {\n",
              "      background-color: #E8F0FE;\n",
              "      border: none;\n",
              "      border-radius: 50%;\n",
              "      cursor: pointer;\n",
              "      display: none;\n",
              "      fill: #1967D2;\n",
              "      height: 32px;\n",
              "      padding: 0 0 0 0;\n",
              "      width: 32px;\n",
              "    }\n",
              "\n",
              "    .colab-df-convert:hover {\n",
              "      background-color: #E2EBFA;\n",
              "      box-shadow: 0px 1px 2px rgba(60, 64, 67, 0.3), 0px 1px 3px 1px rgba(60, 64, 67, 0.15);\n",
              "      fill: #174EA6;\n",
              "    }\n",
              "\n",
              "    [theme=dark] .colab-df-convert {\n",
              "      background-color: #3B4455;\n",
              "      fill: #D2E3FC;\n",
              "    }\n",
              "\n",
              "    [theme=dark] .colab-df-convert:hover {\n",
              "      background-color: #434B5C;\n",
              "      box-shadow: 0px 1px 3px 1px rgba(0, 0, 0, 0.15);\n",
              "      filter: drop-shadow(0px 1px 2px rgba(0, 0, 0, 0.3));\n",
              "      fill: #FFFFFF;\n",
              "    }\n",
              "  </style>\n",
              "\n",
              "      <script>\n",
              "        const buttonEl =\n",
              "          document.querySelector('#df-c876eb84-0d68-4be4-b0c7-ab95d89cdc08 button.colab-df-convert');\n",
              "        buttonEl.style.display =\n",
              "          google.colab.kernel.accessAllowed ? 'block' : 'none';\n",
              "\n",
              "        async function convertToInteractive(key) {\n",
              "          const element = document.querySelector('#df-c876eb84-0d68-4be4-b0c7-ab95d89cdc08');\n",
              "          const dataTable =\n",
              "            await google.colab.kernel.invokeFunction('convertToInteractive',\n",
              "                                                     [key], {});\n",
              "          if (!dataTable) return;\n",
              "\n",
              "          const docLinkHtml = 'Like what you see? Visit the ' +\n",
              "            '<a target=\"_blank\" href=https://colab.research.google.com/notebooks/data_table.ipynb>data table notebook</a>'\n",
              "            + ' to learn more about interactive tables.';\n",
              "          element.innerHTML = '';\n",
              "          dataTable['output_type'] = 'display_data';\n",
              "          await google.colab.output.renderOutput(dataTable, element);\n",
              "          const docLink = document.createElement('div');\n",
              "          docLink.innerHTML = docLinkHtml;\n",
              "          element.appendChild(docLink);\n",
              "        }\n",
              "      </script>\n",
              "    </div>\n",
              "  </div>\n",
              "  "
            ]
          },
          "metadata": {},
          "execution_count": 30
        }
      ]
    },
    {
      "cell_type": "markdown",
      "source": [
        "#### 10. Estandarización de los datos"
      ],
      "metadata": {
        "id": "VkSJEdP_UOT-"
      }
    },
    {
      "cell_type": "markdown",
      "source": [
        "Separar las variables predictoras (X) de las ctegorias o etiquetas (y)."
      ],
      "metadata": {
        "id": "Tji5HD-hU_UV"
      }
    },
    {
      "cell_type": "code",
      "source": [
        "X = balanced_data[['x', 'y', 'z']]\n",
        "y = balanced_data['activity']"
      ],
      "metadata": {
        "id": "Cxt6vdluVGkv"
      },
      "execution_count": null,
      "outputs": []
    },
    {
      "cell_type": "markdown",
      "source": [
        "Estandarizar los datos numericos (*StandardScaler)*:\n",
        "*Para el caso de la estandarización de los datos se pueden usar distintas técnicas, como la normalización 01, estandarización entre -1 y 1 o el denominado Z-Score. En este caso usaremos la función Standard Scaler de Python con sus valores por defecto.*"
      ],
      "metadata": {
        "id": "Eo7Z2E-6VMQu"
      }
    },
    {
      "cell_type": "code",
      "source": [
        "scaler = StandardScaler()\n",
        "X = scaler.fit_transform(X)\n",
        "\n",
        "scaled_X = pd.DataFrame(data = X, columns = ['x', 'y', 'z'])\n",
        "\n",
        "scaled_X.head()"
      ],
      "metadata": {
        "colab": {
          "base_uri": "https://localhost:8080/",
          "height": 206
        },
        "id": "zWczUA9iV95M",
        "outputId": "7e9506bc-461e-4881-91f2-94809178818f"
      },
      "execution_count": null,
      "outputs": [
        {
          "output_type": "execute_result",
          "data": {
            "text/plain": [
              "          x         y         z\n",
              "0  0.000503 -0.099190  0.337933\n",
              "1  0.073590  0.020386  0.633446\n",
              "2 -0.361275  1.588160 -0.103312\n",
              "3  1.060258  0.437573 -0.844119\n",
              "4 -0.237028  0.139962 -0.698386"
            ],
            "text/html": [
              "\n",
              "  <div id=\"df-37d47ee8-fc08-491c-99fb-82114ef9306a\">\n",
              "    <div class=\"colab-df-container\">\n",
              "      <div>\n",
              "<style scoped>\n",
              "    .dataframe tbody tr th:only-of-type {\n",
              "        vertical-align: middle;\n",
              "    }\n",
              "\n",
              "    .dataframe tbody tr th {\n",
              "        vertical-align: top;\n",
              "    }\n",
              "\n",
              "    .dataframe thead th {\n",
              "        text-align: right;\n",
              "    }\n",
              "</style>\n",
              "<table border=\"1\" class=\"dataframe\">\n",
              "  <thead>\n",
              "    <tr style=\"text-align: right;\">\n",
              "      <th></th>\n",
              "      <th>x</th>\n",
              "      <th>y</th>\n",
              "      <th>z</th>\n",
              "    </tr>\n",
              "  </thead>\n",
              "  <tbody>\n",
              "    <tr>\n",
              "      <th>0</th>\n",
              "      <td>0.000503</td>\n",
              "      <td>-0.099190</td>\n",
              "      <td>0.337933</td>\n",
              "    </tr>\n",
              "    <tr>\n",
              "      <th>1</th>\n",
              "      <td>0.073590</td>\n",
              "      <td>0.020386</td>\n",
              "      <td>0.633446</td>\n",
              "    </tr>\n",
              "    <tr>\n",
              "      <th>2</th>\n",
              "      <td>-0.361275</td>\n",
              "      <td>1.588160</td>\n",
              "      <td>-0.103312</td>\n",
              "    </tr>\n",
              "    <tr>\n",
              "      <th>3</th>\n",
              "      <td>1.060258</td>\n",
              "      <td>0.437573</td>\n",
              "      <td>-0.844119</td>\n",
              "    </tr>\n",
              "    <tr>\n",
              "      <th>4</th>\n",
              "      <td>-0.237028</td>\n",
              "      <td>0.139962</td>\n",
              "      <td>-0.698386</td>\n",
              "    </tr>\n",
              "  </tbody>\n",
              "</table>\n",
              "</div>\n",
              "      <button class=\"colab-df-convert\" onclick=\"convertToInteractive('df-37d47ee8-fc08-491c-99fb-82114ef9306a')\"\n",
              "              title=\"Convert this dataframe to an interactive table.\"\n",
              "              style=\"display:none;\">\n",
              "        \n",
              "  <svg xmlns=\"http://www.w3.org/2000/svg\" height=\"24px\"viewBox=\"0 0 24 24\"\n",
              "       width=\"24px\">\n",
              "    <path d=\"M0 0h24v24H0V0z\" fill=\"none\"/>\n",
              "    <path d=\"M18.56 5.44l.94 2.06.94-2.06 2.06-.94-2.06-.94-.94-2.06-.94 2.06-2.06.94zm-11 1L8.5 8.5l.94-2.06 2.06-.94-2.06-.94L8.5 2.5l-.94 2.06-2.06.94zm10 10l.94 2.06.94-2.06 2.06-.94-2.06-.94-.94-2.06-.94 2.06-2.06.94z\"/><path d=\"M17.41 7.96l-1.37-1.37c-.4-.4-.92-.59-1.43-.59-.52 0-1.04.2-1.43.59L10.3 9.45l-7.72 7.72c-.78.78-.78 2.05 0 2.83L4 21.41c.39.39.9.59 1.41.59.51 0 1.02-.2 1.41-.59l7.78-7.78 2.81-2.81c.8-.78.8-2.07 0-2.86zM5.41 20L4 18.59l7.72-7.72 1.47 1.35L5.41 20z\"/>\n",
              "  </svg>\n",
              "      </button>\n",
              "      \n",
              "  <style>\n",
              "    .colab-df-container {\n",
              "      display:flex;\n",
              "      flex-wrap:wrap;\n",
              "      gap: 12px;\n",
              "    }\n",
              "\n",
              "    .colab-df-convert {\n",
              "      background-color: #E8F0FE;\n",
              "      border: none;\n",
              "      border-radius: 50%;\n",
              "      cursor: pointer;\n",
              "      display: none;\n",
              "      fill: #1967D2;\n",
              "      height: 32px;\n",
              "      padding: 0 0 0 0;\n",
              "      width: 32px;\n",
              "    }\n",
              "\n",
              "    .colab-df-convert:hover {\n",
              "      background-color: #E2EBFA;\n",
              "      box-shadow: 0px 1px 2px rgba(60, 64, 67, 0.3), 0px 1px 3px 1px rgba(60, 64, 67, 0.15);\n",
              "      fill: #174EA6;\n",
              "    }\n",
              "\n",
              "    [theme=dark] .colab-df-convert {\n",
              "      background-color: #3B4455;\n",
              "      fill: #D2E3FC;\n",
              "    }\n",
              "\n",
              "    [theme=dark] .colab-df-convert:hover {\n",
              "      background-color: #434B5C;\n",
              "      box-shadow: 0px 1px 3px 1px rgba(0, 0, 0, 0.15);\n",
              "      filter: drop-shadow(0px 1px 2px rgba(0, 0, 0, 0.3));\n",
              "      fill: #FFFFFF;\n",
              "    }\n",
              "  </style>\n",
              "\n",
              "      <script>\n",
              "        const buttonEl =\n",
              "          document.querySelector('#df-37d47ee8-fc08-491c-99fb-82114ef9306a button.colab-df-convert');\n",
              "        buttonEl.style.display =\n",
              "          google.colab.kernel.accessAllowed ? 'block' : 'none';\n",
              "\n",
              "        async function convertToInteractive(key) {\n",
              "          const element = document.querySelector('#df-37d47ee8-fc08-491c-99fb-82114ef9306a');\n",
              "          const dataTable =\n",
              "            await google.colab.kernel.invokeFunction('convertToInteractive',\n",
              "                                                     [key], {});\n",
              "          if (!dataTable) return;\n",
              "\n",
              "          const docLinkHtml = 'Like what you see? Visit the ' +\n",
              "            '<a target=\"_blank\" href=https://colab.research.google.com/notebooks/data_table.ipynb>data table notebook</a>'\n",
              "            + ' to learn more about interactive tables.';\n",
              "          element.innerHTML = '';\n",
              "          dataTable['output_type'] = 'display_data';\n",
              "          await google.colab.output.renderOutput(dataTable, element);\n",
              "          const docLink = document.createElement('div');\n",
              "          docLink.innerHTML = docLinkHtml;\n",
              "          element.appendChild(docLink);\n",
              "        }\n",
              "      </script>\n",
              "    </div>\n",
              "  </div>\n",
              "  "
            ]
          },
          "metadata": {},
          "execution_count": 59
        }
      ]
    },
    {
      "cell_type": "markdown",
      "source": [
        "#### 11. Como último paso debe reconstruir el dataframe pegando las columnas de los variables predicadores (X) y las categorías (y)."
      ],
      "metadata": {
        "id": "l5prICQkWNGi"
      }
    },
    {
      "cell_type": "markdown",
      "source": [
        "Transformación de la etiqueta \"y\" a predecir"
      ],
      "metadata": {
        "id": "SoO-_bjIlleI"
      }
    },
    {
      "cell_type": "code",
      "source": [
        "etiqueta = LabelEncoder()\n",
        "scaled_X['etiqueta'] = etiqueta.fit_transform(y)\n",
        "etiqueta.classes_"
      ],
      "metadata": {
        "id": "D1RmKA33mKC-",
        "outputId": "2930ce5a-b9e9-41a8-bf89-8f4c3f5181fc",
        "colab": {
          "base_uri": "https://localhost:8080/"
        }
      },
      "execution_count": null,
      "outputs": [
        {
          "output_type": "execute_result",
          "data": {
            "text/plain": [
              "array(['Downstairs', 'Jogging', 'Sitting', 'Standing', 'Upstairs',\n",
              "       'Walking'], dtype=object)"
            ]
          },
          "metadata": {},
          "execution_count": 60
        }
      ]
    },
    {
      "cell_type": "markdown",
      "source": [
        "Reconstrucción del dataframe con la nueva columna."
      ],
      "metadata": {
        "id": "twESL7ebsuux"
      }
    },
    {
      "cell_type": "code",
      "source": [
        "scaled_X.head()"
      ],
      "metadata": {
        "colab": {
          "base_uri": "https://localhost:8080/",
          "height": 206
        },
        "id": "AiihsUgfWZrl",
        "outputId": "fe1d3579-4a84-4301-cdab-dbe2d09ca1a8"
      },
      "execution_count": null,
      "outputs": [
        {
          "output_type": "execute_result",
          "data": {
            "text/plain": [
              "          x         y         z  etiqueta\n",
              "0  0.000503 -0.099190  0.337933         5\n",
              "1  0.073590  0.020386  0.633446         5\n",
              "2 -0.361275  1.588160 -0.103312         5\n",
              "3  1.060258  0.437573 -0.844119         5\n",
              "4 -0.237028  0.139962 -0.698386         5"
            ],
            "text/html": [
              "\n",
              "  <div id=\"df-93f7734a-478a-4688-8bc9-cf6befc1f26e\">\n",
              "    <div class=\"colab-df-container\">\n",
              "      <div>\n",
              "<style scoped>\n",
              "    .dataframe tbody tr th:only-of-type {\n",
              "        vertical-align: middle;\n",
              "    }\n",
              "\n",
              "    .dataframe tbody tr th {\n",
              "        vertical-align: top;\n",
              "    }\n",
              "\n",
              "    .dataframe thead th {\n",
              "        text-align: right;\n",
              "    }\n",
              "</style>\n",
              "<table border=\"1\" class=\"dataframe\">\n",
              "  <thead>\n",
              "    <tr style=\"text-align: right;\">\n",
              "      <th></th>\n",
              "      <th>x</th>\n",
              "      <th>y</th>\n",
              "      <th>z</th>\n",
              "      <th>etiqueta</th>\n",
              "    </tr>\n",
              "  </thead>\n",
              "  <tbody>\n",
              "    <tr>\n",
              "      <th>0</th>\n",
              "      <td>0.000503</td>\n",
              "      <td>-0.099190</td>\n",
              "      <td>0.337933</td>\n",
              "      <td>5</td>\n",
              "    </tr>\n",
              "    <tr>\n",
              "      <th>1</th>\n",
              "      <td>0.073590</td>\n",
              "      <td>0.020386</td>\n",
              "      <td>0.633446</td>\n",
              "      <td>5</td>\n",
              "    </tr>\n",
              "    <tr>\n",
              "      <th>2</th>\n",
              "      <td>-0.361275</td>\n",
              "      <td>1.588160</td>\n",
              "      <td>-0.103312</td>\n",
              "      <td>5</td>\n",
              "    </tr>\n",
              "    <tr>\n",
              "      <th>3</th>\n",
              "      <td>1.060258</td>\n",
              "      <td>0.437573</td>\n",
              "      <td>-0.844119</td>\n",
              "      <td>5</td>\n",
              "    </tr>\n",
              "    <tr>\n",
              "      <th>4</th>\n",
              "      <td>-0.237028</td>\n",
              "      <td>0.139962</td>\n",
              "      <td>-0.698386</td>\n",
              "      <td>5</td>\n",
              "    </tr>\n",
              "  </tbody>\n",
              "</table>\n",
              "</div>\n",
              "      <button class=\"colab-df-convert\" onclick=\"convertToInteractive('df-93f7734a-478a-4688-8bc9-cf6befc1f26e')\"\n",
              "              title=\"Convert this dataframe to an interactive table.\"\n",
              "              style=\"display:none;\">\n",
              "        \n",
              "  <svg xmlns=\"http://www.w3.org/2000/svg\" height=\"24px\"viewBox=\"0 0 24 24\"\n",
              "       width=\"24px\">\n",
              "    <path d=\"M0 0h24v24H0V0z\" fill=\"none\"/>\n",
              "    <path d=\"M18.56 5.44l.94 2.06.94-2.06 2.06-.94-2.06-.94-.94-2.06-.94 2.06-2.06.94zm-11 1L8.5 8.5l.94-2.06 2.06-.94-2.06-.94L8.5 2.5l-.94 2.06-2.06.94zm10 10l.94 2.06.94-2.06 2.06-.94-2.06-.94-.94-2.06-.94 2.06-2.06.94z\"/><path d=\"M17.41 7.96l-1.37-1.37c-.4-.4-.92-.59-1.43-.59-.52 0-1.04.2-1.43.59L10.3 9.45l-7.72 7.72c-.78.78-.78 2.05 0 2.83L4 21.41c.39.39.9.59 1.41.59.51 0 1.02-.2 1.41-.59l7.78-7.78 2.81-2.81c.8-.78.8-2.07 0-2.86zM5.41 20L4 18.59l7.72-7.72 1.47 1.35L5.41 20z\"/>\n",
              "  </svg>\n",
              "      </button>\n",
              "      \n",
              "  <style>\n",
              "    .colab-df-container {\n",
              "      display:flex;\n",
              "      flex-wrap:wrap;\n",
              "      gap: 12px;\n",
              "    }\n",
              "\n",
              "    .colab-df-convert {\n",
              "      background-color: #E8F0FE;\n",
              "      border: none;\n",
              "      border-radius: 50%;\n",
              "      cursor: pointer;\n",
              "      display: none;\n",
              "      fill: #1967D2;\n",
              "      height: 32px;\n",
              "      padding: 0 0 0 0;\n",
              "      width: 32px;\n",
              "    }\n",
              "\n",
              "    .colab-df-convert:hover {\n",
              "      background-color: #E2EBFA;\n",
              "      box-shadow: 0px 1px 2px rgba(60, 64, 67, 0.3), 0px 1px 3px 1px rgba(60, 64, 67, 0.15);\n",
              "      fill: #174EA6;\n",
              "    }\n",
              "\n",
              "    [theme=dark] .colab-df-convert {\n",
              "      background-color: #3B4455;\n",
              "      fill: #D2E3FC;\n",
              "    }\n",
              "\n",
              "    [theme=dark] .colab-df-convert:hover {\n",
              "      background-color: #434B5C;\n",
              "      box-shadow: 0px 1px 3px 1px rgba(0, 0, 0, 0.15);\n",
              "      filter: drop-shadow(0px 1px 2px rgba(0, 0, 0, 0.3));\n",
              "      fill: #FFFFFF;\n",
              "    }\n",
              "  </style>\n",
              "\n",
              "      <script>\n",
              "        const buttonEl =\n",
              "          document.querySelector('#df-93f7734a-478a-4688-8bc9-cf6befc1f26e button.colab-df-convert');\n",
              "        buttonEl.style.display =\n",
              "          google.colab.kernel.accessAllowed ? 'block' : 'none';\n",
              "\n",
              "        async function convertToInteractive(key) {\n",
              "          const element = document.querySelector('#df-93f7734a-478a-4688-8bc9-cf6befc1f26e');\n",
              "          const dataTable =\n",
              "            await google.colab.kernel.invokeFunction('convertToInteractive',\n",
              "                                                     [key], {});\n",
              "          if (!dataTable) return;\n",
              "\n",
              "          const docLinkHtml = 'Like what you see? Visit the ' +\n",
              "            '<a target=\"_blank\" href=https://colab.research.google.com/notebooks/data_table.ipynb>data table notebook</a>'\n",
              "            + ' to learn more about interactive tables.';\n",
              "          element.innerHTML = '';\n",
              "          dataTable['output_type'] = 'display_data';\n",
              "          await google.colab.output.renderOutput(dataTable, element);\n",
              "          const docLink = document.createElement('div');\n",
              "          docLink.innerHTML = docLinkHtml;\n",
              "          element.appendChild(docLink);\n",
              "        }\n",
              "      </script>\n",
              "    </div>\n",
              "  </div>\n",
              "  "
            ]
          },
          "metadata": {},
          "execution_count": 61
        }
      ]
    },
    {
      "cell_type": "markdown",
      "source": [
        "## **Entrega 03: EXPLORE**"
      ],
      "metadata": {
        "id": "onvujebclRpX"
      }
    },
    {
      "cell_type": "markdown",
      "source": [
        "En esta etapa se deberán examinar los datos."
      ],
      "metadata": {
        "id": "bS7BTCdDmPI_"
      }
    },
    {
      "cell_type": "markdown",
      "source": [
        "### Procedimiento\n",
        " A continuación, se detallan los pasos realizados en ésta etapa."
      ],
      "metadata": {
        "id": "AhO_SD8wlyYF"
      }
    },
    {
      "cell_type": "markdown",
      "source": [
        "#### 1. Comprobación de desequilibrios de datos"
      ],
      "metadata": {
        "id": "PZZX6vGhmjM8"
      }
    },
    {
      "cell_type": "code",
      "source": [],
      "metadata": {
        "id": "Y7KrQEqUliJU"
      },
      "execution_count": null,
      "outputs": []
    }
  ]
}