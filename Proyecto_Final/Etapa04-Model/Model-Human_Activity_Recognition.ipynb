{
  "nbformat": 4,
  "nbformat_minor": 0,
  "metadata": {
    "colab": {
      "provenance": [],
      "authorship_tag": "ABX9TyOB/VsJk5q0KtveOFDYpAY6",
      "include_colab_link": true
    },
    "kernelspec": {
      "name": "python3",
      "display_name": "Python 3"
    },
    "language_info": {
      "name": "python"
    }
  },
  "cells": [
    {
      "cell_type": "markdown",
      "metadata": {
        "id": "view-in-github",
        "colab_type": "text"
      },
      "source": [
        "<a href=\"https://colab.research.google.com/github/VictorSepulveda1994/Minor-Machine-Learning/blob/main/Proyecto_Final/Etapa04-Model/Model-Human_Activity_Recognition.ipynb\" target=\"_parent\"><img src=\"https://colab.research.google.com/assets/colab-badge.svg\" alt=\"Open In Colab\"/></a>"
      ]
    },
    {
      "cell_type": "markdown",
      "source": [
        "# Proyecto Final - Reconocimiento de Actividad Humana (HAR)"
      ],
      "metadata": {
        "id": "T2w7fPI1ja9I"
      }
    },
    {
      "cell_type": "code",
      "source": [
        "# Librerías más utilizadas\n",
        "import tensorflow as tf\n",
        "import pandas as pd\n",
        "import seaborn as sns\n",
        "import numpy as np\n",
        "import matplotlib.pyplot as plt\n",
        "from sklearn.preprocessing import StandardScaler, LabelEncoder"
      ],
      "metadata": {
        "id": "h0KqDyXQmlFl"
      },
      "execution_count": null,
      "outputs": []
    },
    {
      "cell_type": "markdown",
      "source": [
        "## **Entrega 01: OBTAIN**"
      ],
      "metadata": {
        "id": "h5vr523QfMs8"
      }
    },
    {
      "cell_type": "markdown",
      "source": [
        "En esta etapa del proyecto será necesario obtener los datos de las fuentes disponibles. En este caso se utilizará un conjunto de datos públicos de reconocimiento de actividad humana, disponible en los links entregados en el enunciado del proyecto."
      ],
      "metadata": {
        "id": "pbFFbD1KCWtq"
      }
    },
    {
      "cell_type": "markdown",
      "source": [
        "### Procedimiento\n",
        " \n",
        " A continuación, se detallan los pasos realizados en ésta etapa."
      ],
      "metadata": {
        "id": "nX0VKfbEhvyO"
      }
    },
    {
      "cell_type": "markdown",
      "source": [
        "#### 1. Comprobación de los links\n",
        "\n"
      ],
      "metadata": {
        "id": "ZzShdOIsoylS"
      }
    },
    {
      "cell_type": "markdown",
      "source": [
        "*   El primer link en el enunciado de [cis.fordham.edu](https://www.cis.fordham.edu/wisdm/dataset.php) funciona correctamente.\n",
        "\n",
        "\n",
        "*   El segundo link [archive.ics.uci.edu](https://archive.ics.uci.edu/ml/datasets/WISDM+Smartphone+and+Smartwatch+Activity+and+Biometrics+Dataset) no funciona correctamente y aparece un mensaje mencionando que los datos no aparecen o no existen.\n",
        "\n",
        "Por lo tanto, se utilizará la fuente del primer link."
      ],
      "metadata": {
        "id": "skpVXs4Q_cuW"
      }
    },
    {
      "cell_type": "markdown",
      "source": [
        "#### 2. Descarga de los datos\n",
        "\n"
      ],
      "metadata": {
        "id": "bErDFt7jpxs6"
      }
    },
    {
      "cell_type": "markdown",
      "source": [
        "Dado que los archivos están comprimidos en formato \"tar.gz\", y la plataforma de github solo soporta archivo de hasta 25Mb, para este caso se emplearán dos métodos para utilizarlos en Colab:"
      ],
      "metadata": {
        "id": "D8JTqrWD8UAO"
      }
    },
    {
      "cell_type": "markdown",
      "source": [
        "##### 2.1. Método Automático (*Recomendado*)"
      ],
      "metadata": {
        "id": "GTtOGJKD72pc"
      }
    },
    {
      "cell_type": "code",
      "source": [
        "#Se instala el módulo \"wget\" con el siguiente comando\n",
        "!pip install wget"
      ],
      "metadata": {
        "colab": {
          "base_uri": "https://localhost:8080/"
        },
        "id": "ulyXY6Tn72OM",
        "outputId": "a7ac16cd-777b-4fc3-8466-260bd54bb58d"
      },
      "execution_count": null,
      "outputs": [
        {
          "output_type": "stream",
          "name": "stdout",
          "text": [
            "Looking in indexes: https://pypi.org/simple, https://us-python.pkg.dev/colab-wheels/public/simple/\n",
            "Requirement already satisfied: wget in /usr/local/lib/python3.7/dist-packages (3.2)\n"
          ]
        }
      ]
    },
    {
      "cell_type": "code",
      "source": [
        "#Se importa el módulo \"wget\"\n",
        "import wget"
      ],
      "metadata": {
        "id": "XeaEcWVC9O-b"
      },
      "execution_count": null,
      "outputs": []
    },
    {
      "cell_type": "code",
      "source": [
        "#Se asigna el link del botón de descarga de la página cis.fordham.edu\n",
        "url = \"https://www.cis.fordham.edu/wisdm/includes/datasets/latest/WISDM_ar_latest.tar.gz\""
      ],
      "metadata": {
        "id": "MwuQozXS9ENC"
      },
      "execution_count": null,
      "outputs": []
    },
    {
      "cell_type": "code",
      "source": [
        "#Se descarga el \"archivo.tar.gz\" con todo su contenido\n",
        "wget.download(url, '/content/WISDM_ar_v1.1_raw.tar.gz')"
      ],
      "metadata": {
        "id": "V-yAZN9FD2mX",
        "colab": {
          "base_uri": "https://localhost:8080/"
        },
        "outputId": "710b5154-e778-467f-8d72-d9ffc2375a73"
      },
      "execution_count": null,
      "outputs": [
        {
          "output_type": "execute_result",
          "data": {
            "text/plain": [
              "'/content/WISDM_ar_v1.1_raw.tar (1).gz'"
            ],
            "application/vnd.google.colaboratory.intrinsic+json": {
              "type": "string"
            }
          },
          "metadata": {},
          "execution_count": 13
        }
      ]
    },
    {
      "cell_type": "code",
      "source": [
        "#Se descomprime el archivo \"WISDM_ar_v1.1_raw.tar.gz\"\n",
        "import tarfile \n",
        "file = tarfile.open('WISDM_ar_v1.1_raw.tar.gz') \n",
        "print(file.getnames()) \n",
        "file.extractall('./')\n",
        "file.close() "
      ],
      "metadata": {
        "id": "NWJlN_ZRAMvh",
        "outputId": "09b7f372-37aa-4b99-d90b-512eeb191607",
        "colab": {
          "base_uri": "https://localhost:8080/"
        }
      },
      "execution_count": null,
      "outputs": [
        {
          "output_type": "stream",
          "name": "stdout",
          "text": [
            "['WISDM_ar_v1.1', 'WISDM_ar_v1.1/readme.txt', 'WISDM_ar_v1.1/WISDM_ar_v1.1_raw.txt', 'WISDM_ar_v1.1/WISDM_ar_v1.1_raw_about.txt', 'WISDM_ar_v1.1/WISDM_ar_v1.1_transformed.arff', 'WISDM_ar_v1.1/WISDM_ar_v1.1_trans_about.txt']\n"
          ]
        }
      ]
    },
    {
      "cell_type": "markdown",
      "source": [
        "\n",
        "\n",
        "> **NOTA:** El archivo de texto que se utilizará \"WISDM_ar_v1.1_raw.txt\", estará dentro de la carpeta \"WISDM_ar_v1.1\"."
      ],
      "metadata": {
        "id": "jTzRnSeQFDEe"
      }
    },
    {
      "cell_type": "markdown",
      "source": [
        "##### 2.2. Método Manual (*Omitir si usó el Método Automático*)"
      ],
      "metadata": {
        "id": "zZfNiAMr7l76"
      }
    },
    {
      "cell_type": "markdown",
      "source": [
        "* Ir a [cis.fordham.edu](https://www.cis.fordham.edu/wisdm/dataset.php)\n"
      ],
      "metadata": {
        "id": "do51zfpZ-LA-"
      }
    },
    {
      "cell_type": "markdown",
      "source": [
        "* En la sección \"Activity Prediction\", hacer click en el botón \"Download Latest Version\" para descargar el archivo comprimido al computador."
      ],
      "metadata": {
        "id": "Mh0jYiILghyX"
      }
    },
    {
      "cell_type": "markdown",
      "source": [
        "* Descomprimir el archivo.tar.gz"
      ],
      "metadata": {
        "id": "cc-P6uTggmZO"
      }
    },
    {
      "cell_type": "markdown",
      "source": [
        "* Subir el archivo \"WISDM_ar_v1.1_raw.txt\" al almacenamiento de sesión de Colab con el siguiente código."
      ],
      "metadata": {
        "id": "yDDiMiPmgrAe"
      }
    },
    {
      "cell_type": "code",
      "source": [
        "#from google.colab import files #Descomentar si es necesario.\n",
        "#files.upload()                 #Descomentar si es necesario."
      ],
      "metadata": {
        "id": "n4u8eiU57d5P"
      },
      "execution_count": null,
      "outputs": []
    },
    {
      "cell_type": "markdown",
      "source": [
        "* Esperar a que se suba el \".txt\", ya que, éste contiene una gran cantidad de datos (49Mb aproximadamente)."
      ],
      "metadata": {
        "id": "se6JEcG-7UKh"
      }
    },
    {
      "cell_type": "markdown",
      "source": [
        "#### 3. Vista de los datos"
      ],
      "metadata": {
        "id": "593AVJKPxZBA"
      }
    },
    {
      "cell_type": "markdown",
      "source": [
        "Ahora que los datos ya están descargados y subidos a Colab, es posible utilizarlos. Para ello, se realizará una vista general de los datos antes de continuar con la siguiente etapa."
      ],
      "metadata": {
        "id": "9G4U4WYw-JPZ"
      }
    },
    {
      "cell_type": "code",
      "source": [
        "# Cargar el archivo de texto. La ruta dependerá de como el archivo se descargó (método automático o manual).\n",
        "df = pd.read_table(\"./WISDM_ar_v1.1/WISDM_ar_v1.1_raw.txt\", header=None)"
      ],
      "metadata": {
        "id": "KpdYFCb7Pqbl"
      },
      "execution_count": null,
      "outputs": []
    },
    {
      "cell_type": "code",
      "source": [
        "# Dataframe con los datos\n",
        "df.head()"
      ],
      "metadata": {
        "colab": {
          "base_uri": "https://localhost:8080/"
        },
        "id": "ObBILefQp2sX",
        "outputId": "2726ccbf-51c4-462d-b7f6-83e25fd89491"
      },
      "execution_count": null,
      "outputs": [
        {
          "output_type": "execute_result",
          "data": {
            "text/plain": [
              "                                                   0\n",
              "0  33,Jogging,49105962326000,-0.6946377,12.680544...\n",
              "1  33,Jogging,49106062271000,5.012288,11.264028,0...\n",
              "2  33,Jogging,49106112167000,4.903325,10.882658,-...\n",
              "3  33,Jogging,49106222305000,-0.61291564,18.49643...\n",
              "4  33,Jogging,49106332290000,-1.1849703,12.108489..."
            ],
            "text/html": [
              "\n",
              "  <div id=\"df-02c49917-99ed-4daf-bfa8-0affbf936cf8\">\n",
              "    <div class=\"colab-df-container\">\n",
              "      <div>\n",
              "<style scoped>\n",
              "    .dataframe tbody tr th:only-of-type {\n",
              "        vertical-align: middle;\n",
              "    }\n",
              "\n",
              "    .dataframe tbody tr th {\n",
              "        vertical-align: top;\n",
              "    }\n",
              "\n",
              "    .dataframe thead th {\n",
              "        text-align: right;\n",
              "    }\n",
              "</style>\n",
              "<table border=\"1\" class=\"dataframe\">\n",
              "  <thead>\n",
              "    <tr style=\"text-align: right;\">\n",
              "      <th></th>\n",
              "      <th>0</th>\n",
              "    </tr>\n",
              "  </thead>\n",
              "  <tbody>\n",
              "    <tr>\n",
              "      <th>0</th>\n",
              "      <td>33,Jogging,49105962326000,-0.6946377,12.680544...</td>\n",
              "    </tr>\n",
              "    <tr>\n",
              "      <th>1</th>\n",
              "      <td>33,Jogging,49106062271000,5.012288,11.264028,0...</td>\n",
              "    </tr>\n",
              "    <tr>\n",
              "      <th>2</th>\n",
              "      <td>33,Jogging,49106112167000,4.903325,10.882658,-...</td>\n",
              "    </tr>\n",
              "    <tr>\n",
              "      <th>3</th>\n",
              "      <td>33,Jogging,49106222305000,-0.61291564,18.49643...</td>\n",
              "    </tr>\n",
              "    <tr>\n",
              "      <th>4</th>\n",
              "      <td>33,Jogging,49106332290000,-1.1849703,12.108489...</td>\n",
              "    </tr>\n",
              "  </tbody>\n",
              "</table>\n",
              "</div>\n",
              "      <button class=\"colab-df-convert\" onclick=\"convertToInteractive('df-02c49917-99ed-4daf-bfa8-0affbf936cf8')\"\n",
              "              title=\"Convert this dataframe to an interactive table.\"\n",
              "              style=\"display:none;\">\n",
              "        \n",
              "  <svg xmlns=\"http://www.w3.org/2000/svg\" height=\"24px\"viewBox=\"0 0 24 24\"\n",
              "       width=\"24px\">\n",
              "    <path d=\"M0 0h24v24H0V0z\" fill=\"none\"/>\n",
              "    <path d=\"M18.56 5.44l.94 2.06.94-2.06 2.06-.94-2.06-.94-.94-2.06-.94 2.06-2.06.94zm-11 1L8.5 8.5l.94-2.06 2.06-.94-2.06-.94L8.5 2.5l-.94 2.06-2.06.94zm10 10l.94 2.06.94-2.06 2.06-.94-2.06-.94-.94-2.06-.94 2.06-2.06.94z\"/><path d=\"M17.41 7.96l-1.37-1.37c-.4-.4-.92-.59-1.43-.59-.52 0-1.04.2-1.43.59L10.3 9.45l-7.72 7.72c-.78.78-.78 2.05 0 2.83L4 21.41c.39.39.9.59 1.41.59.51 0 1.02-.2 1.41-.59l7.78-7.78 2.81-2.81c.8-.78.8-2.07 0-2.86zM5.41 20L4 18.59l7.72-7.72 1.47 1.35L5.41 20z\"/>\n",
              "  </svg>\n",
              "      </button>\n",
              "      \n",
              "  <style>\n",
              "    .colab-df-container {\n",
              "      display:flex;\n",
              "      flex-wrap:wrap;\n",
              "      gap: 12px;\n",
              "    }\n",
              "\n",
              "    .colab-df-convert {\n",
              "      background-color: #E8F0FE;\n",
              "      border: none;\n",
              "      border-radius: 50%;\n",
              "      cursor: pointer;\n",
              "      display: none;\n",
              "      fill: #1967D2;\n",
              "      height: 32px;\n",
              "      padding: 0 0 0 0;\n",
              "      width: 32px;\n",
              "    }\n",
              "\n",
              "    .colab-df-convert:hover {\n",
              "      background-color: #E2EBFA;\n",
              "      box-shadow: 0px 1px 2px rgba(60, 64, 67, 0.3), 0px 1px 3px 1px rgba(60, 64, 67, 0.15);\n",
              "      fill: #174EA6;\n",
              "    }\n",
              "\n",
              "    [theme=dark] .colab-df-convert {\n",
              "      background-color: #3B4455;\n",
              "      fill: #D2E3FC;\n",
              "    }\n",
              "\n",
              "    [theme=dark] .colab-df-convert:hover {\n",
              "      background-color: #434B5C;\n",
              "      box-shadow: 0px 1px 3px 1px rgba(0, 0, 0, 0.15);\n",
              "      filter: drop-shadow(0px 1px 2px rgba(0, 0, 0, 0.3));\n",
              "      fill: #FFFFFF;\n",
              "    }\n",
              "  </style>\n",
              "\n",
              "      <script>\n",
              "        const buttonEl =\n",
              "          document.querySelector('#df-02c49917-99ed-4daf-bfa8-0affbf936cf8 button.colab-df-convert');\n",
              "        buttonEl.style.display =\n",
              "          google.colab.kernel.accessAllowed ? 'block' : 'none';\n",
              "\n",
              "        async function convertToInteractive(key) {\n",
              "          const element = document.querySelector('#df-02c49917-99ed-4daf-bfa8-0affbf936cf8');\n",
              "          const dataTable =\n",
              "            await google.colab.kernel.invokeFunction('convertToInteractive',\n",
              "                                                     [key], {});\n",
              "          if (!dataTable) return;\n",
              "\n",
              "          const docLinkHtml = 'Like what you see? Visit the ' +\n",
              "            '<a target=\"_blank\" href=https://colab.research.google.com/notebooks/data_table.ipynb>data table notebook</a>'\n",
              "            + ' to learn more about interactive tables.';\n",
              "          element.innerHTML = '';\n",
              "          dataTable['output_type'] = 'display_data';\n",
              "          await google.colab.output.renderOutput(dataTable, element);\n",
              "          const docLink = document.createElement('div');\n",
              "          docLink.innerHTML = docLinkHtml;\n",
              "          element.appendChild(docLink);\n",
              "        }\n",
              "      </script>\n",
              "    </div>\n",
              "  </div>\n",
              "  "
            ]
          },
          "metadata": {},
          "execution_count": 17
        }
      ]
    },
    {
      "cell_type": "markdown",
      "source": [
        "## **Entrega 02: SCRUB**"
      ],
      "metadata": {
        "id": "HQvBf_GRZjFb"
      }
    },
    {
      "cell_type": "markdown",
      "source": [
        "En esta etapa del proyecto será necesario limpiar y filtrar los datos."
      ],
      "metadata": {
        "id": "TjotYtPeCqmI"
      }
    },
    {
      "cell_type": "markdown",
      "source": [
        "### Procedimiento\n",
        " A continuación, se detallan los pasos realizados en ésta etapa."
      ],
      "metadata": {
        "id": "6ip5-676dZTx"
      }
    },
    {
      "cell_type": "markdown",
      "source": [
        "#### 1. Eliminar filas con datos faltantes"
      ],
      "metadata": {
        "id": "M4Y8w9x0qwEt"
      }
    },
    {
      "cell_type": "markdown",
      "source": [
        "Uno de los pasos iniciales en la limpieza de datos consiste en eliminar aquellas filas que contengan datos faltantes. Estas líneas generalmente no aportan información y pueden complicar la etapa de entrenamiento y validación de muchos modelos predictivos."
      ],
      "metadata": {
        "id": "VKIDBlCW6lSY"
      }
    },
    {
      "cell_type": "code",
      "source": [
        "#Se vuelve a procesar el archivo \"WISDM_ar_v1.1_raw.txt\"\n",
        "file = open(\"./WISDM_ar_v1.1/WISDM_ar_v1.1_raw.txt\")\n",
        "lines = file.readlines()\n",
        "\n",
        "processedList = []\n",
        "\n",
        "# Se recorre el archivo, eliminando filas con datos faltantes y separando las \"columnas\"\n",
        "for i, line in enumerate(lines):\n",
        "    try:\n",
        "        line = line.split(',')\n",
        "        last = line[5].split(';')[0]\n",
        "        last = last.strip()\n",
        "        if last == '':\n",
        "            break;\n",
        "        temp = [line[0], line[1], line[2], line[3], line[4], last]\n",
        "        processedList.append(temp)\n",
        "    except:\n",
        "        print('Error at line number: ', i)"
      ],
      "metadata": {
        "colab": {
          "base_uri": "https://localhost:8080/"
        },
        "id": "3pSyxk9yrL0U",
        "outputId": "8b549485-acd1-4bcd-b16d-d5fe433f629e"
      },
      "execution_count": null,
      "outputs": [
        {
          "output_type": "stream",
          "name": "stdout",
          "text": [
            "Error at line number:  281873\n",
            "Error at line number:  281874\n",
            "Error at line number:  281875\n"
          ]
        }
      ]
    },
    {
      "cell_type": "markdown",
      "source": [
        "#### 2. Agregar al DataFrame los nombres de las columnas"
      ],
      "metadata": {
        "id": "pFhkZa_R1Gti"
      }
    },
    {
      "cell_type": "markdown",
      "source": [
        "En ocasiones al crear los data frames el sistema asigna nombres genéricos y correlativos a las columnas. Es recomendable renombrar las columnas por nombres significativos para favorecer el análisis posterior de los datos."
      ],
      "metadata": {
        "id": "tR-Rj04T6fQa"
      }
    },
    {
      "cell_type": "code",
      "source": [
        "# Se crea un array con los nombres de las columnas\n",
        "columns = ['user', 'activity', 'time', 'x', 'y', 'z']\n",
        "# Los nombres de las columnas y la lista procesada son insertadas en un nuevo dataframe\n",
        "data = pd.DataFrame(data = processedList, columns = columns)"
      ],
      "metadata": {
        "id": "PEehpOM81eJK"
      },
      "execution_count": null,
      "outputs": []
    },
    {
      "cell_type": "markdown",
      "source": [
        "#### 3. Visualizar las 5 primeras filas del DataFrame (.head())"
      ],
      "metadata": {
        "id": "HW1k34163Xpy"
      }
    },
    {
      "cell_type": "markdown",
      "source": [
        "Siempre es buena medida visualizar algunas líneas del dataframe para tener una idea concreta del contenido."
      ],
      "metadata": {
        "id": "WcRishlb6VxT"
      }
    },
    {
      "cell_type": "code",
      "source": [
        "data.head(5)"
      ],
      "metadata": {
        "colab": {
          "base_uri": "https://localhost:8080/"
        },
        "id": "7woZc7JS3Dk2",
        "outputId": "cbbef702-cbd5-47b8-e374-7731cc571ac0"
      },
      "execution_count": null,
      "outputs": [
        {
          "output_type": "execute_result",
          "data": {
            "text/plain": [
              "  user activity            time            x          y            z\n",
              "0   33  Jogging  49105962326000   -0.6946377  12.680544   0.50395286\n",
              "1   33  Jogging  49106062271000     5.012288  11.264028   0.95342433\n",
              "2   33  Jogging  49106112167000     4.903325  10.882658  -0.08172209\n",
              "3   33  Jogging  49106222305000  -0.61291564  18.496431    3.0237172\n",
              "4   33  Jogging  49106332290000   -1.1849703  12.108489     7.205164"
            ],
            "text/html": [
              "\n",
              "  <div id=\"df-4736861d-d6cb-4afd-9a73-0541bd06a5fa\">\n",
              "    <div class=\"colab-df-container\">\n",
              "      <div>\n",
              "<style scoped>\n",
              "    .dataframe tbody tr th:only-of-type {\n",
              "        vertical-align: middle;\n",
              "    }\n",
              "\n",
              "    .dataframe tbody tr th {\n",
              "        vertical-align: top;\n",
              "    }\n",
              "\n",
              "    .dataframe thead th {\n",
              "        text-align: right;\n",
              "    }\n",
              "</style>\n",
              "<table border=\"1\" class=\"dataframe\">\n",
              "  <thead>\n",
              "    <tr style=\"text-align: right;\">\n",
              "      <th></th>\n",
              "      <th>user</th>\n",
              "      <th>activity</th>\n",
              "      <th>time</th>\n",
              "      <th>x</th>\n",
              "      <th>y</th>\n",
              "      <th>z</th>\n",
              "    </tr>\n",
              "  </thead>\n",
              "  <tbody>\n",
              "    <tr>\n",
              "      <th>0</th>\n",
              "      <td>33</td>\n",
              "      <td>Jogging</td>\n",
              "      <td>49105962326000</td>\n",
              "      <td>-0.6946377</td>\n",
              "      <td>12.680544</td>\n",
              "      <td>0.50395286</td>\n",
              "    </tr>\n",
              "    <tr>\n",
              "      <th>1</th>\n",
              "      <td>33</td>\n",
              "      <td>Jogging</td>\n",
              "      <td>49106062271000</td>\n",
              "      <td>5.012288</td>\n",
              "      <td>11.264028</td>\n",
              "      <td>0.95342433</td>\n",
              "    </tr>\n",
              "    <tr>\n",
              "      <th>2</th>\n",
              "      <td>33</td>\n",
              "      <td>Jogging</td>\n",
              "      <td>49106112167000</td>\n",
              "      <td>4.903325</td>\n",
              "      <td>10.882658</td>\n",
              "      <td>-0.08172209</td>\n",
              "    </tr>\n",
              "    <tr>\n",
              "      <th>3</th>\n",
              "      <td>33</td>\n",
              "      <td>Jogging</td>\n",
              "      <td>49106222305000</td>\n",
              "      <td>-0.61291564</td>\n",
              "      <td>18.496431</td>\n",
              "      <td>3.0237172</td>\n",
              "    </tr>\n",
              "    <tr>\n",
              "      <th>4</th>\n",
              "      <td>33</td>\n",
              "      <td>Jogging</td>\n",
              "      <td>49106332290000</td>\n",
              "      <td>-1.1849703</td>\n",
              "      <td>12.108489</td>\n",
              "      <td>7.205164</td>\n",
              "    </tr>\n",
              "  </tbody>\n",
              "</table>\n",
              "</div>\n",
              "      <button class=\"colab-df-convert\" onclick=\"convertToInteractive('df-4736861d-d6cb-4afd-9a73-0541bd06a5fa')\"\n",
              "              title=\"Convert this dataframe to an interactive table.\"\n",
              "              style=\"display:none;\">\n",
              "        \n",
              "  <svg xmlns=\"http://www.w3.org/2000/svg\" height=\"24px\"viewBox=\"0 0 24 24\"\n",
              "       width=\"24px\">\n",
              "    <path d=\"M0 0h24v24H0V0z\" fill=\"none\"/>\n",
              "    <path d=\"M18.56 5.44l.94 2.06.94-2.06 2.06-.94-2.06-.94-.94-2.06-.94 2.06-2.06.94zm-11 1L8.5 8.5l.94-2.06 2.06-.94-2.06-.94L8.5 2.5l-.94 2.06-2.06.94zm10 10l.94 2.06.94-2.06 2.06-.94-2.06-.94-.94-2.06-.94 2.06-2.06.94z\"/><path d=\"M17.41 7.96l-1.37-1.37c-.4-.4-.92-.59-1.43-.59-.52 0-1.04.2-1.43.59L10.3 9.45l-7.72 7.72c-.78.78-.78 2.05 0 2.83L4 21.41c.39.39.9.59 1.41.59.51 0 1.02-.2 1.41-.59l7.78-7.78 2.81-2.81c.8-.78.8-2.07 0-2.86zM5.41 20L4 18.59l7.72-7.72 1.47 1.35L5.41 20z\"/>\n",
              "  </svg>\n",
              "      </button>\n",
              "      \n",
              "  <style>\n",
              "    .colab-df-container {\n",
              "      display:flex;\n",
              "      flex-wrap:wrap;\n",
              "      gap: 12px;\n",
              "    }\n",
              "\n",
              "    .colab-df-convert {\n",
              "      background-color: #E8F0FE;\n",
              "      border: none;\n",
              "      border-radius: 50%;\n",
              "      cursor: pointer;\n",
              "      display: none;\n",
              "      fill: #1967D2;\n",
              "      height: 32px;\n",
              "      padding: 0 0 0 0;\n",
              "      width: 32px;\n",
              "    }\n",
              "\n",
              "    .colab-df-convert:hover {\n",
              "      background-color: #E2EBFA;\n",
              "      box-shadow: 0px 1px 2px rgba(60, 64, 67, 0.3), 0px 1px 3px 1px rgba(60, 64, 67, 0.15);\n",
              "      fill: #174EA6;\n",
              "    }\n",
              "\n",
              "    [theme=dark] .colab-df-convert {\n",
              "      background-color: #3B4455;\n",
              "      fill: #D2E3FC;\n",
              "    }\n",
              "\n",
              "    [theme=dark] .colab-df-convert:hover {\n",
              "      background-color: #434B5C;\n",
              "      box-shadow: 0px 1px 3px 1px rgba(0, 0, 0, 0.15);\n",
              "      filter: drop-shadow(0px 1px 2px rgba(0, 0, 0, 0.3));\n",
              "      fill: #FFFFFF;\n",
              "    }\n",
              "  </style>\n",
              "\n",
              "      <script>\n",
              "        const buttonEl =\n",
              "          document.querySelector('#df-4736861d-d6cb-4afd-9a73-0541bd06a5fa button.colab-df-convert');\n",
              "        buttonEl.style.display =\n",
              "          google.colab.kernel.accessAllowed ? 'block' : 'none';\n",
              "\n",
              "        async function convertToInteractive(key) {\n",
              "          const element = document.querySelector('#df-4736861d-d6cb-4afd-9a73-0541bd06a5fa');\n",
              "          const dataTable =\n",
              "            await google.colab.kernel.invokeFunction('convertToInteractive',\n",
              "                                                     [key], {});\n",
              "          if (!dataTable) return;\n",
              "\n",
              "          const docLinkHtml = 'Like what you see? Visit the ' +\n",
              "            '<a target=\"_blank\" href=https://colab.research.google.com/notebooks/data_table.ipynb>data table notebook</a>'\n",
              "            + ' to learn more about interactive tables.';\n",
              "          element.innerHTML = '';\n",
              "          dataTable['output_type'] = 'display_data';\n",
              "          await google.colab.output.renderOutput(dataTable, element);\n",
              "          const docLink = document.createElement('div');\n",
              "          docLink.innerHTML = docLinkHtml;\n",
              "          element.appendChild(docLink);\n",
              "        }\n",
              "      </script>\n",
              "    </div>\n",
              "  </div>\n",
              "  "
            ]
          },
          "metadata": {},
          "execution_count": 20
        }
      ]
    },
    {
      "cell_type": "markdown",
      "source": [
        "#### 4. Buscar datos nulos y eliminarlos si es que existen"
      ],
      "metadata": {
        "id": "5SikmYM44Nob"
      }
    },
    {
      "cell_type": "code",
      "source": [
        "data.isnull().sum()"
      ],
      "metadata": {
        "colab": {
          "base_uri": "https://localhost:8080/"
        },
        "id": "EqvTLD0e5vaa",
        "outputId": "88944078-a55d-4791-a154-5721e885d1ab"
      },
      "execution_count": null,
      "outputs": [
        {
          "output_type": "execute_result",
          "data": {
            "text/plain": [
              "user        0\n",
              "activity    0\n",
              "time        0\n",
              "x           0\n",
              "y           0\n",
              "z           0\n",
              "dtype: int64"
            ]
          },
          "metadata": {},
          "execution_count": 21
        }
      ]
    },
    {
      "cell_type": "markdown",
      "source": [
        "> **NOTA:** No hay datos nulos.\n",
        "\n"
      ],
      "metadata": {
        "id": "RS8gEU8CAdix"
      }
    },
    {
      "cell_type": "markdown",
      "source": [
        "#### 5. Visualizar los tipo de datos a los que pertenece cada columna (.info())"
      ],
      "metadata": {
        "id": "eWfnHc6L56hf"
      }
    },
    {
      "cell_type": "markdown",
      "source": [
        "Es necesario tener un detalle de cuantas variables están considerando y el tipo de datos que pertenecen para verificar si es posible utilizarla directamente para el modelo predictivo o si es necesario realizar una transformación del tipo de dato."
      ],
      "metadata": {
        "id": "HSHZumIa6LQF"
      }
    },
    {
      "cell_type": "code",
      "source": [
        "data.info()"
      ],
      "metadata": {
        "colab": {
          "base_uri": "https://localhost:8080/"
        },
        "id": "b9EVDZ4c6qdl",
        "outputId": "561a0d7e-2359-4625-a0ed-eb628217c5e2"
      },
      "execution_count": null,
      "outputs": [
        {
          "output_type": "stream",
          "name": "stdout",
          "text": [
            "<class 'pandas.core.frame.DataFrame'>\n",
            "RangeIndex: 343416 entries, 0 to 343415\n",
            "Data columns (total 6 columns):\n",
            " #   Column    Non-Null Count   Dtype \n",
            "---  ------    --------------   ----- \n",
            " 0   user      343416 non-null  object\n",
            " 1   activity  343416 non-null  object\n",
            " 2   time      343416 non-null  object\n",
            " 3   x         343416 non-null  object\n",
            " 4   y         343416 non-null  object\n",
            " 5   z         343416 non-null  object\n",
            "dtypes: object(6)\n",
            "memory usage: 15.7+ MB\n"
          ]
        }
      ]
    },
    {
      "cell_type": "markdown",
      "source": [
        "#### 6. Cambiar el tipo de datos de las variables predictoras a valores reales, para realizar la clasificación"
      ],
      "metadata": {
        "id": "ab9wEssFD0-c"
      }
    },
    {
      "cell_type": "markdown",
      "source": [
        "*Muchas de las variables contenidas en el DataFrame originalmente se encuentran en el tipo de dato 'object'. En ese formato las variables no pueden ser interpretadas como vectores. Recordemos que la mayoría de los modelos de Machine Learning estudiados operan en el espacio vectorial. Por esta razón las variables que formarán parte del modelo predictivo deben ser transformadas a un formato numérico como 'Float' o 'integer'.*\n",
        "\n",
        "Para este proyecto en particular se pide transformar  al tipo de dato Float, las variables del acelerómetro en el eje $x$, $y$ y $z$\n"
      ],
      "metadata": {
        "id": "VwjYtdk0EE7_"
      }
    },
    {
      "cell_type": "code",
      "source": [
        "data['x'] = data['x'].astype('float')\n",
        "data['y'] = data['y'].astype('float')\n",
        "data['z'] = data['z'].astype('float')"
      ],
      "metadata": {
        "id": "EaQOa4TkEqsf"
      },
      "execution_count": null,
      "outputs": []
    },
    {
      "cell_type": "markdown",
      "source": [
        "#### 7. Imprimir los tipos de datos de las variables del DataFrame"
      ],
      "metadata": {
        "id": "si95NP7yFbDe"
      }
    },
    {
      "cell_type": "markdown",
      "source": [
        "*Se recomienda volver a ejecutar el comando info para verificar que efectivamente las variables cambiaron su tipo de dato y que ahora se pueden procesar con los modelos predictivos.*"
      ],
      "metadata": {
        "id": "B3cJme3RFf9v"
      }
    },
    {
      "cell_type": "code",
      "source": [
        "data.info()"
      ],
      "metadata": {
        "colab": {
          "base_uri": "https://localhost:8080/"
        },
        "id": "XugW9tUdF3mH",
        "outputId": "cc09558e-a5a3-43f5-f062-e0e8e05c1f40"
      },
      "execution_count": null,
      "outputs": [
        {
          "output_type": "stream",
          "name": "stdout",
          "text": [
            "<class 'pandas.core.frame.DataFrame'>\n",
            "RangeIndex: 343416 entries, 0 to 343415\n",
            "Data columns (total 6 columns):\n",
            " #   Column    Non-Null Count   Dtype  \n",
            "---  ------    --------------   -----  \n",
            " 0   user      343416 non-null  object \n",
            " 1   activity  343416 non-null  object \n",
            " 2   time      343416 non-null  object \n",
            " 3   x         343416 non-null  float64\n",
            " 4   y         343416 non-null  float64\n",
            " 5   z         343416 non-null  float64\n",
            "dtypes: float64(3), object(3)\n",
            "memory usage: 15.7+ MB\n"
          ]
        }
      ]
    },
    {
      "cell_type": "markdown",
      "source": [
        "#### 8. Eliminar las columnas que no se utilizaran para la clasificación"
      ],
      "metadata": {
        "id": "TvQZxsdPGmcv"
      }
    },
    {
      "cell_type": "markdown",
      "source": [
        "*En este caso deberíamos conservar la actividad respectiva y las variables asociadas al acelerómetro*"
      ],
      "metadata": {
        "id": "qCeWWXs7HUXM"
      }
    },
    {
      "cell_type": "code",
      "source": [
        "df = data.drop(['user', 'time'], axis = 1).copy()\n",
        "df.head()"
      ],
      "metadata": {
        "colab": {
          "base_uri": "https://localhost:8080/"
        },
        "id": "IjEXQqC-Gr5Y",
        "outputId": "7238f9d7-bac7-4469-a499-bdff0bec8c15"
      },
      "execution_count": null,
      "outputs": [
        {
          "output_type": "execute_result",
          "data": {
            "text/plain": [
              "  activity         x          y         z\n",
              "0  Jogging -0.694638  12.680544  0.503953\n",
              "1  Jogging  5.012288  11.264028  0.953424\n",
              "2  Jogging  4.903325  10.882658 -0.081722\n",
              "3  Jogging -0.612916  18.496431  3.023717\n",
              "4  Jogging -1.184970  12.108489  7.205164"
            ],
            "text/html": [
              "\n",
              "  <div id=\"df-51e0ab37-4ff4-43b9-8a3c-01a24c847a0a\">\n",
              "    <div class=\"colab-df-container\">\n",
              "      <div>\n",
              "<style scoped>\n",
              "    .dataframe tbody tr th:only-of-type {\n",
              "        vertical-align: middle;\n",
              "    }\n",
              "\n",
              "    .dataframe tbody tr th {\n",
              "        vertical-align: top;\n",
              "    }\n",
              "\n",
              "    .dataframe thead th {\n",
              "        text-align: right;\n",
              "    }\n",
              "</style>\n",
              "<table border=\"1\" class=\"dataframe\">\n",
              "  <thead>\n",
              "    <tr style=\"text-align: right;\">\n",
              "      <th></th>\n",
              "      <th>activity</th>\n",
              "      <th>x</th>\n",
              "      <th>y</th>\n",
              "      <th>z</th>\n",
              "    </tr>\n",
              "  </thead>\n",
              "  <tbody>\n",
              "    <tr>\n",
              "      <th>0</th>\n",
              "      <td>Jogging</td>\n",
              "      <td>-0.694638</td>\n",
              "      <td>12.680544</td>\n",
              "      <td>0.503953</td>\n",
              "    </tr>\n",
              "    <tr>\n",
              "      <th>1</th>\n",
              "      <td>Jogging</td>\n",
              "      <td>5.012288</td>\n",
              "      <td>11.264028</td>\n",
              "      <td>0.953424</td>\n",
              "    </tr>\n",
              "    <tr>\n",
              "      <th>2</th>\n",
              "      <td>Jogging</td>\n",
              "      <td>4.903325</td>\n",
              "      <td>10.882658</td>\n",
              "      <td>-0.081722</td>\n",
              "    </tr>\n",
              "    <tr>\n",
              "      <th>3</th>\n",
              "      <td>Jogging</td>\n",
              "      <td>-0.612916</td>\n",
              "      <td>18.496431</td>\n",
              "      <td>3.023717</td>\n",
              "    </tr>\n",
              "    <tr>\n",
              "      <th>4</th>\n",
              "      <td>Jogging</td>\n",
              "      <td>-1.184970</td>\n",
              "      <td>12.108489</td>\n",
              "      <td>7.205164</td>\n",
              "    </tr>\n",
              "  </tbody>\n",
              "</table>\n",
              "</div>\n",
              "      <button class=\"colab-df-convert\" onclick=\"convertToInteractive('df-51e0ab37-4ff4-43b9-8a3c-01a24c847a0a')\"\n",
              "              title=\"Convert this dataframe to an interactive table.\"\n",
              "              style=\"display:none;\">\n",
              "        \n",
              "  <svg xmlns=\"http://www.w3.org/2000/svg\" height=\"24px\"viewBox=\"0 0 24 24\"\n",
              "       width=\"24px\">\n",
              "    <path d=\"M0 0h24v24H0V0z\" fill=\"none\"/>\n",
              "    <path d=\"M18.56 5.44l.94 2.06.94-2.06 2.06-.94-2.06-.94-.94-2.06-.94 2.06-2.06.94zm-11 1L8.5 8.5l.94-2.06 2.06-.94-2.06-.94L8.5 2.5l-.94 2.06-2.06.94zm10 10l.94 2.06.94-2.06 2.06-.94-2.06-.94-.94-2.06-.94 2.06-2.06.94z\"/><path d=\"M17.41 7.96l-1.37-1.37c-.4-.4-.92-.59-1.43-.59-.52 0-1.04.2-1.43.59L10.3 9.45l-7.72 7.72c-.78.78-.78 2.05 0 2.83L4 21.41c.39.39.9.59 1.41.59.51 0 1.02-.2 1.41-.59l7.78-7.78 2.81-2.81c.8-.78.8-2.07 0-2.86zM5.41 20L4 18.59l7.72-7.72 1.47 1.35L5.41 20z\"/>\n",
              "  </svg>\n",
              "      </button>\n",
              "      \n",
              "  <style>\n",
              "    .colab-df-container {\n",
              "      display:flex;\n",
              "      flex-wrap:wrap;\n",
              "      gap: 12px;\n",
              "    }\n",
              "\n",
              "    .colab-df-convert {\n",
              "      background-color: #E8F0FE;\n",
              "      border: none;\n",
              "      border-radius: 50%;\n",
              "      cursor: pointer;\n",
              "      display: none;\n",
              "      fill: #1967D2;\n",
              "      height: 32px;\n",
              "      padding: 0 0 0 0;\n",
              "      width: 32px;\n",
              "    }\n",
              "\n",
              "    .colab-df-convert:hover {\n",
              "      background-color: #E2EBFA;\n",
              "      box-shadow: 0px 1px 2px rgba(60, 64, 67, 0.3), 0px 1px 3px 1px rgba(60, 64, 67, 0.15);\n",
              "      fill: #174EA6;\n",
              "    }\n",
              "\n",
              "    [theme=dark] .colab-df-convert {\n",
              "      background-color: #3B4455;\n",
              "      fill: #D2E3FC;\n",
              "    }\n",
              "\n",
              "    [theme=dark] .colab-df-convert:hover {\n",
              "      background-color: #434B5C;\n",
              "      box-shadow: 0px 1px 3px 1px rgba(0, 0, 0, 0.15);\n",
              "      filter: drop-shadow(0px 1px 2px rgba(0, 0, 0, 0.3));\n",
              "      fill: #FFFFFF;\n",
              "    }\n",
              "  </style>\n",
              "\n",
              "      <script>\n",
              "        const buttonEl =\n",
              "          document.querySelector('#df-51e0ab37-4ff4-43b9-8a3c-01a24c847a0a button.colab-df-convert');\n",
              "        buttonEl.style.display =\n",
              "          google.colab.kernel.accessAllowed ? 'block' : 'none';\n",
              "\n",
              "        async function convertToInteractive(key) {\n",
              "          const element = document.querySelector('#df-51e0ab37-4ff4-43b9-8a3c-01a24c847a0a');\n",
              "          const dataTable =\n",
              "            await google.colab.kernel.invokeFunction('convertToInteractive',\n",
              "                                                     [key], {});\n",
              "          if (!dataTable) return;\n",
              "\n",
              "          const docLinkHtml = 'Like what you see? Visit the ' +\n",
              "            '<a target=\"_blank\" href=https://colab.research.google.com/notebooks/data_table.ipynb>data table notebook</a>'\n",
              "            + ' to learn more about interactive tables.';\n",
              "          element.innerHTML = '';\n",
              "          dataTable['output_type'] = 'display_data';\n",
              "          await google.colab.output.renderOutput(dataTable, element);\n",
              "          const docLink = document.createElement('div');\n",
              "          docLink.innerHTML = docLinkHtml;\n",
              "          element.appendChild(docLink);\n",
              "        }\n",
              "      </script>\n",
              "    </div>\n",
              "  </div>\n",
              "  "
            ]
          },
          "metadata": {},
          "execution_count": 25
        }
      ]
    },
    {
      "cell_type": "markdown",
      "source": [
        "#### 9. Balanceo de datos"
      ],
      "metadata": {
        "id": "M-qjpWwiG1Sp"
      }
    },
    {
      "cell_type": "markdown",
      "source": [
        "Utilizar el comando value_counts para obtener un detalle de cuantas instancias se tienen por actividad. El objetivo consiste en identificar la presencia del balance o desbalance en las categorías a modelar"
      ],
      "metadata": {
        "id": "S4lYXZC8H6vY"
      }
    },
    {
      "cell_type": "code",
      "source": [
        "data['activity'].value_counts()"
      ],
      "metadata": {
        "colab": {
          "base_uri": "https://localhost:8080/"
        },
        "id": "ubEvR9YuHXSh",
        "outputId": "f799a981-b58b-486a-8871-3362bb84489c"
      },
      "execution_count": null,
      "outputs": [
        {
          "output_type": "execute_result",
          "data": {
            "text/plain": [
              "Walking       137375\n",
              "Jogging       129392\n",
              "Upstairs       35137\n",
              "Downstairs     33358\n",
              "Sitting         4599\n",
              "Standing        3555\n",
              "Name: activity, dtype: int64"
            ]
          },
          "metadata": {},
          "execution_count": 26
        }
      ]
    },
    {
      "cell_type": "markdown",
      "source": [
        "Este proyecto considera datos con un desbalance de clases. Es necesario balancearlos para que los modelos operen de manera adecuada. Existen muchas maneras de realizar un balance, pero en este proyecto utilizaremos una estrategia sencilla e intuitiva. Simplemente debe identificar la actividad que contenga el número menor de instancias. Se debe realizar un muestreo para las otras actividades utilizando ese valor. De esta manera todas las clases tendrán la misma cantidad de instancias."
      ],
      "metadata": {
        "id": "1NBlT0ocJb9f"
      }
    },
    {
      "cell_type": "code",
      "source": [
        "Walking = df[df['activity']=='Walking'].head(3555).copy()\n",
        "Jogging = df[df['activity']=='Jogging'].head(3555).copy()\n",
        "Upstairs = df[df['activity']=='Upstairs'].head(3555).copy()\n",
        "Downstairs = df[df['activity']=='Downstairs'].head(3555).copy()\n",
        "Sitting = df[df['activity']=='Sitting'].head(3555).copy()\n",
        "Standing = df[df['activity']=='Standing'].copy()"
      ],
      "metadata": {
        "id": "ulLMYAJhJs56"
      },
      "execution_count": null,
      "outputs": []
    },
    {
      "cell_type": "markdown",
      "source": [
        "Establecer el número de instancias y dimensiones del data frame resultante *(shape)*."
      ],
      "metadata": {
        "id": "kkpKfmJxMltW"
      }
    },
    {
      "cell_type": "code",
      "source": [
        "balanced_data = pd.DataFrame()\n",
        "balanced_data = balanced_data.append([Walking, Jogging, Upstairs, Downstairs, Sitting, Standing])\n",
        "balanced_data.shape"
      ],
      "metadata": {
        "colab": {
          "base_uri": "https://localhost:8080/"
        },
        "id": "Cqf5aWJxKz_V",
        "outputId": "a1d62db0-3179-4f11-ef28-545887a7c30a"
      },
      "execution_count": null,
      "outputs": [
        {
          "output_type": "execute_result",
          "data": {
            "text/plain": [
              "(21330, 4)"
            ]
          },
          "metadata": {},
          "execution_count": 28
        }
      ]
    },
    {
      "cell_type": "markdown",
      "source": [
        "Volver a imprimir la cantidad de instancias por categoría para verificar que todo esté en orden. *(value_counts)*."
      ],
      "metadata": {
        "id": "H5XsJqo0McaE"
      }
    },
    {
      "cell_type": "code",
      "source": [
        "balanced_data['activity'].value_counts()"
      ],
      "metadata": {
        "colab": {
          "base_uri": "https://localhost:8080/"
        },
        "id": "jNnzNQrjLSf_",
        "outputId": "0ecc9597-e032-4115-8933-60078da87ef1"
      },
      "execution_count": null,
      "outputs": [
        {
          "output_type": "execute_result",
          "data": {
            "text/plain": [
              "Walking       3555\n",
              "Jogging       3555\n",
              "Upstairs      3555\n",
              "Downstairs    3555\n",
              "Sitting       3555\n",
              "Standing      3555\n",
              "Name: activity, dtype: int64"
            ]
          },
          "metadata": {},
          "execution_count": 29
        }
      ]
    },
    {
      "cell_type": "markdown",
      "source": [
        "Volver a visualizar las cinco primeras líneas del DataFrame para revisar que todo esté en orden *(head)*."
      ],
      "metadata": {
        "id": "Fi52ACHfMH_h"
      }
    },
    {
      "cell_type": "code",
      "source": [
        "balanced_data.head()"
      ],
      "metadata": {
        "colab": {
          "base_uri": "https://localhost:8080/"
        },
        "id": "07-CDrltLti_",
        "outputId": "3dd02be7-0d5d-424c-8505-5097ebc6cbd4"
      },
      "execution_count": null,
      "outputs": [
        {
          "output_type": "execute_result",
          "data": {
            "text/plain": [
              "    activity         x          y         z\n",
              "597  Walking  0.844462   8.008764  2.792171\n",
              "598  Walking  1.116869   8.621680  3.786457\n",
              "599  Walking -0.503953  16.657684  1.307553\n",
              "600  Walking  4.794363  10.760075 -1.184970\n",
              "601  Walking -0.040861   9.234595 -0.694638"
            ],
            "text/html": [
              "\n",
              "  <div id=\"df-86e27071-6d3f-4394-9010-4c9d4c451ac7\">\n",
              "    <div class=\"colab-df-container\">\n",
              "      <div>\n",
              "<style scoped>\n",
              "    .dataframe tbody tr th:only-of-type {\n",
              "        vertical-align: middle;\n",
              "    }\n",
              "\n",
              "    .dataframe tbody tr th {\n",
              "        vertical-align: top;\n",
              "    }\n",
              "\n",
              "    .dataframe thead th {\n",
              "        text-align: right;\n",
              "    }\n",
              "</style>\n",
              "<table border=\"1\" class=\"dataframe\">\n",
              "  <thead>\n",
              "    <tr style=\"text-align: right;\">\n",
              "      <th></th>\n",
              "      <th>activity</th>\n",
              "      <th>x</th>\n",
              "      <th>y</th>\n",
              "      <th>z</th>\n",
              "    </tr>\n",
              "  </thead>\n",
              "  <tbody>\n",
              "    <tr>\n",
              "      <th>597</th>\n",
              "      <td>Walking</td>\n",
              "      <td>0.844462</td>\n",
              "      <td>8.008764</td>\n",
              "      <td>2.792171</td>\n",
              "    </tr>\n",
              "    <tr>\n",
              "      <th>598</th>\n",
              "      <td>Walking</td>\n",
              "      <td>1.116869</td>\n",
              "      <td>8.621680</td>\n",
              "      <td>3.786457</td>\n",
              "    </tr>\n",
              "    <tr>\n",
              "      <th>599</th>\n",
              "      <td>Walking</td>\n",
              "      <td>-0.503953</td>\n",
              "      <td>16.657684</td>\n",
              "      <td>1.307553</td>\n",
              "    </tr>\n",
              "    <tr>\n",
              "      <th>600</th>\n",
              "      <td>Walking</td>\n",
              "      <td>4.794363</td>\n",
              "      <td>10.760075</td>\n",
              "      <td>-1.184970</td>\n",
              "    </tr>\n",
              "    <tr>\n",
              "      <th>601</th>\n",
              "      <td>Walking</td>\n",
              "      <td>-0.040861</td>\n",
              "      <td>9.234595</td>\n",
              "      <td>-0.694638</td>\n",
              "    </tr>\n",
              "  </tbody>\n",
              "</table>\n",
              "</div>\n",
              "      <button class=\"colab-df-convert\" onclick=\"convertToInteractive('df-86e27071-6d3f-4394-9010-4c9d4c451ac7')\"\n",
              "              title=\"Convert this dataframe to an interactive table.\"\n",
              "              style=\"display:none;\">\n",
              "        \n",
              "  <svg xmlns=\"http://www.w3.org/2000/svg\" height=\"24px\"viewBox=\"0 0 24 24\"\n",
              "       width=\"24px\">\n",
              "    <path d=\"M0 0h24v24H0V0z\" fill=\"none\"/>\n",
              "    <path d=\"M18.56 5.44l.94 2.06.94-2.06 2.06-.94-2.06-.94-.94-2.06-.94 2.06-2.06.94zm-11 1L8.5 8.5l.94-2.06 2.06-.94-2.06-.94L8.5 2.5l-.94 2.06-2.06.94zm10 10l.94 2.06.94-2.06 2.06-.94-2.06-.94-.94-2.06-.94 2.06-2.06.94z\"/><path d=\"M17.41 7.96l-1.37-1.37c-.4-.4-.92-.59-1.43-.59-.52 0-1.04.2-1.43.59L10.3 9.45l-7.72 7.72c-.78.78-.78 2.05 0 2.83L4 21.41c.39.39.9.59 1.41.59.51 0 1.02-.2 1.41-.59l7.78-7.78 2.81-2.81c.8-.78.8-2.07 0-2.86zM5.41 20L4 18.59l7.72-7.72 1.47 1.35L5.41 20z\"/>\n",
              "  </svg>\n",
              "      </button>\n",
              "      \n",
              "  <style>\n",
              "    .colab-df-container {\n",
              "      display:flex;\n",
              "      flex-wrap:wrap;\n",
              "      gap: 12px;\n",
              "    }\n",
              "\n",
              "    .colab-df-convert {\n",
              "      background-color: #E8F0FE;\n",
              "      border: none;\n",
              "      border-radius: 50%;\n",
              "      cursor: pointer;\n",
              "      display: none;\n",
              "      fill: #1967D2;\n",
              "      height: 32px;\n",
              "      padding: 0 0 0 0;\n",
              "      width: 32px;\n",
              "    }\n",
              "\n",
              "    .colab-df-convert:hover {\n",
              "      background-color: #E2EBFA;\n",
              "      box-shadow: 0px 1px 2px rgba(60, 64, 67, 0.3), 0px 1px 3px 1px rgba(60, 64, 67, 0.15);\n",
              "      fill: #174EA6;\n",
              "    }\n",
              "\n",
              "    [theme=dark] .colab-df-convert {\n",
              "      background-color: #3B4455;\n",
              "      fill: #D2E3FC;\n",
              "    }\n",
              "\n",
              "    [theme=dark] .colab-df-convert:hover {\n",
              "      background-color: #434B5C;\n",
              "      box-shadow: 0px 1px 3px 1px rgba(0, 0, 0, 0.15);\n",
              "      filter: drop-shadow(0px 1px 2px rgba(0, 0, 0, 0.3));\n",
              "      fill: #FFFFFF;\n",
              "    }\n",
              "  </style>\n",
              "\n",
              "      <script>\n",
              "        const buttonEl =\n",
              "          document.querySelector('#df-86e27071-6d3f-4394-9010-4c9d4c451ac7 button.colab-df-convert');\n",
              "        buttonEl.style.display =\n",
              "          google.colab.kernel.accessAllowed ? 'block' : 'none';\n",
              "\n",
              "        async function convertToInteractive(key) {\n",
              "          const element = document.querySelector('#df-86e27071-6d3f-4394-9010-4c9d4c451ac7');\n",
              "          const dataTable =\n",
              "            await google.colab.kernel.invokeFunction('convertToInteractive',\n",
              "                                                     [key], {});\n",
              "          if (!dataTable) return;\n",
              "\n",
              "          const docLinkHtml = 'Like what you see? Visit the ' +\n",
              "            '<a target=\"_blank\" href=https://colab.research.google.com/notebooks/data_table.ipynb>data table notebook</a>'\n",
              "            + ' to learn more about interactive tables.';\n",
              "          element.innerHTML = '';\n",
              "          dataTable['output_type'] = 'display_data';\n",
              "          await google.colab.output.renderOutput(dataTable, element);\n",
              "          const docLink = document.createElement('div');\n",
              "          docLink.innerHTML = docLinkHtml;\n",
              "          element.appendChild(docLink);\n",
              "        }\n",
              "      </script>\n",
              "    </div>\n",
              "  </div>\n",
              "  "
            ]
          },
          "metadata": {},
          "execution_count": 30
        }
      ]
    },
    {
      "cell_type": "markdown",
      "source": [
        "#### 10. Estandarización de los datos"
      ],
      "metadata": {
        "id": "VkSJEdP_UOT-"
      }
    },
    {
      "cell_type": "markdown",
      "source": [
        "Separar las variables predictoras (X) de las ctegorias o etiquetas (y)."
      ],
      "metadata": {
        "id": "Tji5HD-hU_UV"
      }
    },
    {
      "cell_type": "code",
      "source": [
        "X = balanced_data[['x', 'y', 'z']]\n",
        "y = balanced_data['activity']"
      ],
      "metadata": {
        "id": "Cxt6vdluVGkv"
      },
      "execution_count": null,
      "outputs": []
    },
    {
      "cell_type": "markdown",
      "source": [
        "Estandarizar los datos numericos (*StandardScaler)*:\n",
        "*Para el caso de la estandarización de los datos se pueden usar distintas técnicas, como la normalización 01, estandarización entre -1 y 1 o el denominado Z-Score. En este caso usaremos la función Standard Scaler de Python con sus valores por defecto.*"
      ],
      "metadata": {
        "id": "Eo7Z2E-6VMQu"
      }
    },
    {
      "cell_type": "code",
      "source": [
        "scaler = StandardScaler()\n",
        "X = scaler.fit_transform(X)\n",
        "\n",
        "datos = pd.DataFrame(data = X, columns = ['x', 'y', 'z'])\n",
        "\n",
        "datos.head()"
      ],
      "metadata": {
        "colab": {
          "base_uri": "https://localhost:8080/"
        },
        "id": "zWczUA9iV95M",
        "outputId": "e1dc18b4-7cdd-426e-b2fa-2d1fc30db1c4"
      },
      "execution_count": null,
      "outputs": [
        {
          "output_type": "execute_result",
          "data": {
            "text/plain": [
              "          x         y         z\n",
              "0  0.000503 -0.099190  0.337933\n",
              "1  0.073590  0.020386  0.633446\n",
              "2 -0.361275  1.588160 -0.103312\n",
              "3  1.060258  0.437573 -0.844119\n",
              "4 -0.237028  0.139962 -0.698386"
            ],
            "text/html": [
              "\n",
              "  <div id=\"df-c7bbf7a8-97b9-41e8-b6b2-d4e069a026db\">\n",
              "    <div class=\"colab-df-container\">\n",
              "      <div>\n",
              "<style scoped>\n",
              "    .dataframe tbody tr th:only-of-type {\n",
              "        vertical-align: middle;\n",
              "    }\n",
              "\n",
              "    .dataframe tbody tr th {\n",
              "        vertical-align: top;\n",
              "    }\n",
              "\n",
              "    .dataframe thead th {\n",
              "        text-align: right;\n",
              "    }\n",
              "</style>\n",
              "<table border=\"1\" class=\"dataframe\">\n",
              "  <thead>\n",
              "    <tr style=\"text-align: right;\">\n",
              "      <th></th>\n",
              "      <th>x</th>\n",
              "      <th>y</th>\n",
              "      <th>z</th>\n",
              "    </tr>\n",
              "  </thead>\n",
              "  <tbody>\n",
              "    <tr>\n",
              "      <th>0</th>\n",
              "      <td>0.000503</td>\n",
              "      <td>-0.099190</td>\n",
              "      <td>0.337933</td>\n",
              "    </tr>\n",
              "    <tr>\n",
              "      <th>1</th>\n",
              "      <td>0.073590</td>\n",
              "      <td>0.020386</td>\n",
              "      <td>0.633446</td>\n",
              "    </tr>\n",
              "    <tr>\n",
              "      <th>2</th>\n",
              "      <td>-0.361275</td>\n",
              "      <td>1.588160</td>\n",
              "      <td>-0.103312</td>\n",
              "    </tr>\n",
              "    <tr>\n",
              "      <th>3</th>\n",
              "      <td>1.060258</td>\n",
              "      <td>0.437573</td>\n",
              "      <td>-0.844119</td>\n",
              "    </tr>\n",
              "    <tr>\n",
              "      <th>4</th>\n",
              "      <td>-0.237028</td>\n",
              "      <td>0.139962</td>\n",
              "      <td>-0.698386</td>\n",
              "    </tr>\n",
              "  </tbody>\n",
              "</table>\n",
              "</div>\n",
              "      <button class=\"colab-df-convert\" onclick=\"convertToInteractive('df-c7bbf7a8-97b9-41e8-b6b2-d4e069a026db')\"\n",
              "              title=\"Convert this dataframe to an interactive table.\"\n",
              "              style=\"display:none;\">\n",
              "        \n",
              "  <svg xmlns=\"http://www.w3.org/2000/svg\" height=\"24px\"viewBox=\"0 0 24 24\"\n",
              "       width=\"24px\">\n",
              "    <path d=\"M0 0h24v24H0V0z\" fill=\"none\"/>\n",
              "    <path d=\"M18.56 5.44l.94 2.06.94-2.06 2.06-.94-2.06-.94-.94-2.06-.94 2.06-2.06.94zm-11 1L8.5 8.5l.94-2.06 2.06-.94-2.06-.94L8.5 2.5l-.94 2.06-2.06.94zm10 10l.94 2.06.94-2.06 2.06-.94-2.06-.94-.94-2.06-.94 2.06-2.06.94z\"/><path d=\"M17.41 7.96l-1.37-1.37c-.4-.4-.92-.59-1.43-.59-.52 0-1.04.2-1.43.59L10.3 9.45l-7.72 7.72c-.78.78-.78 2.05 0 2.83L4 21.41c.39.39.9.59 1.41.59.51 0 1.02-.2 1.41-.59l7.78-7.78 2.81-2.81c.8-.78.8-2.07 0-2.86zM5.41 20L4 18.59l7.72-7.72 1.47 1.35L5.41 20z\"/>\n",
              "  </svg>\n",
              "      </button>\n",
              "      \n",
              "  <style>\n",
              "    .colab-df-container {\n",
              "      display:flex;\n",
              "      flex-wrap:wrap;\n",
              "      gap: 12px;\n",
              "    }\n",
              "\n",
              "    .colab-df-convert {\n",
              "      background-color: #E8F0FE;\n",
              "      border: none;\n",
              "      border-radius: 50%;\n",
              "      cursor: pointer;\n",
              "      display: none;\n",
              "      fill: #1967D2;\n",
              "      height: 32px;\n",
              "      padding: 0 0 0 0;\n",
              "      width: 32px;\n",
              "    }\n",
              "\n",
              "    .colab-df-convert:hover {\n",
              "      background-color: #E2EBFA;\n",
              "      box-shadow: 0px 1px 2px rgba(60, 64, 67, 0.3), 0px 1px 3px 1px rgba(60, 64, 67, 0.15);\n",
              "      fill: #174EA6;\n",
              "    }\n",
              "\n",
              "    [theme=dark] .colab-df-convert {\n",
              "      background-color: #3B4455;\n",
              "      fill: #D2E3FC;\n",
              "    }\n",
              "\n",
              "    [theme=dark] .colab-df-convert:hover {\n",
              "      background-color: #434B5C;\n",
              "      box-shadow: 0px 1px 3px 1px rgba(0, 0, 0, 0.15);\n",
              "      filter: drop-shadow(0px 1px 2px rgba(0, 0, 0, 0.3));\n",
              "      fill: #FFFFFF;\n",
              "    }\n",
              "  </style>\n",
              "\n",
              "      <script>\n",
              "        const buttonEl =\n",
              "          document.querySelector('#df-c7bbf7a8-97b9-41e8-b6b2-d4e069a026db button.colab-df-convert');\n",
              "        buttonEl.style.display =\n",
              "          google.colab.kernel.accessAllowed ? 'block' : 'none';\n",
              "\n",
              "        async function convertToInteractive(key) {\n",
              "          const element = document.querySelector('#df-c7bbf7a8-97b9-41e8-b6b2-d4e069a026db');\n",
              "          const dataTable =\n",
              "            await google.colab.kernel.invokeFunction('convertToInteractive',\n",
              "                                                     [key], {});\n",
              "          if (!dataTable) return;\n",
              "\n",
              "          const docLinkHtml = 'Like what you see? Visit the ' +\n",
              "            '<a target=\"_blank\" href=https://colab.research.google.com/notebooks/data_table.ipynb>data table notebook</a>'\n",
              "            + ' to learn more about interactive tables.';\n",
              "          element.innerHTML = '';\n",
              "          dataTable['output_type'] = 'display_data';\n",
              "          await google.colab.output.renderOutput(dataTable, element);\n",
              "          const docLink = document.createElement('div');\n",
              "          docLink.innerHTML = docLinkHtml;\n",
              "          element.appendChild(docLink);\n",
              "        }\n",
              "      </script>\n",
              "    </div>\n",
              "  </div>\n",
              "  "
            ]
          },
          "metadata": {},
          "execution_count": 36
        }
      ]
    },
    {
      "cell_type": "markdown",
      "source": [
        "#### 11. Como último paso debe reconstruir el dataframe pegando las columnas de los variables predicadores (X) y las categorías (y)."
      ],
      "metadata": {
        "id": "l5prICQkWNGi"
      }
    },
    {
      "cell_type": "markdown",
      "source": [
        "Transformación de la etiqueta \"y\" a predecir"
      ],
      "metadata": {
        "id": "SoO-_bjIlleI"
      }
    },
    {
      "cell_type": "code",
      "source": [
        "etiqueta = LabelEncoder()\n",
        "datos['etiqueta'] = etiqueta.fit_transform(y)\n",
        "etiqueta.classes_"
      ],
      "metadata": {
        "id": "D1RmKA33mKC-",
        "outputId": "7ce80f40-3bf9-42db-8be0-88d6a5bcaf2b",
        "colab": {
          "base_uri": "https://localhost:8080/"
        }
      },
      "execution_count": null,
      "outputs": [
        {
          "output_type": "execute_result",
          "data": {
            "text/plain": [
              "array(['Downstairs', 'Jogging', 'Sitting', 'Standing', 'Upstairs',\n",
              "       'Walking'], dtype=object)"
            ]
          },
          "metadata": {},
          "execution_count": 37
        }
      ]
    },
    {
      "cell_type": "markdown",
      "source": [
        "Reconstrucción del dataframe con la nueva columna."
      ],
      "metadata": {
        "id": "twESL7ebsuux"
      }
    },
    {
      "cell_type": "code",
      "source": [
        "datos.head()"
      ],
      "metadata": {
        "colab": {
          "base_uri": "https://localhost:8080/"
        },
        "id": "AiihsUgfWZrl",
        "outputId": "a5b4eee1-dbf8-437a-f5ae-e8165636cf06"
      },
      "execution_count": null,
      "outputs": [
        {
          "output_type": "execute_result",
          "data": {
            "text/plain": [
              "          x         y         z  etiqueta\n",
              "0  0.000503 -0.099190  0.337933         5\n",
              "1  0.073590  0.020386  0.633446         5\n",
              "2 -0.361275  1.588160 -0.103312         5\n",
              "3  1.060258  0.437573 -0.844119         5\n",
              "4 -0.237028  0.139962 -0.698386         5"
            ],
            "text/html": [
              "\n",
              "  <div id=\"df-bdc1e0ef-3c03-46c7-a2a7-a340a9dd7d72\">\n",
              "    <div class=\"colab-df-container\">\n",
              "      <div>\n",
              "<style scoped>\n",
              "    .dataframe tbody tr th:only-of-type {\n",
              "        vertical-align: middle;\n",
              "    }\n",
              "\n",
              "    .dataframe tbody tr th {\n",
              "        vertical-align: top;\n",
              "    }\n",
              "\n",
              "    .dataframe thead th {\n",
              "        text-align: right;\n",
              "    }\n",
              "</style>\n",
              "<table border=\"1\" class=\"dataframe\">\n",
              "  <thead>\n",
              "    <tr style=\"text-align: right;\">\n",
              "      <th></th>\n",
              "      <th>x</th>\n",
              "      <th>y</th>\n",
              "      <th>z</th>\n",
              "      <th>etiqueta</th>\n",
              "    </tr>\n",
              "  </thead>\n",
              "  <tbody>\n",
              "    <tr>\n",
              "      <th>0</th>\n",
              "      <td>0.000503</td>\n",
              "      <td>-0.099190</td>\n",
              "      <td>0.337933</td>\n",
              "      <td>5</td>\n",
              "    </tr>\n",
              "    <tr>\n",
              "      <th>1</th>\n",
              "      <td>0.073590</td>\n",
              "      <td>0.020386</td>\n",
              "      <td>0.633446</td>\n",
              "      <td>5</td>\n",
              "    </tr>\n",
              "    <tr>\n",
              "      <th>2</th>\n",
              "      <td>-0.361275</td>\n",
              "      <td>1.588160</td>\n",
              "      <td>-0.103312</td>\n",
              "      <td>5</td>\n",
              "    </tr>\n",
              "    <tr>\n",
              "      <th>3</th>\n",
              "      <td>1.060258</td>\n",
              "      <td>0.437573</td>\n",
              "      <td>-0.844119</td>\n",
              "      <td>5</td>\n",
              "    </tr>\n",
              "    <tr>\n",
              "      <th>4</th>\n",
              "      <td>-0.237028</td>\n",
              "      <td>0.139962</td>\n",
              "      <td>-0.698386</td>\n",
              "      <td>5</td>\n",
              "    </tr>\n",
              "  </tbody>\n",
              "</table>\n",
              "</div>\n",
              "      <button class=\"colab-df-convert\" onclick=\"convertToInteractive('df-bdc1e0ef-3c03-46c7-a2a7-a340a9dd7d72')\"\n",
              "              title=\"Convert this dataframe to an interactive table.\"\n",
              "              style=\"display:none;\">\n",
              "        \n",
              "  <svg xmlns=\"http://www.w3.org/2000/svg\" height=\"24px\"viewBox=\"0 0 24 24\"\n",
              "       width=\"24px\">\n",
              "    <path d=\"M0 0h24v24H0V0z\" fill=\"none\"/>\n",
              "    <path d=\"M18.56 5.44l.94 2.06.94-2.06 2.06-.94-2.06-.94-.94-2.06-.94 2.06-2.06.94zm-11 1L8.5 8.5l.94-2.06 2.06-.94-2.06-.94L8.5 2.5l-.94 2.06-2.06.94zm10 10l.94 2.06.94-2.06 2.06-.94-2.06-.94-.94-2.06-.94 2.06-2.06.94z\"/><path d=\"M17.41 7.96l-1.37-1.37c-.4-.4-.92-.59-1.43-.59-.52 0-1.04.2-1.43.59L10.3 9.45l-7.72 7.72c-.78.78-.78 2.05 0 2.83L4 21.41c.39.39.9.59 1.41.59.51 0 1.02-.2 1.41-.59l7.78-7.78 2.81-2.81c.8-.78.8-2.07 0-2.86zM5.41 20L4 18.59l7.72-7.72 1.47 1.35L5.41 20z\"/>\n",
              "  </svg>\n",
              "      </button>\n",
              "      \n",
              "  <style>\n",
              "    .colab-df-container {\n",
              "      display:flex;\n",
              "      flex-wrap:wrap;\n",
              "      gap: 12px;\n",
              "    }\n",
              "\n",
              "    .colab-df-convert {\n",
              "      background-color: #E8F0FE;\n",
              "      border: none;\n",
              "      border-radius: 50%;\n",
              "      cursor: pointer;\n",
              "      display: none;\n",
              "      fill: #1967D2;\n",
              "      height: 32px;\n",
              "      padding: 0 0 0 0;\n",
              "      width: 32px;\n",
              "    }\n",
              "\n",
              "    .colab-df-convert:hover {\n",
              "      background-color: #E2EBFA;\n",
              "      box-shadow: 0px 1px 2px rgba(60, 64, 67, 0.3), 0px 1px 3px 1px rgba(60, 64, 67, 0.15);\n",
              "      fill: #174EA6;\n",
              "    }\n",
              "\n",
              "    [theme=dark] .colab-df-convert {\n",
              "      background-color: #3B4455;\n",
              "      fill: #D2E3FC;\n",
              "    }\n",
              "\n",
              "    [theme=dark] .colab-df-convert:hover {\n",
              "      background-color: #434B5C;\n",
              "      box-shadow: 0px 1px 3px 1px rgba(0, 0, 0, 0.15);\n",
              "      filter: drop-shadow(0px 1px 2px rgba(0, 0, 0, 0.3));\n",
              "      fill: #FFFFFF;\n",
              "    }\n",
              "  </style>\n",
              "\n",
              "      <script>\n",
              "        const buttonEl =\n",
              "          document.querySelector('#df-bdc1e0ef-3c03-46c7-a2a7-a340a9dd7d72 button.colab-df-convert');\n",
              "        buttonEl.style.display =\n",
              "          google.colab.kernel.accessAllowed ? 'block' : 'none';\n",
              "\n",
              "        async function convertToInteractive(key) {\n",
              "          const element = document.querySelector('#df-bdc1e0ef-3c03-46c7-a2a7-a340a9dd7d72');\n",
              "          const dataTable =\n",
              "            await google.colab.kernel.invokeFunction('convertToInteractive',\n",
              "                                                     [key], {});\n",
              "          if (!dataTable) return;\n",
              "\n",
              "          const docLinkHtml = 'Like what you see? Visit the ' +\n",
              "            '<a target=\"_blank\" href=https://colab.research.google.com/notebooks/data_table.ipynb>data table notebook</a>'\n",
              "            + ' to learn more about interactive tables.';\n",
              "          element.innerHTML = '';\n",
              "          dataTable['output_type'] = 'display_data';\n",
              "          await google.colab.output.renderOutput(dataTable, element);\n",
              "          const docLink = document.createElement('div');\n",
              "          docLink.innerHTML = docLinkHtml;\n",
              "          element.appendChild(docLink);\n",
              "        }\n",
              "      </script>\n",
              "    </div>\n",
              "  </div>\n",
              "  "
            ]
          },
          "metadata": {},
          "execution_count": 38
        }
      ]
    },
    {
      "cell_type": "markdown",
      "source": [
        "## **Entrega 03: EXPLORE**"
      ],
      "metadata": {
        "id": "onvujebclRpX"
      }
    },
    {
      "cell_type": "markdown",
      "source": [
        "En esta etapa se deberán examinar los datos."
      ],
      "metadata": {
        "id": "bS7BTCdDmPI_"
      }
    },
    {
      "cell_type": "markdown",
      "source": [
        "### Procedimiento\n",
        " A continuación, se detallan los pasos realizados en ésta etapa."
      ],
      "metadata": {
        "id": "AhO_SD8wlyYF"
      }
    },
    {
      "cell_type": "markdown",
      "source": [
        "#### 1. Comprobación de desequilibrios de datos"
      ],
      "metadata": {
        "id": "PZZX6vGhmjM8"
      }
    },
    {
      "cell_type": "markdown",
      "source": [
        "Recordar que el balanceo de datos y la eliminación de columnas que no se usarían se solicitó en la etapa anterior."
      ],
      "metadata": {
        "id": "f4wzTJbAWFFa"
      }
    },
    {
      "cell_type": "code",
      "source": [
        "# Gráfico de instancias por actividad. Hay 3555 por cada una.\n",
        "plt.title('Instancias por Actividad', fontsize=15)\n",
        "sns.countplot(datos.etiqueta)\n",
        "plt.xticks(rotation=90)\n",
        "plt.show()"
      ],
      "metadata": {
        "id": "Y7KrQEqUliJU",
        "colab": {
          "base_uri": "https://localhost:8080/",
          "height": 349
        },
        "outputId": "a6111c5f-f8ed-41cc-a869-d57712733204"
      },
      "execution_count": null,
      "outputs": [
        {
          "output_type": "stream",
          "name": "stderr",
          "text": [
            "/usr/local/lib/python3.7/dist-packages/seaborn/_decorators.py:43: FutureWarning: Pass the following variable as a keyword arg: x. From version 0.12, the only valid positional argument will be `data`, and passing other arguments without an explicit keyword will result in an error or misinterpretation.\n",
            "  FutureWarning\n"
          ]
        },
        {
          "output_type": "display_data",
          "data": {
            "text/plain": [
              "<Figure size 432x288 with 1 Axes>"
            ],
            "image/png": "[encoded data removed]"
          },
          "metadata": {
            "needs_background": "light"
          }
        }
      ]
    },
    {
      "cell_type": "code",
      "source": [
        "# Recordar que las etiquetas fueron convertidas en la etapa anterior y van del 0 al 5.\n",
        "# 0 es Downstairs y 5 es Walking\n",
        "etiqueta.classes_"
      ],
      "metadata": {
        "colab": {
          "base_uri": "https://localhost:8080/"
        },
        "id": "puudw4BVWy8G",
        "outputId": "8e3ace9f-45ff-4207-9c20-7a7a88a4afa6"
      },
      "execution_count": null,
      "outputs": [
        {
          "output_type": "execute_result",
          "data": {
            "text/plain": [
              "array(['Downstairs', 'Jogging', 'Sitting', 'Standing', 'Upstairs',\n",
              "       'Walking'], dtype=object)"
            ]
          },
          "metadata": {},
          "execution_count": 70
        }
      ]
    },
    {
      "cell_type": "markdown",
      "source": [
        "#### 2. Distribución de los datos"
      ],
      "metadata": {
        "id": "gZ6EWbQa_yCm"
      }
    },
    {
      "cell_type": "markdown",
      "source": [
        "No olvidar que los datos ya fueron escalados en la etapa anterior."
      ],
      "metadata": {
        "id": "NNuhvAXGBX9Z"
      }
    },
    {
      "cell_type": "code",
      "source": [
        "# Histograma de los datos en X\n",
        "plt.hist(datos.x)"
      ],
      "metadata": {
        "colab": {
          "base_uri": "https://localhost:8080/",
          "height": 369
        },
        "id": "kMR6L8QaYwpv",
        "outputId": "9673ebf6-7b5b-4c94-9c53-b59e61643bcc"
      },
      "execution_count": null,
      "outputs": [
        {
          "output_type": "execute_result",
          "data": {
            "text/plain": [
              "(array([  43.,  180., 2105., 3205., 8661., 5385., 1130.,  410.,  169.,\n",
              "          42.]),\n",
              " array([-4.04849076, -3.1637782 , -2.27906564, -1.39435308, -0.50964052,\n",
              "         0.37507203,  1.25978459,  2.14449715,  3.02920971,  3.91392226,\n",
              "         4.79863482]),\n",
              " <a list of 10 Patch objects>)"
            ]
          },
          "metadata": {},
          "execution_count": 81
        },
        {
          "output_type": "display_data",
          "data": {
            "text/plain": [
              "<Figure size 432x288 with 1 Axes>"
            ],
            "image/png": "[encoded data removed]"
          },
          "metadata": {
            "needs_background": "light"
          }
        }
      ]
    },
    {
      "cell_type": "code",
      "source": [
        "# Histograma de los datos en Y\n",
        "plt.hist(datos.y)"
      ],
      "metadata": {
        "colab": {
          "base_uri": "https://localhost:8080/",
          "height": 369
        },
        "id": "OtIA7N8-aEys",
        "outputId": "56c93d82-f580-44b5-b560-f71787f1f08d"
      },
      "execution_count": null,
      "outputs": [
        {
          "output_type": "execute_result",
          "data": {
            "text/plain": [
              "(array([  39.,   87.,  106., 1650., 1010., 2319., 8179., 4700., 1963.,\n",
              "        1277.]),\n",
              " array([-4.28435117, -3.64023495, -2.99611874, -2.35200252, -1.7078863 ,\n",
              "        -1.06377009, -0.41965387,  0.22446235,  0.86857856,  1.51269478,\n",
              "         2.156811  ]),\n",
              " <a list of 10 Patch objects>)"
            ]
          },
          "metadata": {},
          "execution_count": 82
        },
        {
          "output_type": "display_data",
          "data": {
            "text/plain": [
              "<Figure size 432x288 with 1 Axes>"
            ],
            "image/png": "[encoded data removed]"
          },
          "metadata": {
            "needs_background": "light"
          }
        }
      ]
    },
    {
      "cell_type": "code",
      "source": [
        "# Histograma de los datos en Z\n",
        "plt.hist(datos.z)"
      ],
      "metadata": {
        "colab": {
          "base_uri": "https://localhost:8080/",
          "height": 369
        },
        "id": "Qf1qB5NzaJxr",
        "outputId": "32bafb0d-57b4-45e5-d6aa-21b6a26c3822"
      },
      "execution_count": null,
      "outputs": [
        {
          "output_type": "execute_result",
          "data": {
            "text/plain": [
              "(array([  23.,   78.,  276., 1747., 9343., 6552., 2457.,  715.,   95.,\n",
              "          44.]),\n",
              " array([-4.94486852, -3.96684179, -2.98881506, -2.01078833, -1.0327616 ,\n",
              "        -0.05473487,  0.92329187,  1.9013186 ,  2.87934533,  3.85737206,\n",
              "         4.83539879]),\n",
              " <a list of 10 Patch objects>)"
            ]
          },
          "metadata": {},
          "execution_count": 83
        },
        {
          "output_type": "display_data",
          "data": {
            "text/plain": [
              "<Figure size 432x288 with 1 Axes>"
            ],
            "image/png": "[encoded data removed]"
          },
          "metadata": {
            "needs_background": "light"
          }
        }
      ]
    },
    {
      "cell_type": "markdown",
      "source": [
        "#### 3. Gráfico de Cajas"
      ],
      "metadata": {
        "id": "dcUQllxPACww"
      }
    },
    {
      "cell_type": "code",
      "source": [
        "# Gráfico de Caja de X\n",
        "plt.figure(figsize=(7,7))\n",
        "sns.boxplot(x='etiqueta', y='x',data=datos, showfliers=False, saturation=1)\n",
        "plt.ylabel('Valores de X')\n",
        "plt.xticks(rotation=90)\n",
        "plt.show()"
      ],
      "metadata": {
        "colab": {
          "base_uri": "https://localhost:8080/",
          "height": 439
        },
        "id": "PrUH8tj7aQd9",
        "outputId": "28475c57-1fca-4420-ae6a-887214823981"
      },
      "execution_count": null,
      "outputs": [
        {
          "output_type": "display_data",
          "data": {
            "text/plain": [
              "<Figure size 504x504 with 1 Axes>"
            ],
            "image/png": "[encoded data removed]"
          },
          "metadata": {
            "needs_background": "light"
          }
        }
      ]
    },
    {
      "cell_type": "code",
      "source": [
        "# Gráfico de Caja de Y\n",
        "plt.figure(figsize=(7,7))\n",
        "sns.boxplot(x='etiqueta', y='y',data=datos, showfliers=False, saturation=1)\n",
        "plt.ylabel('Valores de y')\n",
        "plt.xticks(rotation=90)\n",
        "plt.show()"
      ],
      "metadata": {
        "colab": {
          "base_uri": "https://localhost:8080/",
          "height": 439
        },
        "id": "AydyIATiiMOg",
        "outputId": "43862a1e-7e57-4cfe-ba89-d36fab195ee1"
      },
      "execution_count": null,
      "outputs": [
        {
          "output_type": "display_data",
          "data": {
            "text/plain": [
              "<Figure size 504x504 with 1 Axes>"
            ],
            "image/png": "[encoded data removed]"
          },
          "metadata": {
            "needs_background": "light"
          }
        }
      ]
    },
    {
      "cell_type": "code",
      "source": [
        "# Gráfico de Caja de Z\n",
        "plt.figure(figsize=(7,7))\n",
        "sns.boxplot(x='etiqueta', y='z',data=datos, showfliers=False, saturation=1)\n",
        "plt.ylabel('Valores de Z')\n",
        "plt.xticks(rotation=90)\n",
        "plt.show()"
      ],
      "metadata": {
        "colab": {
          "base_uri": "https://localhost:8080/",
          "height": 439
        },
        "id": "kxER-ZdLitMU",
        "outputId": "cfbd9da8-2553-47ee-a075-a45ce715f392"
      },
      "execution_count": null,
      "outputs": [
        {
          "output_type": "display_data",
          "data": {
            "text/plain": [
              "<Figure size 504x504 with 1 Axes>"
            ],
            "image/png": "[encoded data removed]"
          },
          "metadata": {
            "needs_background": "light"
          }
        }
      ]
    },
    {
      "cell_type": "markdown",
      "source": [
        "## **Entrega 04: MODEL**"
      ],
      "metadata": {
        "id": "cHD9iNr8RfHY"
      }
    },
    {
      "cell_type": "markdown",
      "source": [
        "En esta etapa se deberá realizar el modelado, entrenamiento y prueba de los tres tipos de modelos a utilizar."
      ],
      "metadata": {
        "id": "OO2cp5yOSkF7"
      }
    },
    {
      "cell_type": "markdown",
      "source": [
        "### Procedimiento\n",
        "A continuación, se detallan los modelos realizados en ésta etapa."
      ],
      "metadata": {
        "id": "j8fXv4dfTGub"
      }
    },
    {
      "cell_type": "code",
      "source": [
        "from sklearn.svm import SVC #utilizar SVM\n",
        "from sklearn import metrics #para comprobar la precisión del modelo\n",
        "from sklearn.metrics import classification_report, confusion_matrix, precision_score\n",
        "from sklearn.model_selection import train_test_split #dividir en conjunto de entrenamiento y prueba.\n",
        "from sklearn.ensemble import RandomForestClassifier #utilizar Random Forest\n",
        "from sklearn import datasets #importar conjunto de datos\n",
        "import xgboost as xgb #utilizar xgboost"
      ],
      "metadata": {
        "id": "mvR_gWuvSLmr"
      },
      "execution_count": null,
      "outputs": []
    },
    {
      "cell_type": "markdown",
      "source": [
        "#### 1. SVM"
      ],
      "metadata": {
        "id": "6mJNaGeaTmQr"
      }
    },
    {
      "cell_type": "code",
      "source": [],
      "metadata": {
        "id": "xDdyz1llT-Ad"
      },
      "execution_count": null,
      "outputs": []
    },
    {
      "cell_type": "markdown",
      "source": [
        "#### 2. Random Forest"
      ],
      "metadata": {
        "id": "2NMZvhjdUAYd"
      }
    },
    {
      "cell_type": "code",
      "source": [],
      "metadata": {
        "id": "Q8uNwXJnUPIZ"
      },
      "execution_count": null,
      "outputs": []
    },
    {
      "cell_type": "markdown",
      "source": [
        "#### 3. XG Boost"
      ],
      "metadata": {
        "id": "TLdufxhPUQnv"
      }
    },
    {
      "cell_type": "code",
      "source": [],
      "metadata": {
        "id": "1CVBXAhOUXrF"
      },
      "execution_count": null,
      "outputs": []
    },
    {
      "cell_type": "markdown",
      "source": [
        "### Resultados"
      ],
      "metadata": {
        "id": "kPns0DghUvbA"
      }
    },
    {
      "cell_type": "markdown",
      "source": [
        "Tabla"
      ],
      "metadata": {
        "id": "QZX-nq7nU3w9"
      }
    }
  ]
}